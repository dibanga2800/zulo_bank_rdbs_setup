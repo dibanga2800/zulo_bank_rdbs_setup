{
 "cells": [
  {
   "cell_type": "code",
   "execution_count": null,
   "id": "4015c9e6",
   "metadata": {},
   "outputs": [],
   "source": [
    "#Importing necessary dependencies\n",
    "import pandas as pd\n",
    "from datetime import datetime, timedelta"
   ]
  },
  {
   "cell_type": "code",
   "execution_count": null,
   "id": "7cfc8f0d",
   "metadata": {},
   "outputs": [],
   "source": [
    "#Reading the dataset into dataframes\n",
    "zulo_bank = pd.read_csv(r'Dataset\\zulo_bank.csv')"
   ]
  },
  {
   "cell_type": "code",
   "execution_count": null,
   "id": "1a3141be",
   "metadata": {},
   "outputs": [
    {
     "data": {
      "application/vnd.microsoft.datawrangler.viewer.v0+json": {
       "columns": [
        {
         "name": "index",
         "rawType": "int64",
         "type": "integer"
        },
        {
         "name": "FullName",
         "rawType": "object",
         "type": "string"
        },
        {
         "name": "Email",
         "rawType": "object",
         "type": "string"
        },
        {
         "name": "Phone",
         "rawType": "object",
         "type": "string"
        },
        {
         "name": "TransactionType",
         "rawType": "object",
         "type": "string"
        },
        {
         "name": "Amount",
         "rawType": "float64",
         "type": "float"
        },
        {
         "name": "TransactionDate",
         "rawType": "object",
         "type": "string"
        },
        {
         "name": "AccountType",
         "rawType": "object",
         "type": "string"
        },
        {
         "name": "Balance",
         "rawType": "float64",
         "type": "float"
        },
        {
         "name": "OpeningDate",
         "rawType": "object",
         "type": "string"
        },
        {
         "name": "LoanAmount",
         "rawType": "float64",
         "type": "float"
        },
        {
         "name": "LoanType",
         "rawType": "object",
         "type": "unknown"
        },
        {
         "name": "StartDate",
         "rawType": "object",
         "type": "unknown"
        },
        {
         "name": "EndDate",
         "rawType": "object",
         "type": "unknown"
        },
        {
         "name": "InterestRate",
         "rawType": "float64",
         "type": "float"
        }
       ],
       "ref": "bdfb91fa-699b-4c74-bc1a-66a7a0226d90",
       "rows": [
        [
         "0",
         "Carol Miller",
         "yfisher@example.org",
         "6088279027",
         "withdrawal",
         "102.15",
         "2023-04-26",
         "Savings",
         "5652.16",
         "2019-08-12",
         null,
         null,
         null,
         null,
         null
        ],
        [
         "1",
         "Geoffrey Banks",
         "gonzalesgeorge@example.net",
         "001-546-857-6518x5359",
         "withdrawal",
         "358.8",
         "2020-06-13",
         "Credit",
         "2881.24",
         "2019-05-06",
         "32428.9",
         "Mortgage",
         "2021-06-24",
         "2050-01-08 04:59:17.907588",
         "2.12"
        ],
        [
         "2",
         "Geoffrey Banks",
         "gonzalesgeorge@example.net",
         "001-546-857-6518x5359",
         "withdrawal",
         "358.8",
         "2020-06-13",
         "Credit",
         "2881.24",
         "2019-05-06",
         "31406.77",
         "Personal",
         "2021-02-27",
         "2038-10-12 04:59:17.907821",
         "4.63"
        ],
        [
         "3",
         "Geoffrey Banks",
         "gonzalesgeorge@example.net",
         "001-546-857-6518x5359",
         "withdrawal",
         "358.8",
         "2020-06-13",
         "Credit",
         "2881.24",
         "2019-05-06",
         "27834.0",
         "Personal",
         "2019-12-05",
         "2037-08-15 04:59:17.909497",
         "2.15"
        ],
        [
         "4",
         "Geoffrey Banks",
         "gonzalesgeorge@example.net",
         "001-546-857-6518x5359",
         "withdrawal",
         "358.8",
         "2020-06-13",
         "Credit",
         "2881.24",
         "2019-05-06",
         "27873.08",
         "Auto",
         "2022-01-19",
         "2037-06-03 04:59:17.913974",
         "7.03"
        ]
       ],
       "shape": {
        "columns": 14,
        "rows": 5
       }
      },
      "text/html": [
       "<div>\n",
       "<style scoped>\n",
       "    .dataframe tbody tr th:only-of-type {\n",
       "        vertical-align: middle;\n",
       "    }\n",
       "\n",
       "    .dataframe tbody tr th {\n",
       "        vertical-align: top;\n",
       "    }\n",
       "\n",
       "    .dataframe thead th {\n",
       "        text-align: right;\n",
       "    }\n",
       "</style>\n",
       "<table border=\"1\" class=\"dataframe\">\n",
       "  <thead>\n",
       "    <tr style=\"text-align: right;\">\n",
       "      <th></th>\n",
       "      <th>FullName</th>\n",
       "      <th>Email</th>\n",
       "      <th>Phone</th>\n",
       "      <th>TransactionType</th>\n",
       "      <th>Amount</th>\n",
       "      <th>TransactionDate</th>\n",
       "      <th>AccountType</th>\n",
       "      <th>Balance</th>\n",
       "      <th>OpeningDate</th>\n",
       "      <th>LoanAmount</th>\n",
       "      <th>LoanType</th>\n",
       "      <th>StartDate</th>\n",
       "      <th>EndDate</th>\n",
       "      <th>InterestRate</th>\n",
       "    </tr>\n",
       "  </thead>\n",
       "  <tbody>\n",
       "    <tr>\n",
       "      <th>0</th>\n",
       "      <td>Carol Miller</td>\n",
       "      <td>yfisher@example.org</td>\n",
       "      <td>6088279027</td>\n",
       "      <td>withdrawal</td>\n",
       "      <td>102.15</td>\n",
       "      <td>2023-04-26</td>\n",
       "      <td>Savings</td>\n",
       "      <td>5652.16</td>\n",
       "      <td>2019-08-12</td>\n",
       "      <td>NaN</td>\n",
       "      <td>NaN</td>\n",
       "      <td>NaN</td>\n",
       "      <td>NaN</td>\n",
       "      <td>NaN</td>\n",
       "    </tr>\n",
       "    <tr>\n",
       "      <th>1</th>\n",
       "      <td>Geoffrey Banks</td>\n",
       "      <td>gonzalesgeorge@example.net</td>\n",
       "      <td>001-546-857-6518x5359</td>\n",
       "      <td>withdrawal</td>\n",
       "      <td>358.80</td>\n",
       "      <td>2020-06-13</td>\n",
       "      <td>Credit</td>\n",
       "      <td>2881.24</td>\n",
       "      <td>2019-05-06</td>\n",
       "      <td>32428.90</td>\n",
       "      <td>Mortgage</td>\n",
       "      <td>2021-06-24</td>\n",
       "      <td>2050-01-08 04:59:17.907588</td>\n",
       "      <td>2.12</td>\n",
       "    </tr>\n",
       "    <tr>\n",
       "      <th>2</th>\n",
       "      <td>Geoffrey Banks</td>\n",
       "      <td>gonzalesgeorge@example.net</td>\n",
       "      <td>001-546-857-6518x5359</td>\n",
       "      <td>withdrawal</td>\n",
       "      <td>358.80</td>\n",
       "      <td>2020-06-13</td>\n",
       "      <td>Credit</td>\n",
       "      <td>2881.24</td>\n",
       "      <td>2019-05-06</td>\n",
       "      <td>31406.77</td>\n",
       "      <td>Personal</td>\n",
       "      <td>2021-02-27</td>\n",
       "      <td>2038-10-12 04:59:17.907821</td>\n",
       "      <td>4.63</td>\n",
       "    </tr>\n",
       "    <tr>\n",
       "      <th>3</th>\n",
       "      <td>Geoffrey Banks</td>\n",
       "      <td>gonzalesgeorge@example.net</td>\n",
       "      <td>001-546-857-6518x5359</td>\n",
       "      <td>withdrawal</td>\n",
       "      <td>358.80</td>\n",
       "      <td>2020-06-13</td>\n",
       "      <td>Credit</td>\n",
       "      <td>2881.24</td>\n",
       "      <td>2019-05-06</td>\n",
       "      <td>27834.00</td>\n",
       "      <td>Personal</td>\n",
       "      <td>2019-12-05</td>\n",
       "      <td>2037-08-15 04:59:17.909497</td>\n",
       "      <td>2.15</td>\n",
       "    </tr>\n",
       "    <tr>\n",
       "      <th>4</th>\n",
       "      <td>Geoffrey Banks</td>\n",
       "      <td>gonzalesgeorge@example.net</td>\n",
       "      <td>001-546-857-6518x5359</td>\n",
       "      <td>withdrawal</td>\n",
       "      <td>358.80</td>\n",
       "      <td>2020-06-13</td>\n",
       "      <td>Credit</td>\n",
       "      <td>2881.24</td>\n",
       "      <td>2019-05-06</td>\n",
       "      <td>27873.08</td>\n",
       "      <td>Auto</td>\n",
       "      <td>2022-01-19</td>\n",
       "      <td>2037-06-03 04:59:17.913974</td>\n",
       "      <td>7.03</td>\n",
       "    </tr>\n",
       "  </tbody>\n",
       "</table>\n",
       "</div>"
      ],
      "text/plain": [
       "         FullName                       Email                  Phone  \\\n",
       "0    Carol Miller         yfisher@example.org             6088279027   \n",
       "1  Geoffrey Banks  gonzalesgeorge@example.net  001-546-857-6518x5359   \n",
       "2  Geoffrey Banks  gonzalesgeorge@example.net  001-546-857-6518x5359   \n",
       "3  Geoffrey Banks  gonzalesgeorge@example.net  001-546-857-6518x5359   \n",
       "4  Geoffrey Banks  gonzalesgeorge@example.net  001-546-857-6518x5359   \n",
       "\n",
       "  TransactionType  Amount TransactionDate AccountType  Balance OpeningDate  \\\n",
       "0      withdrawal  102.15      2023-04-26     Savings  5652.16  2019-08-12   \n",
       "1      withdrawal  358.80      2020-06-13      Credit  2881.24  2019-05-06   \n",
       "2      withdrawal  358.80      2020-06-13      Credit  2881.24  2019-05-06   \n",
       "3      withdrawal  358.80      2020-06-13      Credit  2881.24  2019-05-06   \n",
       "4      withdrawal  358.80      2020-06-13      Credit  2881.24  2019-05-06   \n",
       "\n",
       "   LoanAmount  LoanType   StartDate                     EndDate  InterestRate  \n",
       "0         NaN       NaN         NaN                         NaN           NaN  \n",
       "1    32428.90  Mortgage  2021-06-24  2050-01-08 04:59:17.907588          2.12  \n",
       "2    31406.77  Personal  2021-02-27  2038-10-12 04:59:17.907821          4.63  \n",
       "3    27834.00  Personal  2019-12-05  2037-08-15 04:59:17.909497          2.15  \n",
       "4    27873.08      Auto  2022-01-19  2037-06-03 04:59:17.913974          7.03  "
      ]
     },
     "metadata": {},
     "output_type": "display_data"
    }
   ],
   "source": [
    "#Viewing the first few rows of the dataset\n",
    "display(zulo_bank.head())"
   ]
  },
  {
   "cell_type": "code",
   "execution_count": 7,
   "id": "9f1a5c64",
   "metadata": {},
   "outputs": [
    {
     "name": "stdout",
     "output_type": "stream",
     "text": [
      "<class 'pandas.core.frame.DataFrame'>\n",
      "RangeIndex: 1554 entries, 0 to 1553\n",
      "Data columns (total 14 columns):\n",
      " #   Column           Non-Null Count  Dtype  \n",
      "---  ------           --------------  -----  \n",
      " 0   FullName         1554 non-null   object \n",
      " 1   Email            1554 non-null   object \n",
      " 2   Phone            1554 non-null   object \n",
      " 3   TransactionType  1554 non-null   object \n",
      " 4   Amount           1554 non-null   float64\n",
      " 5   TransactionDate  1554 non-null   object \n",
      " 6   AccountType      1554 non-null   object \n",
      " 7   Balance          1554 non-null   float64\n",
      " 8   OpeningDate      1554 non-null   object \n",
      " 9   LoanAmount       1278 non-null   float64\n",
      " 10  LoanType         1278 non-null   object \n",
      " 11  StartDate        1278 non-null   object \n",
      " 12  EndDate          1278 non-null   object \n",
      " 13  InterestRate     1278 non-null   float64\n",
      "dtypes: float64(4), object(10)\n",
      "memory usage: 170.1+ KB\n"
     ]
    }
   ],
   "source": [
    "#checking the data info\n",
    "zulo_bank.info()"
   ]
  },
  {
   "cell_type": "code",
   "execution_count": 8,
   "id": "1df49820",
   "metadata": {},
   "outputs": [],
   "source": [
    "# Fill up missing values with appropriate parameters\n",
    "zulo_bank.fillna({\n",
    "    'LoanAmount':0.0,\n",
    "    'LoanType': 'unknown',\n",
    "    'StartDate':'unknown',\n",
    "    'EndDate':'unknown',\n",
    "    'InterestRate':0.0\n",
    "}, inplace=True)"
   ]
  },
  {
   "cell_type": "code",
   "execution_count": 10,
   "id": "eb8f37b9",
   "metadata": {},
   "outputs": [
    {
     "name": "stdout",
     "output_type": "stream",
     "text": [
      "<class 'pandas.core.frame.DataFrame'>\n",
      "RangeIndex: 1554 entries, 0 to 1553\n",
      "Data columns (total 14 columns):\n",
      " #   Column           Non-Null Count  Dtype  \n",
      "---  ------           --------------  -----  \n",
      " 0   FullName         1554 non-null   object \n",
      " 1   Email            1554 non-null   object \n",
      " 2   Phone            1554 non-null   object \n",
      " 3   TransactionType  1554 non-null   object \n",
      " 4   Amount           1554 non-null   float64\n",
      " 5   TransactionDate  1554 non-null   object \n",
      " 6   AccountType      1554 non-null   object \n",
      " 7   Balance          1554 non-null   float64\n",
      " 8   OpeningDate      1554 non-null   object \n",
      " 9   LoanAmount       1554 non-null   float64\n",
      " 10  LoanType         1554 non-null   object \n",
      " 11  StartDate        1554 non-null   object \n",
      " 12  EndDate          1554 non-null   object \n",
      " 13  InterestRate     1554 non-null   float64\n",
      "dtypes: float64(4), object(10)\n",
      "memory usage: 170.1+ KB\n"
     ]
    }
   ],
   "source": [
    "zulo_bank.info()"
   ]
  },
  {
   "cell_type": "code",
   "execution_count": null,
   "id": "2e785da4",
   "metadata": {},
   "outputs": [
    {
     "data": {
      "application/vnd.microsoft.datawrangler.viewer.v0+json": {
       "columns": [
        {
         "name": "index",
         "rawType": "int64",
         "type": "integer"
        },
        {
         "name": "FullName",
         "rawType": "object",
         "type": "string"
        },
        {
         "name": "Email",
         "rawType": "object",
         "type": "string"
        },
        {
         "name": "Phone",
         "rawType": "object",
         "type": "string"
        },
        {
         "name": "TransactionType",
         "rawType": "object",
         "type": "string"
        },
        {
         "name": "Amount",
         "rawType": "float64",
         "type": "float"
        },
        {
         "name": "TransactionDate",
         "rawType": "object",
         "type": "string"
        },
        {
         "name": "AccountType",
         "rawType": "object",
         "type": "string"
        },
        {
         "name": "Balance",
         "rawType": "float64",
         "type": "float"
        },
        {
         "name": "OpeningDate",
         "rawType": "object",
         "type": "string"
        },
        {
         "name": "LoanAmount",
         "rawType": "float64",
         "type": "float"
        },
        {
         "name": "LoanType",
         "rawType": "object",
         "type": "string"
        },
        {
         "name": "StartDate",
         "rawType": "object",
         "type": "string"
        },
        {
         "name": "EndDate",
         "rawType": "object",
         "type": "string"
        },
        {
         "name": "InterestRate",
         "rawType": "float64",
         "type": "float"
        },
        {
         "name": "FirstName",
         "rawType": "object",
         "type": "string"
        },
        {
         "name": "LastName",
         "rawType": "object",
         "type": "string"
        }
       ],
       "ref": "8954e8ad-6409-43ab-abaf-ff6dc55ab9ec",
       "rows": [
        [
         "0",
         "Carol Miller",
         "yfisher@example.org",
         "6088279027",
         "withdrawal",
         "102.15",
         "2023-04-26",
         "Savings",
         "5652.16",
         "2019-08-12",
         "0.0",
         "unknown",
         "unknown",
         "unknown",
         "0.0",
         "Carol",
         "Miller"
        ],
        [
         "1",
         "Geoffrey Banks",
         "gonzalesgeorge@example.net",
         "001-546-857-6518x5359",
         "withdrawal",
         "358.8",
         "2020-06-13",
         "Credit",
         "2881.24",
         "2019-05-06",
         "32428.9",
         "Mortgage",
         "2021-06-24",
         "2050-01-08 04:59:17.907588",
         "2.12",
         "Geoffrey",
         "Banks"
        ],
        [
         "2",
         "Geoffrey Banks",
         "gonzalesgeorge@example.net",
         "001-546-857-6518x5359",
         "withdrawal",
         "358.8",
         "2020-06-13",
         "Credit",
         "2881.24",
         "2019-05-06",
         "31406.77",
         "Personal",
         "2021-02-27",
         "2038-10-12 04:59:17.907821",
         "4.63",
         "Geoffrey",
         "Banks"
        ],
        [
         "3",
         "Geoffrey Banks",
         "gonzalesgeorge@example.net",
         "001-546-857-6518x5359",
         "withdrawal",
         "358.8",
         "2020-06-13",
         "Credit",
         "2881.24",
         "2019-05-06",
         "27834.0",
         "Personal",
         "2019-12-05",
         "2037-08-15 04:59:17.909497",
         "2.15",
         "Geoffrey",
         "Banks"
        ],
        [
         "4",
         "Geoffrey Banks",
         "gonzalesgeorge@example.net",
         "001-546-857-6518x5359",
         "withdrawal",
         "358.8",
         "2020-06-13",
         "Credit",
         "2881.24",
         "2019-05-06",
         "27873.08",
         "Auto",
         "2022-01-19",
         "2037-06-03 04:59:17.913974",
         "7.03",
         "Geoffrey",
         "Banks"
        ]
       ],
       "shape": {
        "columns": 16,
        "rows": 5
       }
      },
      "text/html": [
       "<div>\n",
       "<style scoped>\n",
       "    .dataframe tbody tr th:only-of-type {\n",
       "        vertical-align: middle;\n",
       "    }\n",
       "\n",
       "    .dataframe tbody tr th {\n",
       "        vertical-align: top;\n",
       "    }\n",
       "\n",
       "    .dataframe thead th {\n",
       "        text-align: right;\n",
       "    }\n",
       "</style>\n",
       "<table border=\"1\" class=\"dataframe\">\n",
       "  <thead>\n",
       "    <tr style=\"text-align: right;\">\n",
       "      <th></th>\n",
       "      <th>FullName</th>\n",
       "      <th>Email</th>\n",
       "      <th>Phone</th>\n",
       "      <th>TransactionType</th>\n",
       "      <th>Amount</th>\n",
       "      <th>TransactionDate</th>\n",
       "      <th>AccountType</th>\n",
       "      <th>Balance</th>\n",
       "      <th>OpeningDate</th>\n",
       "      <th>LoanAmount</th>\n",
       "      <th>LoanType</th>\n",
       "      <th>StartDate</th>\n",
       "      <th>EndDate</th>\n",
       "      <th>InterestRate</th>\n",
       "      <th>FirstName</th>\n",
       "      <th>LastName</th>\n",
       "    </tr>\n",
       "  </thead>\n",
       "  <tbody>\n",
       "    <tr>\n",
       "      <th>0</th>\n",
       "      <td>Carol Miller</td>\n",
       "      <td>yfisher@example.org</td>\n",
       "      <td>6088279027</td>\n",
       "      <td>withdrawal</td>\n",
       "      <td>102.15</td>\n",
       "      <td>2023-04-26</td>\n",
       "      <td>Savings</td>\n",
       "      <td>5652.16</td>\n",
       "      <td>2019-08-12</td>\n",
       "      <td>0.00</td>\n",
       "      <td>unknown</td>\n",
       "      <td>unknown</td>\n",
       "      <td>unknown</td>\n",
       "      <td>0.00</td>\n",
       "      <td>Carol</td>\n",
       "      <td>Miller</td>\n",
       "    </tr>\n",
       "    <tr>\n",
       "      <th>1</th>\n",
       "      <td>Geoffrey Banks</td>\n",
       "      <td>gonzalesgeorge@example.net</td>\n",
       "      <td>001-546-857-6518x5359</td>\n",
       "      <td>withdrawal</td>\n",
       "      <td>358.80</td>\n",
       "      <td>2020-06-13</td>\n",
       "      <td>Credit</td>\n",
       "      <td>2881.24</td>\n",
       "      <td>2019-05-06</td>\n",
       "      <td>32428.90</td>\n",
       "      <td>Mortgage</td>\n",
       "      <td>2021-06-24</td>\n",
       "      <td>2050-01-08 04:59:17.907588</td>\n",
       "      <td>2.12</td>\n",
       "      <td>Geoffrey</td>\n",
       "      <td>Banks</td>\n",
       "    </tr>\n",
       "    <tr>\n",
       "      <th>2</th>\n",
       "      <td>Geoffrey Banks</td>\n",
       "      <td>gonzalesgeorge@example.net</td>\n",
       "      <td>001-546-857-6518x5359</td>\n",
       "      <td>withdrawal</td>\n",
       "      <td>358.80</td>\n",
       "      <td>2020-06-13</td>\n",
       "      <td>Credit</td>\n",
       "      <td>2881.24</td>\n",
       "      <td>2019-05-06</td>\n",
       "      <td>31406.77</td>\n",
       "      <td>Personal</td>\n",
       "      <td>2021-02-27</td>\n",
       "      <td>2038-10-12 04:59:17.907821</td>\n",
       "      <td>4.63</td>\n",
       "      <td>Geoffrey</td>\n",
       "      <td>Banks</td>\n",
       "    </tr>\n",
       "    <tr>\n",
       "      <th>3</th>\n",
       "      <td>Geoffrey Banks</td>\n",
       "      <td>gonzalesgeorge@example.net</td>\n",
       "      <td>001-546-857-6518x5359</td>\n",
       "      <td>withdrawal</td>\n",
       "      <td>358.80</td>\n",
       "      <td>2020-06-13</td>\n",
       "      <td>Credit</td>\n",
       "      <td>2881.24</td>\n",
       "      <td>2019-05-06</td>\n",
       "      <td>27834.00</td>\n",
       "      <td>Personal</td>\n",
       "      <td>2019-12-05</td>\n",
       "      <td>2037-08-15 04:59:17.909497</td>\n",
       "      <td>2.15</td>\n",
       "      <td>Geoffrey</td>\n",
       "      <td>Banks</td>\n",
       "    </tr>\n",
       "    <tr>\n",
       "      <th>4</th>\n",
       "      <td>Geoffrey Banks</td>\n",
       "      <td>gonzalesgeorge@example.net</td>\n",
       "      <td>001-546-857-6518x5359</td>\n",
       "      <td>withdrawal</td>\n",
       "      <td>358.80</td>\n",
       "      <td>2020-06-13</td>\n",
       "      <td>Credit</td>\n",
       "      <td>2881.24</td>\n",
       "      <td>2019-05-06</td>\n",
       "      <td>27873.08</td>\n",
       "      <td>Auto</td>\n",
       "      <td>2022-01-19</td>\n",
       "      <td>2037-06-03 04:59:17.913974</td>\n",
       "      <td>7.03</td>\n",
       "      <td>Geoffrey</td>\n",
       "      <td>Banks</td>\n",
       "    </tr>\n",
       "  </tbody>\n",
       "</table>\n",
       "</div>"
      ],
      "text/plain": [
       "         FullName                       Email                  Phone  \\\n",
       "0    Carol Miller         yfisher@example.org             6088279027   \n",
       "1  Geoffrey Banks  gonzalesgeorge@example.net  001-546-857-6518x5359   \n",
       "2  Geoffrey Banks  gonzalesgeorge@example.net  001-546-857-6518x5359   \n",
       "3  Geoffrey Banks  gonzalesgeorge@example.net  001-546-857-6518x5359   \n",
       "4  Geoffrey Banks  gonzalesgeorge@example.net  001-546-857-6518x5359   \n",
       "\n",
       "  TransactionType  Amount TransactionDate AccountType  Balance OpeningDate  \\\n",
       "0      withdrawal  102.15      2023-04-26     Savings  5652.16  2019-08-12   \n",
       "1      withdrawal  358.80      2020-06-13      Credit  2881.24  2019-05-06   \n",
       "2      withdrawal  358.80      2020-06-13      Credit  2881.24  2019-05-06   \n",
       "3      withdrawal  358.80      2020-06-13      Credit  2881.24  2019-05-06   \n",
       "4      withdrawal  358.80      2020-06-13      Credit  2881.24  2019-05-06   \n",
       "\n",
       "   LoanAmount  LoanType   StartDate                     EndDate  InterestRate  \\\n",
       "0        0.00   unknown     unknown                     unknown          0.00   \n",
       "1    32428.90  Mortgage  2021-06-24  2050-01-08 04:59:17.907588          2.12   \n",
       "2    31406.77  Personal  2021-02-27  2038-10-12 04:59:17.907821          4.63   \n",
       "3    27834.00  Personal  2019-12-05  2037-08-15 04:59:17.909497          2.15   \n",
       "4    27873.08      Auto  2022-01-19  2037-06-03 04:59:17.913974          7.03   \n",
       "\n",
       "  FirstName LastName  \n",
       "0     Carol   Miller  \n",
       "1  Geoffrey    Banks  \n",
       "2  Geoffrey    Banks  \n",
       "3  Geoffrey    Banks  \n",
       "4  Geoffrey    Banks  "
      ]
     },
     "metadata": {},
     "output_type": "display_data"
    }
   ],
   "source": [
    "#Convert to 1NF\n",
    "#Spliting the Fullname column into FirstName and LastName\n",
    "zulo_bank[['FirstName', 'LastName']] = zulo_bank['FullName'].str.split(expand=True)\n",
    "display(zulo_bank.head())"
   ]
  },
  {
   "cell_type": "code",
   "execution_count": null,
   "id": "42d8af7d",
   "metadata": {},
   "outputs": [],
   "source": []
  }
 ],
 "metadata": {
  "kernelspec": {
   "display_name": "base",
   "language": "python",
   "name": "python3"
  },
  "language_info": {
   "codemirror_mode": {
    "name": "ipython",
    "version": 3
   },
   "file_extension": ".py",
   "mimetype": "text/x-python",
   "name": "python",
   "nbconvert_exporter": "python",
   "pygments_lexer": "ipython3",
   "version": "3.12.7"
  }
 },
 "nbformat": 4,
 "nbformat_minor": 5
}
