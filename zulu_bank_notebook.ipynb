{
 "cells": [
  {
   "cell_type": "code",
   "execution_count": 122,
   "id": "4015c9e6",
   "metadata": {},
   "outputs": [],
   "source": [
    "#Importing necessary dependencies\n",
    "import pandas as pd\n",
    "from datetime import datetime, timedelta"
   ]
  },
  {
   "cell_type": "code",
   "execution_count": 123,
   "id": "7cfc8f0d",
   "metadata": {},
   "outputs": [],
   "source": [
    "#Reading the dataset into dataframes\n",
    "zulo_bank = pd.read_csv(r'Dataset\\zulo_bank.csv')"
   ]
  },
  {
   "cell_type": "code",
   "execution_count": 124,
   "id": "1a3141be",
   "metadata": {},
   "outputs": [
    {
     "data": {
      "application/vnd.microsoft.datawrangler.viewer.v0+json": {
       "columns": [
        {
         "name": "index",
         "rawType": "int64",
         "type": "integer"
        },
        {
         "name": "FullName",
         "rawType": "object",
         "type": "string"
        },
        {
         "name": "Email",
         "rawType": "object",
         "type": "string"
        },
        {
         "name": "Phone",
         "rawType": "object",
         "type": "string"
        },
        {
         "name": "TransactionType",
         "rawType": "object",
         "type": "string"
        },
        {
         "name": "Amount",
         "rawType": "float64",
         "type": "float"
        },
        {
         "name": "TransactionDate",
         "rawType": "object",
         "type": "string"
        },
        {
         "name": "AccountType",
         "rawType": "object",
         "type": "string"
        },
        {
         "name": "Balance",
         "rawType": "float64",
         "type": "float"
        },
        {
         "name": "OpeningDate",
         "rawType": "object",
         "type": "string"
        },
        {
         "name": "LoanAmount",
         "rawType": "float64",
         "type": "float"
        },
        {
         "name": "LoanType",
         "rawType": "object",
         "type": "unknown"
        },
        {
         "name": "StartDate",
         "rawType": "object",
         "type": "unknown"
        },
        {
         "name": "EndDate",
         "rawType": "object",
         "type": "unknown"
        },
        {
         "name": "InterestRate",
         "rawType": "float64",
         "type": "float"
        }
       ],
       "ref": "76902466-c5cf-440f-b32a-ceeabed060a0",
       "rows": [
        [
         "0",
         "Carol Miller",
         "yfisher@example.org",
         "6088279027",
         "withdrawal",
         "102.15",
         "2023-04-26",
         "Savings",
         "5652.16",
         "2019-08-12",
         null,
         null,
         null,
         null,
         null
        ],
        [
         "1",
         "Geoffrey Banks",
         "gonzalesgeorge@example.net",
         "001-546-857-6518x5359",
         "withdrawal",
         "358.8",
         "2020-06-13",
         "Credit",
         "2881.24",
         "2019-05-06",
         "32428.9",
         "Mortgage",
         "2021-06-24",
         "2050-01-08 04:59:17.907588",
         "2.12"
        ],
        [
         "2",
         "Geoffrey Banks",
         "gonzalesgeorge@example.net",
         "001-546-857-6518x5359",
         "withdrawal",
         "358.8",
         "2020-06-13",
         "Credit",
         "2881.24",
         "2019-05-06",
         "31406.77",
         "Personal",
         "2021-02-27",
         "2038-10-12 04:59:17.907821",
         "4.63"
        ],
        [
         "3",
         "Geoffrey Banks",
         "gonzalesgeorge@example.net",
         "001-546-857-6518x5359",
         "withdrawal",
         "358.8",
         "2020-06-13",
         "Credit",
         "2881.24",
         "2019-05-06",
         "27834.0",
         "Personal",
         "2019-12-05",
         "2037-08-15 04:59:17.909497",
         "2.15"
        ],
        [
         "4",
         "Geoffrey Banks",
         "gonzalesgeorge@example.net",
         "001-546-857-6518x5359",
         "withdrawal",
         "358.8",
         "2020-06-13",
         "Credit",
         "2881.24",
         "2019-05-06",
         "27873.08",
         "Auto",
         "2022-01-19",
         "2037-06-03 04:59:17.913974",
         "7.03"
        ]
       ],
       "shape": {
        "columns": 14,
        "rows": 5
       }
      },
      "text/html": [
       "<div>\n",
       "<style scoped>\n",
       "    .dataframe tbody tr th:only-of-type {\n",
       "        vertical-align: middle;\n",
       "    }\n",
       "\n",
       "    .dataframe tbody tr th {\n",
       "        vertical-align: top;\n",
       "    }\n",
       "\n",
       "    .dataframe thead th {\n",
       "        text-align: right;\n",
       "    }\n",
       "</style>\n",
       "<table border=\"1\" class=\"dataframe\">\n",
       "  <thead>\n",
       "    <tr style=\"text-align: right;\">\n",
       "      <th></th>\n",
       "      <th>FullName</th>\n",
       "      <th>Email</th>\n",
       "      <th>Phone</th>\n",
       "      <th>TransactionType</th>\n",
       "      <th>Amount</th>\n",
       "      <th>TransactionDate</th>\n",
       "      <th>AccountType</th>\n",
       "      <th>Balance</th>\n",
       "      <th>OpeningDate</th>\n",
       "      <th>LoanAmount</th>\n",
       "      <th>LoanType</th>\n",
       "      <th>StartDate</th>\n",
       "      <th>EndDate</th>\n",
       "      <th>InterestRate</th>\n",
       "    </tr>\n",
       "  </thead>\n",
       "  <tbody>\n",
       "    <tr>\n",
       "      <th>0</th>\n",
       "      <td>Carol Miller</td>\n",
       "      <td>yfisher@example.org</td>\n",
       "      <td>6088279027</td>\n",
       "      <td>withdrawal</td>\n",
       "      <td>102.15</td>\n",
       "      <td>2023-04-26</td>\n",
       "      <td>Savings</td>\n",
       "      <td>5652.16</td>\n",
       "      <td>2019-08-12</td>\n",
       "      <td>NaN</td>\n",
       "      <td>NaN</td>\n",
       "      <td>NaN</td>\n",
       "      <td>NaN</td>\n",
       "      <td>NaN</td>\n",
       "    </tr>\n",
       "    <tr>\n",
       "      <th>1</th>\n",
       "      <td>Geoffrey Banks</td>\n",
       "      <td>gonzalesgeorge@example.net</td>\n",
       "      <td>001-546-857-6518x5359</td>\n",
       "      <td>withdrawal</td>\n",
       "      <td>358.80</td>\n",
       "      <td>2020-06-13</td>\n",
       "      <td>Credit</td>\n",
       "      <td>2881.24</td>\n",
       "      <td>2019-05-06</td>\n",
       "      <td>32428.90</td>\n",
       "      <td>Mortgage</td>\n",
       "      <td>2021-06-24</td>\n",
       "      <td>2050-01-08 04:59:17.907588</td>\n",
       "      <td>2.12</td>\n",
       "    </tr>\n",
       "    <tr>\n",
       "      <th>2</th>\n",
       "      <td>Geoffrey Banks</td>\n",
       "      <td>gonzalesgeorge@example.net</td>\n",
       "      <td>001-546-857-6518x5359</td>\n",
       "      <td>withdrawal</td>\n",
       "      <td>358.80</td>\n",
       "      <td>2020-06-13</td>\n",
       "      <td>Credit</td>\n",
       "      <td>2881.24</td>\n",
       "      <td>2019-05-06</td>\n",
       "      <td>31406.77</td>\n",
       "      <td>Personal</td>\n",
       "      <td>2021-02-27</td>\n",
       "      <td>2038-10-12 04:59:17.907821</td>\n",
       "      <td>4.63</td>\n",
       "    </tr>\n",
       "    <tr>\n",
       "      <th>3</th>\n",
       "      <td>Geoffrey Banks</td>\n",
       "      <td>gonzalesgeorge@example.net</td>\n",
       "      <td>001-546-857-6518x5359</td>\n",
       "      <td>withdrawal</td>\n",
       "      <td>358.80</td>\n",
       "      <td>2020-06-13</td>\n",
       "      <td>Credit</td>\n",
       "      <td>2881.24</td>\n",
       "      <td>2019-05-06</td>\n",
       "      <td>27834.00</td>\n",
       "      <td>Personal</td>\n",
       "      <td>2019-12-05</td>\n",
       "      <td>2037-08-15 04:59:17.909497</td>\n",
       "      <td>2.15</td>\n",
       "    </tr>\n",
       "    <tr>\n",
       "      <th>4</th>\n",
       "      <td>Geoffrey Banks</td>\n",
       "      <td>gonzalesgeorge@example.net</td>\n",
       "      <td>001-546-857-6518x5359</td>\n",
       "      <td>withdrawal</td>\n",
       "      <td>358.80</td>\n",
       "      <td>2020-06-13</td>\n",
       "      <td>Credit</td>\n",
       "      <td>2881.24</td>\n",
       "      <td>2019-05-06</td>\n",
       "      <td>27873.08</td>\n",
       "      <td>Auto</td>\n",
       "      <td>2022-01-19</td>\n",
       "      <td>2037-06-03 04:59:17.913974</td>\n",
       "      <td>7.03</td>\n",
       "    </tr>\n",
       "  </tbody>\n",
       "</table>\n",
       "</div>"
      ],
      "text/plain": [
       "         FullName                       Email                  Phone  \\\n",
       "0    Carol Miller         yfisher@example.org             6088279027   \n",
       "1  Geoffrey Banks  gonzalesgeorge@example.net  001-546-857-6518x5359   \n",
       "2  Geoffrey Banks  gonzalesgeorge@example.net  001-546-857-6518x5359   \n",
       "3  Geoffrey Banks  gonzalesgeorge@example.net  001-546-857-6518x5359   \n",
       "4  Geoffrey Banks  gonzalesgeorge@example.net  001-546-857-6518x5359   \n",
       "\n",
       "  TransactionType  Amount TransactionDate AccountType  Balance OpeningDate  \\\n",
       "0      withdrawal  102.15      2023-04-26     Savings  5652.16  2019-08-12   \n",
       "1      withdrawal  358.80      2020-06-13      Credit  2881.24  2019-05-06   \n",
       "2      withdrawal  358.80      2020-06-13      Credit  2881.24  2019-05-06   \n",
       "3      withdrawal  358.80      2020-06-13      Credit  2881.24  2019-05-06   \n",
       "4      withdrawal  358.80      2020-06-13      Credit  2881.24  2019-05-06   \n",
       "\n",
       "   LoanAmount  LoanType   StartDate                     EndDate  InterestRate  \n",
       "0         NaN       NaN         NaN                         NaN           NaN  \n",
       "1    32428.90  Mortgage  2021-06-24  2050-01-08 04:59:17.907588          2.12  \n",
       "2    31406.77  Personal  2021-02-27  2038-10-12 04:59:17.907821          4.63  \n",
       "3    27834.00  Personal  2019-12-05  2037-08-15 04:59:17.909497          2.15  \n",
       "4    27873.08      Auto  2022-01-19  2037-06-03 04:59:17.913974          7.03  "
      ]
     },
     "metadata": {},
     "output_type": "display_data"
    }
   ],
   "source": [
    "#Viewing the first few rows of the dataset\n",
    "display(zulo_bank.head())"
   ]
  },
  {
   "cell_type": "code",
   "execution_count": 125,
   "id": "9f1a5c64",
   "metadata": {},
   "outputs": [
    {
     "name": "stdout",
     "output_type": "stream",
     "text": [
      "<class 'pandas.core.frame.DataFrame'>\n",
      "RangeIndex: 1554 entries, 0 to 1553\n",
      "Data columns (total 14 columns):\n",
      " #   Column           Non-Null Count  Dtype  \n",
      "---  ------           --------------  -----  \n",
      " 0   FullName         1554 non-null   object \n",
      " 1   Email            1554 non-null   object \n",
      " 2   Phone            1554 non-null   object \n",
      " 3   TransactionType  1554 non-null   object \n",
      " 4   Amount           1554 non-null   float64\n",
      " 5   TransactionDate  1554 non-null   object \n",
      " 6   AccountType      1554 non-null   object \n",
      " 7   Balance          1554 non-null   float64\n",
      " 8   OpeningDate      1554 non-null   object \n",
      " 9   LoanAmount       1278 non-null   float64\n",
      " 10  LoanType         1278 non-null   object \n",
      " 11  StartDate        1278 non-null   object \n",
      " 12  EndDate          1278 non-null   object \n",
      " 13  InterestRate     1278 non-null   float64\n",
      "dtypes: float64(4), object(10)\n",
      "memory usage: 170.1+ KB\n"
     ]
    }
   ],
   "source": [
    "#checking the data info\n",
    "zulo_bank.info()"
   ]
  },
  {
   "cell_type": "code",
   "execution_count": 126,
   "id": "1df49820",
   "metadata": {},
   "outputs": [],
   "source": [
    "# Fill up missing values with appropriate parameters\n",
    "zulo_bank.fillna({\n",
    "    'LoanAmount':0.0,\n",
    "    'LoanType': 'unknown',\n",
    "    'InterestRate':0.0\n",
    "}, inplace=True)"
   ]
  },
  {
   "cell_type": "code",
   "execution_count": 127,
   "id": "eb8f37b9",
   "metadata": {},
   "outputs": [
    {
     "name": "stdout",
     "output_type": "stream",
     "text": [
      "<class 'pandas.core.frame.DataFrame'>\n",
      "RangeIndex: 1554 entries, 0 to 1553\n",
      "Data columns (total 14 columns):\n",
      " #   Column           Non-Null Count  Dtype  \n",
      "---  ------           --------------  -----  \n",
      " 0   FullName         1554 non-null   object \n",
      " 1   Email            1554 non-null   object \n",
      " 2   Phone            1554 non-null   object \n",
      " 3   TransactionType  1554 non-null   object \n",
      " 4   Amount           1554 non-null   float64\n",
      " 5   TransactionDate  1554 non-null   object \n",
      " 6   AccountType      1554 non-null   object \n",
      " 7   Balance          1554 non-null   float64\n",
      " 8   OpeningDate      1554 non-null   object \n",
      " 9   LoanAmount       1554 non-null   float64\n",
      " 10  LoanType         1554 non-null   object \n",
      " 11  StartDate        1278 non-null   object \n",
      " 12  EndDate          1278 non-null   object \n",
      " 13  InterestRate     1554 non-null   float64\n",
      "dtypes: float64(4), object(10)\n",
      "memory usage: 170.1+ KB\n"
     ]
    }
   ],
   "source": [
    "zulo_bank.info()"
   ]
  },
  {
   "cell_type": "code",
   "execution_count": 128,
   "id": "2e785da4",
   "metadata": {},
   "outputs": [
    {
     "data": {
      "application/vnd.microsoft.datawrangler.viewer.v0+json": {
       "columns": [
        {
         "name": "index",
         "rawType": "int64",
         "type": "integer"
        },
        {
         "name": "FullName",
         "rawType": "object",
         "type": "string"
        },
        {
         "name": "Email",
         "rawType": "object",
         "type": "string"
        },
        {
         "name": "Phone",
         "rawType": "object",
         "type": "string"
        },
        {
         "name": "TransactionType",
         "rawType": "object",
         "type": "string"
        },
        {
         "name": "Amount",
         "rawType": "float64",
         "type": "float"
        },
        {
         "name": "TransactionDate",
         "rawType": "object",
         "type": "string"
        },
        {
         "name": "AccountType",
         "rawType": "object",
         "type": "string"
        },
        {
         "name": "Balance",
         "rawType": "float64",
         "type": "float"
        },
        {
         "name": "OpeningDate",
         "rawType": "object",
         "type": "string"
        },
        {
         "name": "LoanAmount",
         "rawType": "float64",
         "type": "float"
        },
        {
         "name": "LoanType",
         "rawType": "object",
         "type": "string"
        },
        {
         "name": "StartDate",
         "rawType": "object",
         "type": "unknown"
        },
        {
         "name": "EndDate",
         "rawType": "object",
         "type": "unknown"
        },
        {
         "name": "InterestRate",
         "rawType": "float64",
         "type": "float"
        },
        {
         "name": "FirstName",
         "rawType": "object",
         "type": "string"
        },
        {
         "name": "LastName",
         "rawType": "object",
         "type": "string"
        }
       ],
       "ref": "89b3ebeb-3fdb-4182-ad67-5eba97bcaefa",
       "rows": [
        [
         "0",
         "Carol Miller",
         "yfisher@example.org",
         "6088279027",
         "withdrawal",
         "102.15",
         "2023-04-26",
         "Savings",
         "5652.16",
         "2019-08-12",
         "0.0",
         "unknown",
         null,
         null,
         "0.0",
         "Carol",
         "Miller"
        ],
        [
         "1",
         "Geoffrey Banks",
         "gonzalesgeorge@example.net",
         "001-546-857-6518x5359",
         "withdrawal",
         "358.8",
         "2020-06-13",
         "Credit",
         "2881.24",
         "2019-05-06",
         "32428.9",
         "Mortgage",
         "2021-06-24",
         "2050-01-08 04:59:17.907588",
         "2.12",
         "Geoffrey",
         "Banks"
        ],
        [
         "2",
         "Geoffrey Banks",
         "gonzalesgeorge@example.net",
         "001-546-857-6518x5359",
         "withdrawal",
         "358.8",
         "2020-06-13",
         "Credit",
         "2881.24",
         "2019-05-06",
         "31406.77",
         "Personal",
         "2021-02-27",
         "2038-10-12 04:59:17.907821",
         "4.63",
         "Geoffrey",
         "Banks"
        ],
        [
         "3",
         "Geoffrey Banks",
         "gonzalesgeorge@example.net",
         "001-546-857-6518x5359",
         "withdrawal",
         "358.8",
         "2020-06-13",
         "Credit",
         "2881.24",
         "2019-05-06",
         "27834.0",
         "Personal",
         "2019-12-05",
         "2037-08-15 04:59:17.909497",
         "2.15",
         "Geoffrey",
         "Banks"
        ],
        [
         "4",
         "Geoffrey Banks",
         "gonzalesgeorge@example.net",
         "001-546-857-6518x5359",
         "withdrawal",
         "358.8",
         "2020-06-13",
         "Credit",
         "2881.24",
         "2019-05-06",
         "27873.08",
         "Auto",
         "2022-01-19",
         "2037-06-03 04:59:17.913974",
         "7.03",
         "Geoffrey",
         "Banks"
        ]
       ],
       "shape": {
        "columns": 16,
        "rows": 5
       }
      },
      "text/html": [
       "<div>\n",
       "<style scoped>\n",
       "    .dataframe tbody tr th:only-of-type {\n",
       "        vertical-align: middle;\n",
       "    }\n",
       "\n",
       "    .dataframe tbody tr th {\n",
       "        vertical-align: top;\n",
       "    }\n",
       "\n",
       "    .dataframe thead th {\n",
       "        text-align: right;\n",
       "    }\n",
       "</style>\n",
       "<table border=\"1\" class=\"dataframe\">\n",
       "  <thead>\n",
       "    <tr style=\"text-align: right;\">\n",
       "      <th></th>\n",
       "      <th>FullName</th>\n",
       "      <th>Email</th>\n",
       "      <th>Phone</th>\n",
       "      <th>TransactionType</th>\n",
       "      <th>Amount</th>\n",
       "      <th>TransactionDate</th>\n",
       "      <th>AccountType</th>\n",
       "      <th>Balance</th>\n",
       "      <th>OpeningDate</th>\n",
       "      <th>LoanAmount</th>\n",
       "      <th>LoanType</th>\n",
       "      <th>StartDate</th>\n",
       "      <th>EndDate</th>\n",
       "      <th>InterestRate</th>\n",
       "      <th>FirstName</th>\n",
       "      <th>LastName</th>\n",
       "    </tr>\n",
       "  </thead>\n",
       "  <tbody>\n",
       "    <tr>\n",
       "      <th>0</th>\n",
       "      <td>Carol Miller</td>\n",
       "      <td>yfisher@example.org</td>\n",
       "      <td>6088279027</td>\n",
       "      <td>withdrawal</td>\n",
       "      <td>102.15</td>\n",
       "      <td>2023-04-26</td>\n",
       "      <td>Savings</td>\n",
       "      <td>5652.16</td>\n",
       "      <td>2019-08-12</td>\n",
       "      <td>0.00</td>\n",
       "      <td>unknown</td>\n",
       "      <td>NaN</td>\n",
       "      <td>NaN</td>\n",
       "      <td>0.00</td>\n",
       "      <td>Carol</td>\n",
       "      <td>Miller</td>\n",
       "    </tr>\n",
       "    <tr>\n",
       "      <th>1</th>\n",
       "      <td>Geoffrey Banks</td>\n",
       "      <td>gonzalesgeorge@example.net</td>\n",
       "      <td>001-546-857-6518x5359</td>\n",
       "      <td>withdrawal</td>\n",
       "      <td>358.80</td>\n",
       "      <td>2020-06-13</td>\n",
       "      <td>Credit</td>\n",
       "      <td>2881.24</td>\n",
       "      <td>2019-05-06</td>\n",
       "      <td>32428.90</td>\n",
       "      <td>Mortgage</td>\n",
       "      <td>2021-06-24</td>\n",
       "      <td>2050-01-08 04:59:17.907588</td>\n",
       "      <td>2.12</td>\n",
       "      <td>Geoffrey</td>\n",
       "      <td>Banks</td>\n",
       "    </tr>\n",
       "    <tr>\n",
       "      <th>2</th>\n",
       "      <td>Geoffrey Banks</td>\n",
       "      <td>gonzalesgeorge@example.net</td>\n",
       "      <td>001-546-857-6518x5359</td>\n",
       "      <td>withdrawal</td>\n",
       "      <td>358.80</td>\n",
       "      <td>2020-06-13</td>\n",
       "      <td>Credit</td>\n",
       "      <td>2881.24</td>\n",
       "      <td>2019-05-06</td>\n",
       "      <td>31406.77</td>\n",
       "      <td>Personal</td>\n",
       "      <td>2021-02-27</td>\n",
       "      <td>2038-10-12 04:59:17.907821</td>\n",
       "      <td>4.63</td>\n",
       "      <td>Geoffrey</td>\n",
       "      <td>Banks</td>\n",
       "    </tr>\n",
       "    <tr>\n",
       "      <th>3</th>\n",
       "      <td>Geoffrey Banks</td>\n",
       "      <td>gonzalesgeorge@example.net</td>\n",
       "      <td>001-546-857-6518x5359</td>\n",
       "      <td>withdrawal</td>\n",
       "      <td>358.80</td>\n",
       "      <td>2020-06-13</td>\n",
       "      <td>Credit</td>\n",
       "      <td>2881.24</td>\n",
       "      <td>2019-05-06</td>\n",
       "      <td>27834.00</td>\n",
       "      <td>Personal</td>\n",
       "      <td>2019-12-05</td>\n",
       "      <td>2037-08-15 04:59:17.909497</td>\n",
       "      <td>2.15</td>\n",
       "      <td>Geoffrey</td>\n",
       "      <td>Banks</td>\n",
       "    </tr>\n",
       "    <tr>\n",
       "      <th>4</th>\n",
       "      <td>Geoffrey Banks</td>\n",
       "      <td>gonzalesgeorge@example.net</td>\n",
       "      <td>001-546-857-6518x5359</td>\n",
       "      <td>withdrawal</td>\n",
       "      <td>358.80</td>\n",
       "      <td>2020-06-13</td>\n",
       "      <td>Credit</td>\n",
       "      <td>2881.24</td>\n",
       "      <td>2019-05-06</td>\n",
       "      <td>27873.08</td>\n",
       "      <td>Auto</td>\n",
       "      <td>2022-01-19</td>\n",
       "      <td>2037-06-03 04:59:17.913974</td>\n",
       "      <td>7.03</td>\n",
       "      <td>Geoffrey</td>\n",
       "      <td>Banks</td>\n",
       "    </tr>\n",
       "  </tbody>\n",
       "</table>\n",
       "</div>"
      ],
      "text/plain": [
       "         FullName                       Email                  Phone  \\\n",
       "0    Carol Miller         yfisher@example.org             6088279027   \n",
       "1  Geoffrey Banks  gonzalesgeorge@example.net  001-546-857-6518x5359   \n",
       "2  Geoffrey Banks  gonzalesgeorge@example.net  001-546-857-6518x5359   \n",
       "3  Geoffrey Banks  gonzalesgeorge@example.net  001-546-857-6518x5359   \n",
       "4  Geoffrey Banks  gonzalesgeorge@example.net  001-546-857-6518x5359   \n",
       "\n",
       "  TransactionType  Amount TransactionDate AccountType  Balance OpeningDate  \\\n",
       "0      withdrawal  102.15      2023-04-26     Savings  5652.16  2019-08-12   \n",
       "1      withdrawal  358.80      2020-06-13      Credit  2881.24  2019-05-06   \n",
       "2      withdrawal  358.80      2020-06-13      Credit  2881.24  2019-05-06   \n",
       "3      withdrawal  358.80      2020-06-13      Credit  2881.24  2019-05-06   \n",
       "4      withdrawal  358.80      2020-06-13      Credit  2881.24  2019-05-06   \n",
       "\n",
       "   LoanAmount  LoanType   StartDate                     EndDate  InterestRate  \\\n",
       "0        0.00   unknown         NaN                         NaN          0.00   \n",
       "1    32428.90  Mortgage  2021-06-24  2050-01-08 04:59:17.907588          2.12   \n",
       "2    31406.77  Personal  2021-02-27  2038-10-12 04:59:17.907821          4.63   \n",
       "3    27834.00  Personal  2019-12-05  2037-08-15 04:59:17.909497          2.15   \n",
       "4    27873.08      Auto  2022-01-19  2037-06-03 04:59:17.913974          7.03   \n",
       "\n",
       "  FirstName LastName  \n",
       "0     Carol   Miller  \n",
       "1  Geoffrey    Banks  \n",
       "2  Geoffrey    Banks  \n",
       "3  Geoffrey    Banks  \n",
       "4  Geoffrey    Banks  "
      ]
     },
     "metadata": {},
     "output_type": "display_data"
    }
   ],
   "source": [
    "#Convert to 1NF\n",
    "#Spliting the Fullname column into FirstName and LastName\n",
    "zulo_bank[['FirstName', 'LastName']] = zulo_bank['FullName'].str.split(expand=True)\n",
    "display(zulo_bank.head())"
   ]
  },
  {
   "cell_type": "code",
   "execution_count": 129,
   "id": "5909c302",
   "metadata": {},
   "outputs": [],
   "source": [
    "#converting 1NF to 2NF\n",
    "#Customer table\n",
    "customer = zulo_bank[['FirstName', 'LastName', 'Email', 'Phone']].copy().drop_duplicates().reset_index(drop=True)\n",
    "customer['Customer_id'] = range(1, len(customer) + 1)\n",
    "customer = customer[['Customer_id', 'FirstName', 'LastName', 'Email', 'Phone']]"
   ]
  },
  {
   "cell_type": "code",
   "execution_count": 130,
   "id": "42d8af7d",
   "metadata": {},
   "outputs": [
    {
     "data": {
      "application/vnd.microsoft.datawrangler.viewer.v0+json": {
       "columns": [
        {
         "name": "index",
         "rawType": "int64",
         "type": "integer"
        },
        {
         "name": "Customer_id",
         "rawType": "int64",
         "type": "integer"
        },
        {
         "name": "FirstName",
         "rawType": "object",
         "type": "string"
        },
        {
         "name": "LastName",
         "rawType": "object",
         "type": "string"
        },
        {
         "name": "Email",
         "rawType": "object",
         "type": "string"
        },
        {
         "name": "Phone",
         "rawType": "object",
         "type": "string"
        }
       ],
       "ref": "dee9c5e5-dfd8-4d0d-9015-3fb203d3d06e",
       "rows": [
        [
         "0",
         "1",
         "Carol",
         "Miller",
         "yfisher@example.org",
         "6088279027"
        ],
        [
         "1",
         "2",
         "Geoffrey",
         "Banks",
         "gonzalesgeorge@example.net",
         "001-546-857-6518x5359"
        ],
        [
         "2",
         "3",
         "Eric",
         "Phillips",
         "mark13@example.com",
         "(699)516-7638x82918"
        ],
        [
         "3",
         "4",
         "Paul",
         "Noble",
         "harrisonrachel@example.net",
         "+1-586-758-3968x3144"
        ],
        [
         "4",
         "5",
         "Ryan",
         "Alexander",
         "loganjohn@example.org",
         "900.377.1792x148"
        ],
        [
         "5",
         "6",
         "Danny",
         "Brown",
         "michellearnold@example.org",
         "824-606-7014x9045"
        ],
        [
         "6",
         "7",
         "Desiree",
         "Nelson",
         "johnsonhaley@example.com",
         "231.515.3313"
        ],
        [
         "7",
         "8",
         "Martha",
         "Smith",
         "darlenegoodwin@example.net",
         "+1-665-427-6242x5731"
        ],
        [
         "8",
         "9",
         "Jesse",
         "Osborn",
         "dennis81@example.org",
         "(504)953-6008x457"
        ],
        [
         "9",
         "10",
         "Anita",
         "Park",
         "xpayne@example.net",
         "806-211-4478x986"
        ],
        [
         "10",
         "11",
         "Evelyn",
         "Ward",
         "paul13@example.org",
         "(347)767-4187"
        ],
        [
         "11",
         "12",
         "Sabrina",
         "Juarez",
         "patrick92@example.com",
         "715-732-5572x27771"
        ],
        [
         "12",
         "13",
         "Kyle",
         "Ortiz",
         "lambjacqueline@example.net",
         "(863)835-2860"
        ],
        [
         "13",
         "14",
         "Robert",
         "Brown",
         "andersonmason@example.net",
         "+1-653-515-2636x153"
        ],
        [
         "14",
         "15",
         "Jeremy",
         "Jacobs",
         "fmartinez@example.org",
         "001-331-228-0826x478"
        ],
        [
         "15",
         "16",
         "Daniel",
         "Edwards",
         "byoung@example.org",
         "+1-615-756-7330"
        ],
        [
         "16",
         "17",
         "Tommy",
         "Brooks",
         "burtonjames@example.com",
         "(534)691-4906"
        ],
        [
         "17",
         "18",
         "Carly",
         "Mitchell",
         "zachary24@example.org",
         "(728)923-5061"
        ],
        [
         "18",
         "19",
         "Sarah",
         "Green",
         "lnelson@example.net",
         "(390)584-3409x128"
        ],
        [
         "19",
         "20",
         "Norman",
         "Lee",
         "keithgarcia@example.org",
         "+1-225-907-5033"
        ],
        [
         "20",
         "21",
         "Valerie",
         "Cuevas",
         "brookscrystal@example.org",
         "760-896-1814x1067"
        ],
        [
         "21",
         "22",
         "Monica",
         "Graves",
         "xday@example.net",
         "402.918.5084x3030"
        ],
        [
         "22",
         "23",
         "Kim",
         "Stone",
         "garrett28@example.org",
         "001-668-236-9938"
        ],
        [
         "23",
         "24",
         "Shelby",
         "Smith",
         "carolyn11@example.com",
         "580.272.0301x65432"
        ],
        [
         "24",
         "25",
         "Eric",
         "Anderson",
         "spencer16@example.com",
         "851-945-5888"
        ],
        [
         "25",
         "26",
         "Jason",
         "Bennett",
         "joseph97@example.net",
         "(632)674-7662x30858"
        ],
        [
         "26",
         "27",
         "Sharon",
         "Dunn",
         "hillemily@example.org",
         "+1-257-930-5427x0665"
        ],
        [
         "27",
         "28",
         "Peter",
         "Callahan",
         "miranda13@example.org",
         "+1-790-969-3518"
        ],
        [
         "28",
         "29",
         "Heather",
         "Wright",
         "adamssheila@example.net",
         "850-282-6951x4975"
        ],
        [
         "29",
         "30",
         "Lauren",
         "Gray",
         "kenneth99@example.net",
         "218.715.2894x614"
        ],
        [
         "30",
         "31",
         "Stacy",
         "Oliver",
         "matthew64@example.net",
         "+1-520-295-6567x57281"
        ],
        [
         "31",
         "32",
         "Joseph",
         "Hernandez",
         "zmcbride@example.org",
         "+1-281-215-1718x809"
        ],
        [
         "32",
         "33",
         "Deborah",
         "Jenkins",
         "garciakerri@example.net",
         "776-598-8125x88442"
        ],
        [
         "33",
         "34",
         "Jason",
         "Martin",
         "isabella87@example.com",
         "+1-990-327-2307x7625"
        ],
        [
         "34",
         "35",
         "Charles",
         "Wise",
         "campossarah@example.net",
         "532.804.9131x538"
        ],
        [
         "35",
         "36",
         "Jasmin",
         "Palmer",
         "lucascharles@example.com",
         "827.703.9796x89557"
        ],
        [
         "36",
         "37",
         "Daniel",
         "Newman",
         "potterrichard@example.com",
         "001-541-774-7582x00497"
        ],
        [
         "37",
         "38",
         "Scott",
         "Collins",
         "veronica19@example.org",
         "001-449-712-6361x791"
        ],
        [
         "38",
         "39",
         "Jamie",
         "Stone",
         "derekhart@example.org",
         "473.393.2625x19595"
        ],
        [
         "39",
         "40",
         "Brian",
         "Dillon",
         "swilson@example.net",
         "001-699-957-2129x33878"
        ],
        [
         "40",
         "41",
         "Christopher",
         "Hale",
         "watsondarren@example.org",
         "+1-917-489-0869x753"
        ],
        [
         "41",
         "42",
         "Chad",
         "Jensen",
         "ambertaylor@example.org",
         "6576129629"
        ],
        [
         "42",
         "43",
         "Ethan",
         "Walker",
         "jessicashah@example.net",
         "001-586-722-3937x922"
        ],
        [
         "43",
         "44",
         "Brian",
         "Scott",
         "marquezgeorge@example.org",
         "001-925-602-1058x78333"
        ],
        [
         "44",
         "45",
         "Anthony",
         "Ray",
         "desiree14@example.org",
         "714-779-4050"
        ],
        [
         "45",
         "46",
         "Crystal",
         "George",
         "james32@example.com",
         "(934)652-9829"
        ],
        [
         "46",
         "47",
         "Francisco",
         "Potter",
         "joneschristine@example.org",
         "(564)921-3755x708"
        ],
        [
         "47",
         "48",
         "Anthony",
         "Moore",
         "rosariokevin@example.org",
         "(285)263-4804"
        ],
        [
         "48",
         "49",
         "David",
         "Rasmussen",
         "fburns@example.net",
         "9347152436"
        ],
        [
         "49",
         "50",
         "Christopher",
         "Harvey",
         "bryantsean@example.com",
         "430-515-7566"
        ]
       ],
       "shape": {
        "columns": 5,
        "rows": 87
       }
      },
      "text/html": [
       "<div>\n",
       "<style scoped>\n",
       "    .dataframe tbody tr th:only-of-type {\n",
       "        vertical-align: middle;\n",
       "    }\n",
       "\n",
       "    .dataframe tbody tr th {\n",
       "        vertical-align: top;\n",
       "    }\n",
       "\n",
       "    .dataframe thead th {\n",
       "        text-align: right;\n",
       "    }\n",
       "</style>\n",
       "<table border=\"1\" class=\"dataframe\">\n",
       "  <thead>\n",
       "    <tr style=\"text-align: right;\">\n",
       "      <th></th>\n",
       "      <th>Customer_id</th>\n",
       "      <th>FirstName</th>\n",
       "      <th>LastName</th>\n",
       "      <th>Email</th>\n",
       "      <th>Phone</th>\n",
       "    </tr>\n",
       "  </thead>\n",
       "  <tbody>\n",
       "    <tr>\n",
       "      <th>0</th>\n",
       "      <td>1</td>\n",
       "      <td>Carol</td>\n",
       "      <td>Miller</td>\n",
       "      <td>yfisher@example.org</td>\n",
       "      <td>6088279027</td>\n",
       "    </tr>\n",
       "    <tr>\n",
       "      <th>1</th>\n",
       "      <td>2</td>\n",
       "      <td>Geoffrey</td>\n",
       "      <td>Banks</td>\n",
       "      <td>gonzalesgeorge@example.net</td>\n",
       "      <td>001-546-857-6518x5359</td>\n",
       "    </tr>\n",
       "    <tr>\n",
       "      <th>2</th>\n",
       "      <td>3</td>\n",
       "      <td>Eric</td>\n",
       "      <td>Phillips</td>\n",
       "      <td>mark13@example.com</td>\n",
       "      <td>(699)516-7638x82918</td>\n",
       "    </tr>\n",
       "    <tr>\n",
       "      <th>3</th>\n",
       "      <td>4</td>\n",
       "      <td>Paul</td>\n",
       "      <td>Noble</td>\n",
       "      <td>harrisonrachel@example.net</td>\n",
       "      <td>+1-586-758-3968x3144</td>\n",
       "    </tr>\n",
       "    <tr>\n",
       "      <th>4</th>\n",
       "      <td>5</td>\n",
       "      <td>Ryan</td>\n",
       "      <td>Alexander</td>\n",
       "      <td>loganjohn@example.org</td>\n",
       "      <td>900.377.1792x148</td>\n",
       "    </tr>\n",
       "    <tr>\n",
       "      <th>...</th>\n",
       "      <td>...</td>\n",
       "      <td>...</td>\n",
       "      <td>...</td>\n",
       "      <td>...</td>\n",
       "      <td>...</td>\n",
       "    </tr>\n",
       "    <tr>\n",
       "      <th>82</th>\n",
       "      <td>83</td>\n",
       "      <td>Linda</td>\n",
       "      <td>Mendoza</td>\n",
       "      <td>lisaturner@example.net</td>\n",
       "      <td>(309)389-5448</td>\n",
       "    </tr>\n",
       "    <tr>\n",
       "      <th>83</th>\n",
       "      <td>84</td>\n",
       "      <td>Tony</td>\n",
       "      <td>Robinson</td>\n",
       "      <td>timothywiley@example.com</td>\n",
       "      <td>382-628-5059x479</td>\n",
       "    </tr>\n",
       "    <tr>\n",
       "      <th>84</th>\n",
       "      <td>85</td>\n",
       "      <td>Nicole</td>\n",
       "      <td>Stevens</td>\n",
       "      <td>colliermichael@example.net</td>\n",
       "      <td>(324)854-4855x79170</td>\n",
       "    </tr>\n",
       "    <tr>\n",
       "      <th>85</th>\n",
       "      <td>86</td>\n",
       "      <td>Philip</td>\n",
       "      <td>Huynh</td>\n",
       "      <td>bgraham@example.net</td>\n",
       "      <td>8058324167</td>\n",
       "    </tr>\n",
       "    <tr>\n",
       "      <th>86</th>\n",
       "      <td>87</td>\n",
       "      <td>Sheri</td>\n",
       "      <td>Johnson</td>\n",
       "      <td>michaelhahn@example.net</td>\n",
       "      <td>001-567-257-2127</td>\n",
       "    </tr>\n",
       "  </tbody>\n",
       "</table>\n",
       "<p>87 rows × 5 columns</p>\n",
       "</div>"
      ],
      "text/plain": [
       "    Customer_id FirstName   LastName                       Email  \\\n",
       "0             1     Carol     Miller         yfisher@example.org   \n",
       "1             2  Geoffrey      Banks  gonzalesgeorge@example.net   \n",
       "2             3      Eric   Phillips          mark13@example.com   \n",
       "3             4      Paul      Noble  harrisonrachel@example.net   \n",
       "4             5      Ryan  Alexander       loganjohn@example.org   \n",
       "..          ...       ...        ...                         ...   \n",
       "82           83     Linda    Mendoza      lisaturner@example.net   \n",
       "83           84      Tony   Robinson    timothywiley@example.com   \n",
       "84           85    Nicole    Stevens  colliermichael@example.net   \n",
       "85           86    Philip      Huynh         bgraham@example.net   \n",
       "86           87     Sheri    Johnson     michaelhahn@example.net   \n",
       "\n",
       "                    Phone  \n",
       "0              6088279027  \n",
       "1   001-546-857-6518x5359  \n",
       "2     (699)516-7638x82918  \n",
       "3    +1-586-758-3968x3144  \n",
       "4        900.377.1792x148  \n",
       "..                    ...  \n",
       "82          (309)389-5448  \n",
       "83       382-628-5059x479  \n",
       "84    (324)854-4855x79170  \n",
       "85             8058324167  \n",
       "86       001-567-257-2127  \n",
       "\n",
       "[87 rows x 5 columns]"
      ]
     },
     "execution_count": 130,
     "metadata": {},
     "output_type": "execute_result"
    }
   ],
   "source": [
    "customer"
   ]
  },
  {
   "cell_type": "code",
   "execution_count": 131,
   "id": "73475468",
   "metadata": {},
   "outputs": [
    {
     "name": "stderr",
     "output_type": "stream",
     "text": [
      "C:\\Users\\David Ibanga\\AppData\\Local\\Temp\\ipykernel_42652\\161174132.py:3: SettingWithCopyWarning: \n",
      "A value is trying to be set on a copy of a slice from a DataFrame.\n",
      "Try using .loc[row_indexer,col_indexer] = value instead\n",
      "\n",
      "See the caveats in the documentation: https://pandas.pydata.org/pandas-docs/stable/user_guide/indexing.html#returning-a-view-versus-a-copy\n",
      "  account['Account_id'] = range(1, len(account) + 1)\n"
     ]
    }
   ],
   "source": [
    "#Accounts table\n",
    "account = zulo_bank[['AccountType', 'Balance', 'OpeningDate']]\n",
    "account['Account_id'] = range(1, len(account) + 1)\n",
    "account = account[['Account_id', 'AccountType', 'Balance', 'OpeningDate']]"
   ]
  },
  {
   "cell_type": "code",
   "execution_count": 132,
   "id": "f7efda03",
   "metadata": {},
   "outputs": [
    {
     "data": {
      "application/vnd.microsoft.datawrangler.viewer.v0+json": {
       "columns": [
        {
         "name": "index",
         "rawType": "int64",
         "type": "integer"
        },
        {
         "name": "Account_id",
         "rawType": "int64",
         "type": "integer"
        },
        {
         "name": "AccountType",
         "rawType": "object",
         "type": "string"
        },
        {
         "name": "Balance",
         "rawType": "float64",
         "type": "float"
        },
        {
         "name": "OpeningDate",
         "rawType": "object",
         "type": "string"
        }
       ],
       "ref": "8a09f319-59f6-4b4a-a857-4f22f181f88e",
       "rows": [
        [
         "0",
         "1",
         "Savings",
         "5652.16",
         "2019-08-12"
        ],
        [
         "1",
         "2",
         "Credit",
         "2881.24",
         "2019-05-06"
        ],
        [
         "2",
         "3",
         "Credit",
         "2881.24",
         "2019-05-06"
        ],
        [
         "3",
         "4",
         "Credit",
         "2881.24",
         "2019-05-06"
        ],
        [
         "4",
         "5",
         "Credit",
         "2881.24",
         "2019-05-06"
        ],
        [
         "5",
         "6",
         "Savings",
         "2391.9",
         "2020-09-17"
        ],
        [
         "6",
         "7",
         "Savings",
         "2391.9",
         "2020-09-17"
        ],
        [
         "7",
         "8",
         "Savings",
         "2391.9",
         "2020-09-17"
        ],
        [
         "8",
         "9",
         "Credit",
         "7880.53",
         "2023-08-14"
        ],
        [
         "9",
         "10",
         "Credit",
         "7880.53",
         "2023-08-14"
        ],
        [
         "10",
         "11",
         "Credit",
         "3020.69",
         "2019-08-13"
        ],
        [
         "11",
         "12",
         "Savings",
         "947.43",
         "2022-05-06"
        ],
        [
         "12",
         "13",
         "Savings",
         "4492.62",
         "2020-08-31"
        ],
        [
         "13",
         "14",
         "Credit",
         "8439.15",
         "2020-11-05"
        ],
        [
         "14",
         "15",
         "Checking",
         "9232.35",
         "2022-06-13"
        ],
        [
         "15",
         "16",
         "Savings",
         "3717.19",
         "2019-08-19"
        ],
        [
         "16",
         "17",
         "Checking",
         "3721.97",
         "2022-10-25"
        ],
        [
         "17",
         "18",
         "Checking",
         "3721.97",
         "2022-10-25"
        ],
        [
         "18",
         "19",
         "Checking",
         "3721.97",
         "2022-10-25"
        ],
        [
         "19",
         "20",
         "Checking",
         "4532.51",
         "2022-09-08"
        ],
        [
         "20",
         "21",
         "Checking",
         "2448.6",
         "2022-11-04"
        ],
        [
         "21",
         "22",
         "Checking",
         "2448.6",
         "2022-11-04"
        ],
        [
         "22",
         "23",
         "Checking",
         "2448.6",
         "2022-11-04"
        ],
        [
         "23",
         "24",
         "Credit",
         "3020.69",
         "2019-08-13"
        ],
        [
         "24",
         "25",
         "Savings",
         "9772.03",
         "2020-07-30"
        ],
        [
         "25",
         "26",
         "Savings",
         "4846.99",
         "2021-08-24"
        ],
        [
         "26",
         "27",
         "Credit",
         "1496.1",
         "2021-06-16"
        ],
        [
         "27",
         "28",
         "Credit",
         "1496.1",
         "2021-06-16"
        ],
        [
         "28",
         "29",
         "Credit",
         "1496.1",
         "2021-06-16"
        ],
        [
         "29",
         "30",
         "Savings",
         "8268.0",
         "2021-01-09"
        ],
        [
         "30",
         "31",
         "Savings",
         "4315.64",
         "2023-04-09"
        ],
        [
         "31",
         "32",
         "Checking",
         "7676.38",
         "2021-05-26"
        ],
        [
         "32",
         "33",
         "Checking",
         "6878.1",
         "2019-12-18"
        ],
        [
         "33",
         "34",
         "Checking",
         "5164.29",
         "2022-09-04"
        ],
        [
         "34",
         "35",
         "Credit",
         "8539.34",
         "2023-03-25"
        ],
        [
         "35",
         "36",
         "Credit",
         "9770.03",
         "2019-06-20"
        ],
        [
         "36",
         "37",
         "Credit",
         "9770.03",
         "2019-06-20"
        ],
        [
         "37",
         "38",
         "Credit",
         "9770.03",
         "2019-06-20"
        ],
        [
         "38",
         "39",
         "Credit",
         "444.6",
         "2021-11-01"
        ],
        [
         "39",
         "40",
         "Credit",
         "444.6",
         "2021-11-01"
        ],
        [
         "40",
         "41",
         "Credit",
         "444.6",
         "2021-11-01"
        ],
        [
         "41",
         "42",
         "Credit",
         "444.6",
         "2021-11-01"
        ],
        [
         "42",
         "43",
         "Savings",
         "8330.83",
         "2024-01-23"
        ],
        [
         "43",
         "44",
         "Savings",
         "8330.83",
         "2024-01-23"
        ],
        [
         "44",
         "45",
         "Savings",
         "8330.83",
         "2024-01-23"
        ],
        [
         "45",
         "46",
         "Savings",
         "8648.97",
         "2022-06-05"
        ],
        [
         "46",
         "47",
         "Savings",
         "8648.97",
         "2022-06-05"
        ],
        [
         "47",
         "48",
         "Savings",
         "7446.25",
         "2023-10-29"
        ],
        [
         "48",
         "49",
         "Checking",
         "9529.29",
         "2023-05-07"
        ],
        [
         "49",
         "50",
         "Savings",
         "5051.48",
         "2022-05-16"
        ]
       ],
       "shape": {
        "columns": 4,
        "rows": 1554
       }
      },
      "text/html": [
       "<div>\n",
       "<style scoped>\n",
       "    .dataframe tbody tr th:only-of-type {\n",
       "        vertical-align: middle;\n",
       "    }\n",
       "\n",
       "    .dataframe tbody tr th {\n",
       "        vertical-align: top;\n",
       "    }\n",
       "\n",
       "    .dataframe thead th {\n",
       "        text-align: right;\n",
       "    }\n",
       "</style>\n",
       "<table border=\"1\" class=\"dataframe\">\n",
       "  <thead>\n",
       "    <tr style=\"text-align: right;\">\n",
       "      <th></th>\n",
       "      <th>Account_id</th>\n",
       "      <th>AccountType</th>\n",
       "      <th>Balance</th>\n",
       "      <th>OpeningDate</th>\n",
       "    </tr>\n",
       "  </thead>\n",
       "  <tbody>\n",
       "    <tr>\n",
       "      <th>0</th>\n",
       "      <td>1</td>\n",
       "      <td>Savings</td>\n",
       "      <td>5652.16</td>\n",
       "      <td>2019-08-12</td>\n",
       "    </tr>\n",
       "    <tr>\n",
       "      <th>1</th>\n",
       "      <td>2</td>\n",
       "      <td>Credit</td>\n",
       "      <td>2881.24</td>\n",
       "      <td>2019-05-06</td>\n",
       "    </tr>\n",
       "    <tr>\n",
       "      <th>2</th>\n",
       "      <td>3</td>\n",
       "      <td>Credit</td>\n",
       "      <td>2881.24</td>\n",
       "      <td>2019-05-06</td>\n",
       "    </tr>\n",
       "    <tr>\n",
       "      <th>3</th>\n",
       "      <td>4</td>\n",
       "      <td>Credit</td>\n",
       "      <td>2881.24</td>\n",
       "      <td>2019-05-06</td>\n",
       "    </tr>\n",
       "    <tr>\n",
       "      <th>4</th>\n",
       "      <td>5</td>\n",
       "      <td>Credit</td>\n",
       "      <td>2881.24</td>\n",
       "      <td>2019-05-06</td>\n",
       "    </tr>\n",
       "    <tr>\n",
       "      <th>...</th>\n",
       "      <td>...</td>\n",
       "      <td>...</td>\n",
       "      <td>...</td>\n",
       "      <td>...</td>\n",
       "    </tr>\n",
       "    <tr>\n",
       "      <th>1549</th>\n",
       "      <td>1550</td>\n",
       "      <td>Checking</td>\n",
       "      <td>6463.29</td>\n",
       "      <td>2023-10-07</td>\n",
       "    </tr>\n",
       "    <tr>\n",
       "      <th>1550</th>\n",
       "      <td>1551</td>\n",
       "      <td>Checking</td>\n",
       "      <td>6463.29</td>\n",
       "      <td>2023-10-07</td>\n",
       "    </tr>\n",
       "    <tr>\n",
       "      <th>1551</th>\n",
       "      <td>1552</td>\n",
       "      <td>Savings</td>\n",
       "      <td>3308.76</td>\n",
       "      <td>2019-09-02</td>\n",
       "    </tr>\n",
       "    <tr>\n",
       "      <th>1552</th>\n",
       "      <td>1553</td>\n",
       "      <td>Checking</td>\n",
       "      <td>6273.50</td>\n",
       "      <td>2019-07-19</td>\n",
       "    </tr>\n",
       "    <tr>\n",
       "      <th>1553</th>\n",
       "      <td>1554</td>\n",
       "      <td>Savings</td>\n",
       "      <td>9418.14</td>\n",
       "      <td>2021-01-26</td>\n",
       "    </tr>\n",
       "  </tbody>\n",
       "</table>\n",
       "<p>1554 rows × 4 columns</p>\n",
       "</div>"
      ],
      "text/plain": [
       "      Account_id AccountType  Balance OpeningDate\n",
       "0              1     Savings  5652.16  2019-08-12\n",
       "1              2      Credit  2881.24  2019-05-06\n",
       "2              3      Credit  2881.24  2019-05-06\n",
       "3              4      Credit  2881.24  2019-05-06\n",
       "4              5      Credit  2881.24  2019-05-06\n",
       "...          ...         ...      ...         ...\n",
       "1549        1550    Checking  6463.29  2023-10-07\n",
       "1550        1551    Checking  6463.29  2023-10-07\n",
       "1551        1552     Savings  3308.76  2019-09-02\n",
       "1552        1553    Checking  6273.50  2019-07-19\n",
       "1553        1554     Savings  9418.14  2021-01-26\n",
       "\n",
       "[1554 rows x 4 columns]"
      ]
     },
     "execution_count": 132,
     "metadata": {},
     "output_type": "execute_result"
    }
   ],
   "source": [
    "account"
   ]
  },
  {
   "cell_type": "code",
   "execution_count": 133,
   "id": "0479588f",
   "metadata": {},
   "outputs": [
    {
     "data": {
      "text/plain": [
       "Index(['FullName', 'Email', 'Phone', 'TransactionType', 'Amount',\n",
       "       'TransactionDate', 'AccountType', 'Balance', 'OpeningDate',\n",
       "       'LoanAmount', 'LoanType', 'StartDate', 'EndDate', 'InterestRate',\n",
       "       'FirstName', 'LastName'],\n",
       "      dtype='object')"
      ]
     },
     "execution_count": 133,
     "metadata": {},
     "output_type": "execute_result"
    }
   ],
   "source": [
    "zulo_bank.columns"
   ]
  },
  {
   "cell_type": "code",
   "execution_count": 134,
   "id": "3c0c0a20",
   "metadata": {},
   "outputs": [
    {
     "data": {
      "application/vnd.microsoft.datawrangler.viewer.v0+json": {
       "columns": [
        {
         "name": "index",
         "rawType": "int64",
         "type": "integer"
        },
        {
         "name": "Transaction_id",
         "rawType": "int64",
         "type": "integer"
        },
        {
         "name": "TransactionType",
         "rawType": "object",
         "type": "string"
        },
        {
         "name": "Amount",
         "rawType": "float64",
         "type": "float"
        },
        {
         "name": "TransactionDate",
         "rawType": "object",
         "type": "string"
        }
       ],
       "ref": "ae860f75-6a12-4ae7-a5ab-46d4d72d7fbd",
       "rows": [
        [
         "0",
         "1",
         "withdrawal",
         "102.15",
         "2023-04-26"
        ],
        [
         "1",
         "2",
         "withdrawal",
         "358.8",
         "2020-06-13"
        ],
        [
         "2",
         "3",
         "deposit",
         "112.41",
         "2019-05-17"
        ],
        [
         "3",
         "4",
         "deposit",
         "463.13",
         "2020-09-02"
        ],
        [
         "4",
         "5",
         "withdrawal",
         "21.94",
         "2022-07-03"
        ],
        [
         "5",
         "6",
         "withdrawal",
         "106.09",
         "2019-03-30"
        ],
        [
         "6",
         "7",
         "withdrawal",
         "467.37",
         "2019-04-05"
        ],
        [
         "7",
         "8",
         "withdrawal",
         "256.62",
         "2022-05-22"
        ],
        [
         "8",
         "9",
         "deposit",
         "272.21",
         "2023-05-27"
        ],
        [
         "9",
         "10",
         "withdrawal",
         "498.95",
         "2021-06-22"
        ],
        [
         "10",
         "11",
         "withdrawal",
         "369.25",
         "2022-10-29"
        ],
        [
         "11",
         "12",
         "withdrawal",
         "295.89",
         "2021-10-02"
        ],
        [
         "12",
         "13",
         "deposit",
         "344.01",
         "2023-03-05"
        ],
        [
         "13",
         "14",
         "withdrawal",
         "268.86",
         "2023-07-19"
        ],
        [
         "14",
         "15",
         "deposit",
         "452.34",
         "2020-03-01"
        ],
        [
         "15",
         "16",
         "withdrawal",
         "416.56",
         "2023-04-02"
        ],
        [
         "16",
         "17",
         "withdrawal",
         "323.69",
         "2019-02-26"
        ],
        [
         "17",
         "18",
         "withdrawal",
         "355.49",
         "2022-04-30"
        ],
        [
         "18",
         "19",
         "withdrawal",
         "56.89",
         "2021-04-09"
        ],
        [
         "19",
         "20",
         "withdrawal",
         "40.97",
         "2022-04-21"
        ],
        [
         "20",
         "21",
         "deposit",
         "150.47",
         "2020-03-04"
        ],
        [
         "21",
         "22",
         "deposit",
         "68.11",
         "2022-05-16"
        ],
        [
         "22",
         "23",
         "withdrawal",
         "125.53",
         "2021-01-25"
        ],
        [
         "23",
         "24",
         "withdrawal",
         "168.54",
         "2020-09-14"
        ],
        [
         "24",
         "25",
         "withdrawal",
         "236.09",
         "2020-11-10"
        ],
        [
         "25",
         "26",
         "deposit",
         "297.99",
         "2023-05-01"
        ],
        [
         "26",
         "27",
         "deposit",
         "147.5",
         "2020-01-18"
        ],
        [
         "27",
         "28",
         "deposit",
         "145.72",
         "2019-10-14"
        ],
        [
         "28",
         "29",
         "withdrawal",
         "351.38",
         "2022-05-19"
        ],
        [
         "29",
         "30",
         "deposit",
         "403.71",
         "2023-11-14"
        ],
        [
         "30",
         "31",
         "deposit",
         "358.37",
         "2022-08-30"
        ],
        [
         "31",
         "32",
         "deposit",
         "140.67",
         "2022-11-08"
        ],
        [
         "32",
         "33",
         "deposit",
         "268.39",
         "2023-02-11"
        ],
        [
         "33",
         "34",
         "deposit",
         "93.16",
         "2020-09-15"
        ],
        [
         "34",
         "35",
         "withdrawal",
         "384.83",
         "2024-01-22"
        ],
        [
         "35",
         "36",
         "deposit",
         "497.14",
         "2019-10-10"
        ],
        [
         "36",
         "37",
         "deposit",
         "30.0",
         "2023-02-24"
        ],
        [
         "37",
         "38",
         "deposit",
         "494.22",
         "2022-10-02"
        ],
        [
         "38",
         "39",
         "withdrawal",
         "465.1",
         "2021-06-20"
        ],
        [
         "39",
         "40",
         "deposit",
         "306.02",
         "2019-02-28"
        ],
        [
         "40",
         "41",
         "withdrawal",
         "105.12",
         "2022-11-29"
        ],
        [
         "41",
         "42",
         "withdrawal",
         "412.17",
         "2022-11-17"
        ],
        [
         "42",
         "43",
         "withdrawal",
         "328.65",
         "2020-11-16"
        ],
        [
         "43",
         "44",
         "deposit",
         "448.75",
         "2021-10-31"
        ],
        [
         "44",
         "45",
         "withdrawal",
         "36.85",
         "2021-10-05"
        ],
        [
         "45",
         "46",
         "deposit",
         "430.92",
         "2023-09-12"
        ],
        [
         "46",
         "47",
         "withdrawal",
         "167.84",
         "2020-03-02"
        ],
        [
         "47",
         "48",
         "withdrawal",
         "387.49",
         "2023-03-03"
        ],
        [
         "48",
         "49",
         "deposit",
         "474.37",
         "2019-08-11"
        ],
        [
         "49",
         "50",
         "deposit",
         "227.4",
         "2023-12-16"
        ]
       ],
       "shape": {
        "columns": 4,
        "rows": 1000
       }
      },
      "text/html": [
       "<div>\n",
       "<style scoped>\n",
       "    .dataframe tbody tr th:only-of-type {\n",
       "        vertical-align: middle;\n",
       "    }\n",
       "\n",
       "    .dataframe tbody tr th {\n",
       "        vertical-align: top;\n",
       "    }\n",
       "\n",
       "    .dataframe thead th {\n",
       "        text-align: right;\n",
       "    }\n",
       "</style>\n",
       "<table border=\"1\" class=\"dataframe\">\n",
       "  <thead>\n",
       "    <tr style=\"text-align: right;\">\n",
       "      <th></th>\n",
       "      <th>Transaction_id</th>\n",
       "      <th>TransactionType</th>\n",
       "      <th>Amount</th>\n",
       "      <th>TransactionDate</th>\n",
       "    </tr>\n",
       "  </thead>\n",
       "  <tbody>\n",
       "    <tr>\n",
       "      <th>0</th>\n",
       "      <td>1</td>\n",
       "      <td>withdrawal</td>\n",
       "      <td>102.15</td>\n",
       "      <td>2023-04-26</td>\n",
       "    </tr>\n",
       "    <tr>\n",
       "      <th>1</th>\n",
       "      <td>2</td>\n",
       "      <td>withdrawal</td>\n",
       "      <td>358.80</td>\n",
       "      <td>2020-06-13</td>\n",
       "    </tr>\n",
       "    <tr>\n",
       "      <th>2</th>\n",
       "      <td>3</td>\n",
       "      <td>deposit</td>\n",
       "      <td>112.41</td>\n",
       "      <td>2019-05-17</td>\n",
       "    </tr>\n",
       "    <tr>\n",
       "      <th>3</th>\n",
       "      <td>4</td>\n",
       "      <td>deposit</td>\n",
       "      <td>463.13</td>\n",
       "      <td>2020-09-02</td>\n",
       "    </tr>\n",
       "    <tr>\n",
       "      <th>4</th>\n",
       "      <td>5</td>\n",
       "      <td>withdrawal</td>\n",
       "      <td>21.94</td>\n",
       "      <td>2022-07-03</td>\n",
       "    </tr>\n",
       "    <tr>\n",
       "      <th>...</th>\n",
       "      <td>...</td>\n",
       "      <td>...</td>\n",
       "      <td>...</td>\n",
       "      <td>...</td>\n",
       "    </tr>\n",
       "    <tr>\n",
       "      <th>995</th>\n",
       "      <td>996</td>\n",
       "      <td>withdrawal</td>\n",
       "      <td>303.30</td>\n",
       "      <td>2023-07-09</td>\n",
       "    </tr>\n",
       "    <tr>\n",
       "      <th>996</th>\n",
       "      <td>997</td>\n",
       "      <td>deposit</td>\n",
       "      <td>484.00</td>\n",
       "      <td>2020-12-27</td>\n",
       "    </tr>\n",
       "    <tr>\n",
       "      <th>997</th>\n",
       "      <td>998</td>\n",
       "      <td>withdrawal</td>\n",
       "      <td>427.36</td>\n",
       "      <td>2023-06-19</td>\n",
       "    </tr>\n",
       "    <tr>\n",
       "      <th>998</th>\n",
       "      <td>999</td>\n",
       "      <td>withdrawal</td>\n",
       "      <td>415.01</td>\n",
       "      <td>2022-02-09</td>\n",
       "    </tr>\n",
       "    <tr>\n",
       "      <th>999</th>\n",
       "      <td>1000</td>\n",
       "      <td>deposit</td>\n",
       "      <td>115.48</td>\n",
       "      <td>2021-10-16</td>\n",
       "    </tr>\n",
       "  </tbody>\n",
       "</table>\n",
       "<p>1000 rows × 4 columns</p>\n",
       "</div>"
      ],
      "text/plain": [
       "     Transaction_id TransactionType  Amount TransactionDate\n",
       "0                 1      withdrawal  102.15      2023-04-26\n",
       "1                 2      withdrawal  358.80      2020-06-13\n",
       "2                 3         deposit  112.41      2019-05-17\n",
       "3                 4         deposit  463.13      2020-09-02\n",
       "4                 5      withdrawal   21.94      2022-07-03\n",
       "..              ...             ...     ...             ...\n",
       "995             996      withdrawal  303.30      2023-07-09\n",
       "996             997         deposit  484.00      2020-12-27\n",
       "997             998      withdrawal  427.36      2023-06-19\n",
       "998             999      withdrawal  415.01      2022-02-09\n",
       "999            1000         deposit  115.48      2021-10-16\n",
       "\n",
       "[1000 rows x 4 columns]"
      ]
     },
     "execution_count": 134,
     "metadata": {},
     "output_type": "execute_result"
    }
   ],
   "source": [
    "#Transaction Table\n",
    "transaction =zulo_bank[['TransactionType', 'Amount', 'TransactionDate']].copy().drop_duplicates().reset_index(drop=True)\n",
    "transaction['Transaction_id'] = range(1, len(transaction) + 1)\n",
    "transaction = transaction[['Transaction_id', 'TransactionType', 'Amount', 'TransactionDate']]\n",
    "transaction"
   ]
  },
  {
   "cell_type": "code",
   "execution_count": 135,
   "id": "30a849b7",
   "metadata": {},
   "outputs": [
    {
     "data": {
      "application/vnd.microsoft.datawrangler.viewer.v0+json": {
       "columns": [
        {
         "name": "index",
         "rawType": "int64",
         "type": "integer"
        },
        {
         "name": "Loan_id",
         "rawType": "int64",
         "type": "integer"
        },
        {
         "name": "LoanType",
         "rawType": "object",
         "type": "string"
        },
        {
         "name": "LoanAmount",
         "rawType": "float64",
         "type": "float"
        },
        {
         "name": "StartDate",
         "rawType": "object",
         "type": "unknown"
        },
        {
         "name": "EndDate",
         "rawType": "object",
         "type": "unknown"
        },
        {
         "name": "InterestRate",
         "rawType": "float64",
         "type": "float"
        }
       ],
       "ref": "408ee4ca-0da6-4cb1-93fd-e6f968081b96",
       "rows": [
        [
         "0",
         "1",
         "unknown",
         "0.0",
         null,
         null,
         "0.0"
        ],
        [
         "1",
         "2",
         "Mortgage",
         "32428.9",
         "2021-06-24",
         "2050-01-08 04:59:17.907588",
         "2.12"
        ],
        [
         "2",
         "3",
         "Personal",
         "31406.77",
         "2021-02-27",
         "2038-10-12 04:59:17.907821",
         "4.63"
        ],
        [
         "3",
         "4",
         "Personal",
         "27834.0",
         "2019-12-05",
         "2037-08-15 04:59:17.909497",
         "2.15"
        ],
        [
         "4",
         "5",
         "Auto",
         "27873.08",
         "2022-01-19",
         "2037-06-03 04:59:17.913974",
         "7.03"
        ],
        [
         "5",
         "6",
         "Auto",
         "25666.75",
         "2023-05-09",
         "2039-04-28 04:59:17.905741",
         "6.84"
        ],
        [
         "6",
         "7",
         "Personal",
         "23853.85",
         "2024-01-30",
         "2038-02-12 04:59:17.910713",
         "7.41"
        ],
        [
         "7",
         "8",
         "Personal",
         "8092.2",
         "2021-08-18",
         "2036-04-08 04:59:17.911277",
         "2.85"
        ],
        [
         "8",
         "9",
         "Personal",
         "11074.47",
         "2022-02-11",
         "2032-05-06 04:59:17.908590",
         "5.36"
        ],
        [
         "9",
         "10",
         "Personal",
         "38903.23",
         "2021-07-14",
         "2042-10-07 04:59:17.909559",
         "2.28"
        ],
        [
         "10",
         "11",
         "Personal",
         "18162.6",
         "2023-11-09",
         "2028-11-08 04:59:17.906084",
         "2.12"
        ],
        [
         "11",
         "12",
         "Mortgage",
         "12965.19",
         "2022-07-17",
         "2032-12-27 04:59:17.908534",
         "7.43"
        ],
        [
         "12",
         "13",
         "Mortgage",
         "37664.6",
         "2022-12-21",
         "2033-01-26 04:59:17.906957",
         "4.45"
        ],
        [
         "13",
         "14",
         "Auto",
         "33958.37",
         "2022-12-19",
         "2036-09-06 04:59:17.905797",
         "5.2"
        ],
        [
         "14",
         "15",
         "Personal",
         "12021.11",
         "2019-03-22",
         "2032-07-01 04:59:17.908931",
         "1.62"
        ],
        [
         "15",
         "16",
         "Mortgage",
         "24333.16",
         "2023-10-17",
         "2025-11-18 04:59:17.915026",
         "1.79"
        ],
        [
         "16",
         "17",
         "Auto",
         "26360.24",
         "2020-08-26",
         "2026-05-20 04:59:17.909429",
         "2.89"
        ],
        [
         "17",
         "18",
         "Auto",
         "14463.85",
         "2019-09-25",
         "2043-01-23 04:59:17.905321",
         "6.45"
        ],
        [
         "18",
         "19",
         "Mortgage",
         "19565.92",
         "2022-11-28",
         "2050-11-01 04:59:17.911191",
         "3.28"
        ],
        [
         "19",
         "20",
         "Personal",
         "8170.0",
         "2019-10-13",
         "2031-10-24 04:59:17.912604",
         "3.53"
        ],
        [
         "20",
         "21",
         "Personal",
         "42684.76",
         "2024-01-15",
         "2048-02-15 04:59:17.905910",
         "1.96"
        ],
        [
         "21",
         "22",
         "Mortgage",
         "34427.31",
         "2022-07-26",
         "2031-01-18 04:59:17.909902",
         "4.02"
        ],
        [
         "22",
         "23",
         "Auto",
         "17430.29",
         "2023-10-16",
         "2045-12-04 04:59:17.910330",
         "2.8"
        ],
        [
         "23",
         "24",
         "Auto",
         "14964.93",
         "2020-12-22",
         "2042-10-19 04:59:17.914385",
         "5.33"
        ],
        [
         "24",
         "25",
         "Mortgage",
         "35994.71",
         "2023-09-03",
         "2048-05-11 04:59:17.914622",
         "3.52"
        ],
        [
         "25",
         "26",
         "Mortgage",
         "8056.59",
         "2019-11-16",
         "2032-12-12 04:59:17.905853",
         "7.33"
        ],
        [
         "26",
         "27",
         "Mortgage",
         "45034.48",
         "2019-10-04",
         "2034-06-24 04:59:17.906623",
         "2.58"
        ],
        [
         "27",
         "28",
         "Mortgage",
         "35911.84",
         "2023-02-15",
         "2045-02-21 04:59:17.905175",
         "4.0"
        ],
        [
         "28",
         "29",
         "Personal",
         "14085.72",
         "2019-04-24",
         "2038-11-17 04:59:17.905253",
         "2.96"
        ],
        [
         "29",
         "30",
         "Personal",
         "26011.89",
         "2020-01-11",
         "2049-05-18 04:59:17.914544",
         "6.82"
        ],
        [
         "30",
         "31",
         "Auto",
         "26282.21",
         "2020-01-09",
         "2049-11-06 04:59:17.907764",
         "3.51"
        ],
        [
         "31",
         "32",
         "Mortgage",
         "40432.8",
         "2023-10-18",
         "2052-01-14 04:59:17.913174",
         "4.29"
        ],
        [
         "32",
         "33",
         "Auto",
         "49124.49",
         "2022-11-05",
         "2031-07-07 04:59:17.914897",
         "5.58"
        ],
        [
         "33",
         "34",
         "Personal",
         "48233.91",
         "2023-12-03",
         "2048-03-25 04:59:17.908108",
         "4.7"
        ],
        [
         "34",
         "35",
         "Mortgage",
         "5710.02",
         "2023-11-28",
         "2047-03-11 04:59:17.909104",
         "5.45"
        ],
        [
         "35",
         "36",
         "Mortgage",
         "42355.47",
         "2019-02-23",
         "2036-08-20 04:59:17.911618",
         "7.05"
        ],
        [
         "36",
         "37",
         "Mortgage",
         "35193.83",
         "2021-01-17",
         "2029-09-08 04:59:17.912750",
         "1.85"
        ],
        [
         "37",
         "38",
         "Personal",
         "38009.14",
         "2023-04-11",
         "2052-03-25 04:59:17.906900",
         "5.8"
        ],
        [
         "38",
         "39",
         "Auto",
         "22725.99",
         "2019-07-11",
         "2045-04-16 04:59:17.907015",
         "5.42"
        ],
        [
         "39",
         "40",
         "Mortgage",
         "8040.33",
         "2019-03-28",
         "2026-12-04 04:59:17.912840",
         "6.4"
        ],
        [
         "40",
         "41",
         "Personal",
         "32850.56",
         "2021-11-24",
         "2030-09-22 04:59:17.907706",
         "2.81"
        ],
        [
         "41",
         "42",
         "Mortgage",
         "13931.18",
         "2021-01-30",
         "2036-10-09 04:59:17.910193",
         "3.35"
        ],
        [
         "42",
         "43",
         "Auto",
         "48933.91",
         "2020-08-06",
         "2036-11-01 04:59:17.905052",
         "4.43"
        ],
        [
         "43",
         "44",
         "Mortgage",
         "47062.38",
         "2019-10-22",
         "2047-01-26 04:59:17.909784",
         "6.27"
        ],
        [
         "44",
         "45",
         "Mortgage",
         "19607.01",
         "2023-07-19",
         "2033-05-07 04:59:17.908356",
         "2.93"
        ],
        [
         "45",
         "46",
         "Auto",
         "39348.0",
         "2020-02-09",
         "2030-01-30 04:59:17.911545",
         "4.95"
        ],
        [
         "46",
         "47",
         "Auto",
         "49675.33",
         "2021-12-13",
         "2036-08-10 04:59:17.909048",
         "3.89"
        ],
        [
         "47",
         "48",
         "Personal",
         "31033.48",
         "2023-11-11",
         "2051-04-06 04:59:17.911837",
         "5.66"
        ],
        [
         "48",
         "49",
         "Mortgage",
         "49754.29",
         "2019-11-14",
         "2037-12-30 04:59:17.914202",
         "4.83"
        ],
        [
         "49",
         "50",
         "Personal",
         "8419.93",
         "2021-10-29",
         "2038-03-25 04:59:17.908413",
         "4.1"
        ]
       ],
       "shape": {
        "columns": 6,
        "rows": 130
       }
      },
      "text/html": [
       "<div>\n",
       "<style scoped>\n",
       "    .dataframe tbody tr th:only-of-type {\n",
       "        vertical-align: middle;\n",
       "    }\n",
       "\n",
       "    .dataframe tbody tr th {\n",
       "        vertical-align: top;\n",
       "    }\n",
       "\n",
       "    .dataframe thead th {\n",
       "        text-align: right;\n",
       "    }\n",
       "</style>\n",
       "<table border=\"1\" class=\"dataframe\">\n",
       "  <thead>\n",
       "    <tr style=\"text-align: right;\">\n",
       "      <th></th>\n",
       "      <th>Loan_id</th>\n",
       "      <th>LoanType</th>\n",
       "      <th>LoanAmount</th>\n",
       "      <th>StartDate</th>\n",
       "      <th>EndDate</th>\n",
       "      <th>InterestRate</th>\n",
       "    </tr>\n",
       "  </thead>\n",
       "  <tbody>\n",
       "    <tr>\n",
       "      <th>0</th>\n",
       "      <td>1</td>\n",
       "      <td>unknown</td>\n",
       "      <td>0.00</td>\n",
       "      <td>NaN</td>\n",
       "      <td>NaN</td>\n",
       "      <td>0.00</td>\n",
       "    </tr>\n",
       "    <tr>\n",
       "      <th>1</th>\n",
       "      <td>2</td>\n",
       "      <td>Mortgage</td>\n",
       "      <td>32428.90</td>\n",
       "      <td>2021-06-24</td>\n",
       "      <td>2050-01-08 04:59:17.907588</td>\n",
       "      <td>2.12</td>\n",
       "    </tr>\n",
       "    <tr>\n",
       "      <th>2</th>\n",
       "      <td>3</td>\n",
       "      <td>Personal</td>\n",
       "      <td>31406.77</td>\n",
       "      <td>2021-02-27</td>\n",
       "      <td>2038-10-12 04:59:17.907821</td>\n",
       "      <td>4.63</td>\n",
       "    </tr>\n",
       "    <tr>\n",
       "      <th>3</th>\n",
       "      <td>4</td>\n",
       "      <td>Personal</td>\n",
       "      <td>27834.00</td>\n",
       "      <td>2019-12-05</td>\n",
       "      <td>2037-08-15 04:59:17.909497</td>\n",
       "      <td>2.15</td>\n",
       "    </tr>\n",
       "    <tr>\n",
       "      <th>4</th>\n",
       "      <td>5</td>\n",
       "      <td>Auto</td>\n",
       "      <td>27873.08</td>\n",
       "      <td>2022-01-19</td>\n",
       "      <td>2037-06-03 04:59:17.913974</td>\n",
       "      <td>7.03</td>\n",
       "    </tr>\n",
       "    <tr>\n",
       "      <th>...</th>\n",
       "      <td>...</td>\n",
       "      <td>...</td>\n",
       "      <td>...</td>\n",
       "      <td>...</td>\n",
       "      <td>...</td>\n",
       "      <td>...</td>\n",
       "    </tr>\n",
       "    <tr>\n",
       "      <th>125</th>\n",
       "      <td>126</td>\n",
       "      <td>Personal</td>\n",
       "      <td>44785.92</td>\n",
       "      <td>2020-06-25</td>\n",
       "      <td>2050-08-25 04:59:17.912929</td>\n",
       "      <td>1.55</td>\n",
       "    </tr>\n",
       "    <tr>\n",
       "      <th>126</th>\n",
       "      <td>127</td>\n",
       "      <td>Personal</td>\n",
       "      <td>6815.56</td>\n",
       "      <td>2023-02-19</td>\n",
       "      <td>2033-12-16 04:59:17.907530</td>\n",
       "      <td>2.90</td>\n",
       "    </tr>\n",
       "    <tr>\n",
       "      <th>127</th>\n",
       "      <td>128</td>\n",
       "      <td>Auto</td>\n",
       "      <td>15095.53</td>\n",
       "      <td>2021-10-26</td>\n",
       "      <td>2053-12-08 04:59:17.908990</td>\n",
       "      <td>4.58</td>\n",
       "    </tr>\n",
       "    <tr>\n",
       "      <th>128</th>\n",
       "      <td>129</td>\n",
       "      <td>Mortgage</td>\n",
       "      <td>46561.79</td>\n",
       "      <td>2019-10-21</td>\n",
       "      <td>2033-08-13 04:59:17.913469</td>\n",
       "      <td>2.50</td>\n",
       "    </tr>\n",
       "    <tr>\n",
       "      <th>129</th>\n",
       "      <td>130</td>\n",
       "      <td>Personal</td>\n",
       "      <td>33481.52</td>\n",
       "      <td>2023-07-14</td>\n",
       "      <td>2048-08-02 04:59:17.914125</td>\n",
       "      <td>5.06</td>\n",
       "    </tr>\n",
       "  </tbody>\n",
       "</table>\n",
       "<p>130 rows × 6 columns</p>\n",
       "</div>"
      ],
      "text/plain": [
       "     Loan_id  LoanType  LoanAmount   StartDate                     EndDate  \\\n",
       "0          1   unknown        0.00         NaN                         NaN   \n",
       "1          2  Mortgage    32428.90  2021-06-24  2050-01-08 04:59:17.907588   \n",
       "2          3  Personal    31406.77  2021-02-27  2038-10-12 04:59:17.907821   \n",
       "3          4  Personal    27834.00  2019-12-05  2037-08-15 04:59:17.909497   \n",
       "4          5      Auto    27873.08  2022-01-19  2037-06-03 04:59:17.913974   \n",
       "..       ...       ...         ...         ...                         ...   \n",
       "125      126  Personal    44785.92  2020-06-25  2050-08-25 04:59:17.912929   \n",
       "126      127  Personal     6815.56  2023-02-19  2033-12-16 04:59:17.907530   \n",
       "127      128      Auto    15095.53  2021-10-26  2053-12-08 04:59:17.908990   \n",
       "128      129  Mortgage    46561.79  2019-10-21  2033-08-13 04:59:17.913469   \n",
       "129      130  Personal    33481.52  2023-07-14  2048-08-02 04:59:17.914125   \n",
       "\n",
       "     InterestRate  \n",
       "0            0.00  \n",
       "1            2.12  \n",
       "2            4.63  \n",
       "3            2.15  \n",
       "4            7.03  \n",
       "..            ...  \n",
       "125          1.55  \n",
       "126          2.90  \n",
       "127          4.58  \n",
       "128          2.50  \n",
       "129          5.06  \n",
       "\n",
       "[130 rows x 6 columns]"
      ]
     },
     "execution_count": 135,
     "metadata": {},
     "output_type": "execute_result"
    }
   ],
   "source": [
    "#Loan Table\n",
    "loan = zulo_bank[['LoanType', 'LoanAmount', 'StartDate', 'EndDate', 'InterestRate']].copy().drop_duplicates().reset_index(drop=True)\n",
    "loan['Loan_id'] = range(1, len(loan) + 1)   \n",
    "loan = loan[['Loan_id', 'LoanType', 'LoanAmount', 'StartDate', 'EndDate', 'InterestRate']]\n",
    "loan"
   ]
  },
  {
   "cell_type": "code",
   "execution_count": 136,
   "id": "9715506e",
   "metadata": {},
   "outputs": [],
   "source": [
    "#Merge Operation to create zulo_bank\n",
    "zulo_bank =zulo_bank.merge(customer, on=['FirstName', 'LastName', 'Email', 'Phone'], how='left') \\\n",
    "                    .merge(account, on=['AccountType', 'Balance', 'OpeningDate'], how='left') \\\n",
    "                    .merge(transaction, on=['TransactionType', 'Amount', 'TransactionDate'], how='left') \\\n",
    "                    .merge(loan, on=['LoanType', 'LoanAmount', 'StartDate', 'EndDate', 'InterestRate'], how='left') \\\n",
    "                    [['Customer_id', 'Account_id', 'Transaction_id', 'Loan_id',]]"
   ]
  },
  {
   "cell_type": "code",
   "execution_count": 137,
   "id": "72195acc",
   "metadata": {},
   "outputs": [
    {
     "data": {
      "application/vnd.microsoft.datawrangler.viewer.v0+json": {
       "columns": [
        {
         "name": "index",
         "rawType": "int64",
         "type": "integer"
        },
        {
         "name": "Customer_id",
         "rawType": "int64",
         "type": "integer"
        },
        {
         "name": "Account_id",
         "rawType": "int64",
         "type": "integer"
        },
        {
         "name": "Transaction_id",
         "rawType": "int64",
         "type": "integer"
        },
        {
         "name": "Loan_id",
         "rawType": "int64",
         "type": "integer"
        }
       ],
       "ref": "134577a9-4d10-4558-a492-b08d978bf1b2",
       "rows": [
        [
         "0",
         "1",
         "1",
         "1",
         "1"
        ],
        [
         "1",
         "1",
         "152",
         "1",
         "1"
        ],
        [
         "2",
         "1",
         "414",
         "1",
         "1"
        ],
        [
         "3",
         "1",
         "1143",
         "1",
         "1"
        ],
        [
         "4",
         "2",
         "2",
         "2",
         "2"
        ],
        [
         "5",
         "2",
         "3",
         "2",
         "2"
        ],
        [
         "6",
         "2",
         "4",
         "2",
         "2"
        ],
        [
         "7",
         "2",
         "5",
         "2",
         "2"
        ],
        [
         "8",
         "2",
         "87",
         "2",
         "2"
        ],
        [
         "9",
         "2",
         "88",
         "2",
         "2"
        ],
        [
         "10",
         "2",
         "89",
         "2",
         "2"
        ],
        [
         "11",
         "2",
         "90",
         "2",
         "2"
        ],
        [
         "12",
         "2",
         "740",
         "2",
         "2"
        ],
        [
         "13",
         "2",
         "741",
         "2",
         "2"
        ],
        [
         "14",
         "2",
         "742",
         "2",
         "2"
        ],
        [
         "15",
         "2",
         "743",
         "2",
         "2"
        ],
        [
         "16",
         "2",
         "931",
         "2",
         "2"
        ],
        [
         "17",
         "2",
         "932",
         "2",
         "2"
        ],
        [
         "18",
         "2",
         "933",
         "2",
         "2"
        ],
        [
         "19",
         "2",
         "934",
         "2",
         "2"
        ],
        [
         "20",
         "2",
         "1351",
         "2",
         "2"
        ],
        [
         "21",
         "2",
         "1352",
         "2",
         "2"
        ],
        [
         "22",
         "2",
         "1353",
         "2",
         "2"
        ],
        [
         "23",
         "2",
         "1354",
         "2",
         "2"
        ],
        [
         "24",
         "2",
         "1374",
         "2",
         "2"
        ],
        [
         "25",
         "2",
         "1375",
         "2",
         "2"
        ],
        [
         "26",
         "2",
         "1376",
         "2",
         "2"
        ],
        [
         "27",
         "2",
         "1377",
         "2",
         "2"
        ],
        [
         "28",
         "2",
         "2",
         "2",
         "3"
        ],
        [
         "29",
         "2",
         "3",
         "2",
         "3"
        ],
        [
         "30",
         "2",
         "4",
         "2",
         "3"
        ],
        [
         "31",
         "2",
         "5",
         "2",
         "3"
        ],
        [
         "32",
         "2",
         "87",
         "2",
         "3"
        ],
        [
         "33",
         "2",
         "88",
         "2",
         "3"
        ],
        [
         "34",
         "2",
         "89",
         "2",
         "3"
        ],
        [
         "35",
         "2",
         "90",
         "2",
         "3"
        ],
        [
         "36",
         "2",
         "740",
         "2",
         "3"
        ],
        [
         "37",
         "2",
         "741",
         "2",
         "3"
        ],
        [
         "38",
         "2",
         "742",
         "2",
         "3"
        ],
        [
         "39",
         "2",
         "743",
         "2",
         "3"
        ],
        [
         "40",
         "2",
         "931",
         "2",
         "3"
        ],
        [
         "41",
         "2",
         "932",
         "2",
         "3"
        ],
        [
         "42",
         "2",
         "933",
         "2",
         "3"
        ],
        [
         "43",
         "2",
         "934",
         "2",
         "3"
        ],
        [
         "44",
         "2",
         "1351",
         "2",
         "3"
        ],
        [
         "45",
         "2",
         "1352",
         "2",
         "3"
        ],
        [
         "46",
         "2",
         "1353",
         "2",
         "3"
        ],
        [
         "47",
         "2",
         "1354",
         "2",
         "3"
        ],
        [
         "48",
         "2",
         "1374",
         "2",
         "3"
        ],
        [
         "49",
         "2",
         "1375",
         "2",
         "3"
        ]
       ],
       "shape": {
        "columns": 4,
        "rows": 18018
       }
      },
      "text/html": [
       "<div>\n",
       "<style scoped>\n",
       "    .dataframe tbody tr th:only-of-type {\n",
       "        vertical-align: middle;\n",
       "    }\n",
       "\n",
       "    .dataframe tbody tr th {\n",
       "        vertical-align: top;\n",
       "    }\n",
       "\n",
       "    .dataframe thead th {\n",
       "        text-align: right;\n",
       "    }\n",
       "</style>\n",
       "<table border=\"1\" class=\"dataframe\">\n",
       "  <thead>\n",
       "    <tr style=\"text-align: right;\">\n",
       "      <th></th>\n",
       "      <th>Customer_id</th>\n",
       "      <th>Account_id</th>\n",
       "      <th>Transaction_id</th>\n",
       "      <th>Loan_id</th>\n",
       "    </tr>\n",
       "  </thead>\n",
       "  <tbody>\n",
       "    <tr>\n",
       "      <th>0</th>\n",
       "      <td>1</td>\n",
       "      <td>1</td>\n",
       "      <td>1</td>\n",
       "      <td>1</td>\n",
       "    </tr>\n",
       "    <tr>\n",
       "      <th>1</th>\n",
       "      <td>1</td>\n",
       "      <td>152</td>\n",
       "      <td>1</td>\n",
       "      <td>1</td>\n",
       "    </tr>\n",
       "    <tr>\n",
       "      <th>2</th>\n",
       "      <td>1</td>\n",
       "      <td>414</td>\n",
       "      <td>1</td>\n",
       "      <td>1</td>\n",
       "    </tr>\n",
       "    <tr>\n",
       "      <th>3</th>\n",
       "      <td>1</td>\n",
       "      <td>1143</td>\n",
       "      <td>1</td>\n",
       "      <td>1</td>\n",
       "    </tr>\n",
       "    <tr>\n",
       "      <th>4</th>\n",
       "      <td>2</td>\n",
       "      <td>2</td>\n",
       "      <td>2</td>\n",
       "      <td>2</td>\n",
       "    </tr>\n",
       "    <tr>\n",
       "      <th>...</th>\n",
       "      <td>...</td>\n",
       "      <td>...</td>\n",
       "      <td>...</td>\n",
       "      <td>...</td>\n",
       "    </tr>\n",
       "    <tr>\n",
       "      <th>18013</th>\n",
       "      <td>6</td>\n",
       "      <td>744</td>\n",
       "      <td>1000</td>\n",
       "      <td>12</td>\n",
       "    </tr>\n",
       "    <tr>\n",
       "      <th>18014</th>\n",
       "      <td>6</td>\n",
       "      <td>782</td>\n",
       "      <td>1000</td>\n",
       "      <td>12</td>\n",
       "    </tr>\n",
       "    <tr>\n",
       "      <th>18015</th>\n",
       "      <td>6</td>\n",
       "      <td>1183</td>\n",
       "      <td>1000</td>\n",
       "      <td>12</td>\n",
       "    </tr>\n",
       "    <tr>\n",
       "      <th>18016</th>\n",
       "      <td>6</td>\n",
       "      <td>1481</td>\n",
       "      <td>1000</td>\n",
       "      <td>12</td>\n",
       "    </tr>\n",
       "    <tr>\n",
       "      <th>18017</th>\n",
       "      <td>6</td>\n",
       "      <td>1554</td>\n",
       "      <td>1000</td>\n",
       "      <td>12</td>\n",
       "    </tr>\n",
       "  </tbody>\n",
       "</table>\n",
       "<p>18018 rows × 4 columns</p>\n",
       "</div>"
      ],
      "text/plain": [
       "       Customer_id  Account_id  Transaction_id  Loan_id\n",
       "0                1           1               1        1\n",
       "1                1         152               1        1\n",
       "2                1         414               1        1\n",
       "3                1        1143               1        1\n",
       "4                2           2               2        2\n",
       "...            ...         ...             ...      ...\n",
       "18013            6         744            1000       12\n",
       "18014            6         782            1000       12\n",
       "18015            6        1183            1000       12\n",
       "18016            6        1481            1000       12\n",
       "18017            6        1554            1000       12\n",
       "\n",
       "[18018 rows x 4 columns]"
      ]
     },
     "execution_count": 137,
     "metadata": {},
     "output_type": "execute_result"
    }
   ],
   "source": [
    "zulo_bank"
   ]
  },
  {
   "cell_type": "code",
   "execution_count": 138,
   "id": "d95b5f22",
   "metadata": {},
   "outputs": [],
   "source": [
    "#Convert from 2NF to 3NF\n",
    "#Create the date dimension table\n",
    "#Define the start and end dates\n",
    "start_date = datetime(2020, 1, 1)\n",
    "current_date = datetime(2090, 12, 31)\n",
    "\n",
    "#Calculate the numbers of days between start and end dates\n",
    "num_days =(current_date - start_date).days\n",
    "\n",
    "#Generate a list of dates from start date to current date\n",
    "date_list = [start_date + timedelta(days=x) for x in range(num_days + 1)]\n",
    "\n",
    "#Ensure date_id matches the length of thge date_list\n",
    "date = {'date_id': [x for x in range(1, len(date_list) + 1)], 'date': date_list}\n",
    "\n",
    "#Create dataframe\n",
    "date_dim = pd.DataFrame(date)\n",
    "date_dim['Year'] = date_dim['date'].dt.year\n",
    "date_dim['Month'] = date_dim['date'].dt.month\n",
    "date_dim['Day'] = date_dim['date'].dt.day\n",
    "date_dim['date'] = pd.to_datetime(date_dim['date']).dt.date"
   ]
  },
  {
   "cell_type": "code",
   "execution_count": 139,
   "id": "738d09be",
   "metadata": {},
   "outputs": [
    {
     "data": {
      "application/vnd.microsoft.datawrangler.viewer.v0+json": {
       "columns": [
        {
         "name": "index",
         "rawType": "int64",
         "type": "integer"
        },
        {
         "name": "date_id",
         "rawType": "int64",
         "type": "integer"
        },
        {
         "name": "date",
         "rawType": "object",
         "type": "unknown"
        },
        {
         "name": "Year",
         "rawType": "int32",
         "type": "integer"
        },
        {
         "name": "Month",
         "rawType": "int32",
         "type": "integer"
        },
        {
         "name": "Day",
         "rawType": "int32",
         "type": "integer"
        }
       ],
       "ref": "3907f55f-cee3-4f5a-a891-9554afeb9d0e",
       "rows": [
        [
         "0",
         "1",
         "2020-01-01",
         "2020",
         "1",
         "1"
        ],
        [
         "1",
         "2",
         "2020-01-02",
         "2020",
         "1",
         "2"
        ],
        [
         "2",
         "3",
         "2020-01-03",
         "2020",
         "1",
         "3"
        ],
        [
         "3",
         "4",
         "2020-01-04",
         "2020",
         "1",
         "4"
        ],
        [
         "4",
         "5",
         "2020-01-05",
         "2020",
         "1",
         "5"
        ],
        [
         "5",
         "6",
         "2020-01-06",
         "2020",
         "1",
         "6"
        ],
        [
         "6",
         "7",
         "2020-01-07",
         "2020",
         "1",
         "7"
        ],
        [
         "7",
         "8",
         "2020-01-08",
         "2020",
         "1",
         "8"
        ],
        [
         "8",
         "9",
         "2020-01-09",
         "2020",
         "1",
         "9"
        ],
        [
         "9",
         "10",
         "2020-01-10",
         "2020",
         "1",
         "10"
        ],
        [
         "10",
         "11",
         "2020-01-11",
         "2020",
         "1",
         "11"
        ],
        [
         "11",
         "12",
         "2020-01-12",
         "2020",
         "1",
         "12"
        ],
        [
         "12",
         "13",
         "2020-01-13",
         "2020",
         "1",
         "13"
        ],
        [
         "13",
         "14",
         "2020-01-14",
         "2020",
         "1",
         "14"
        ],
        [
         "14",
         "15",
         "2020-01-15",
         "2020",
         "1",
         "15"
        ],
        [
         "15",
         "16",
         "2020-01-16",
         "2020",
         "1",
         "16"
        ],
        [
         "16",
         "17",
         "2020-01-17",
         "2020",
         "1",
         "17"
        ],
        [
         "17",
         "18",
         "2020-01-18",
         "2020",
         "1",
         "18"
        ],
        [
         "18",
         "19",
         "2020-01-19",
         "2020",
         "1",
         "19"
        ],
        [
         "19",
         "20",
         "2020-01-20",
         "2020",
         "1",
         "20"
        ],
        [
         "20",
         "21",
         "2020-01-21",
         "2020",
         "1",
         "21"
        ],
        [
         "21",
         "22",
         "2020-01-22",
         "2020",
         "1",
         "22"
        ],
        [
         "22",
         "23",
         "2020-01-23",
         "2020",
         "1",
         "23"
        ],
        [
         "23",
         "24",
         "2020-01-24",
         "2020",
         "1",
         "24"
        ],
        [
         "24",
         "25",
         "2020-01-25",
         "2020",
         "1",
         "25"
        ],
        [
         "25",
         "26",
         "2020-01-26",
         "2020",
         "1",
         "26"
        ],
        [
         "26",
         "27",
         "2020-01-27",
         "2020",
         "1",
         "27"
        ],
        [
         "27",
         "28",
         "2020-01-28",
         "2020",
         "1",
         "28"
        ],
        [
         "28",
         "29",
         "2020-01-29",
         "2020",
         "1",
         "29"
        ],
        [
         "29",
         "30",
         "2020-01-30",
         "2020",
         "1",
         "30"
        ],
        [
         "30",
         "31",
         "2020-01-31",
         "2020",
         "1",
         "31"
        ],
        [
         "31",
         "32",
         "2020-02-01",
         "2020",
         "2",
         "1"
        ],
        [
         "32",
         "33",
         "2020-02-02",
         "2020",
         "2",
         "2"
        ],
        [
         "33",
         "34",
         "2020-02-03",
         "2020",
         "2",
         "3"
        ],
        [
         "34",
         "35",
         "2020-02-04",
         "2020",
         "2",
         "4"
        ],
        [
         "35",
         "36",
         "2020-02-05",
         "2020",
         "2",
         "5"
        ],
        [
         "36",
         "37",
         "2020-02-06",
         "2020",
         "2",
         "6"
        ],
        [
         "37",
         "38",
         "2020-02-07",
         "2020",
         "2",
         "7"
        ],
        [
         "38",
         "39",
         "2020-02-08",
         "2020",
         "2",
         "8"
        ],
        [
         "39",
         "40",
         "2020-02-09",
         "2020",
         "2",
         "9"
        ],
        [
         "40",
         "41",
         "2020-02-10",
         "2020",
         "2",
         "10"
        ],
        [
         "41",
         "42",
         "2020-02-11",
         "2020",
         "2",
         "11"
        ],
        [
         "42",
         "43",
         "2020-02-12",
         "2020",
         "2",
         "12"
        ],
        [
         "43",
         "44",
         "2020-02-13",
         "2020",
         "2",
         "13"
        ],
        [
         "44",
         "45",
         "2020-02-14",
         "2020",
         "2",
         "14"
        ],
        [
         "45",
         "46",
         "2020-02-15",
         "2020",
         "2",
         "15"
        ],
        [
         "46",
         "47",
         "2020-02-16",
         "2020",
         "2",
         "16"
        ],
        [
         "47",
         "48",
         "2020-02-17",
         "2020",
         "2",
         "17"
        ],
        [
         "48",
         "49",
         "2020-02-18",
         "2020",
         "2",
         "18"
        ],
        [
         "49",
         "50",
         "2020-02-19",
         "2020",
         "2",
         "19"
        ]
       ],
       "shape": {
        "columns": 5,
        "rows": 25933
       }
      },
      "text/html": [
       "<div>\n",
       "<style scoped>\n",
       "    .dataframe tbody tr th:only-of-type {\n",
       "        vertical-align: middle;\n",
       "    }\n",
       "\n",
       "    .dataframe tbody tr th {\n",
       "        vertical-align: top;\n",
       "    }\n",
       "\n",
       "    .dataframe thead th {\n",
       "        text-align: right;\n",
       "    }\n",
       "</style>\n",
       "<table border=\"1\" class=\"dataframe\">\n",
       "  <thead>\n",
       "    <tr style=\"text-align: right;\">\n",
       "      <th></th>\n",
       "      <th>date_id</th>\n",
       "      <th>date</th>\n",
       "      <th>Year</th>\n",
       "      <th>Month</th>\n",
       "      <th>Day</th>\n",
       "    </tr>\n",
       "  </thead>\n",
       "  <tbody>\n",
       "    <tr>\n",
       "      <th>0</th>\n",
       "      <td>1</td>\n",
       "      <td>2020-01-01</td>\n",
       "      <td>2020</td>\n",
       "      <td>1</td>\n",
       "      <td>1</td>\n",
       "    </tr>\n",
       "    <tr>\n",
       "      <th>1</th>\n",
       "      <td>2</td>\n",
       "      <td>2020-01-02</td>\n",
       "      <td>2020</td>\n",
       "      <td>1</td>\n",
       "      <td>2</td>\n",
       "    </tr>\n",
       "    <tr>\n",
       "      <th>2</th>\n",
       "      <td>3</td>\n",
       "      <td>2020-01-03</td>\n",
       "      <td>2020</td>\n",
       "      <td>1</td>\n",
       "      <td>3</td>\n",
       "    </tr>\n",
       "    <tr>\n",
       "      <th>3</th>\n",
       "      <td>4</td>\n",
       "      <td>2020-01-04</td>\n",
       "      <td>2020</td>\n",
       "      <td>1</td>\n",
       "      <td>4</td>\n",
       "    </tr>\n",
       "    <tr>\n",
       "      <th>4</th>\n",
       "      <td>5</td>\n",
       "      <td>2020-01-05</td>\n",
       "      <td>2020</td>\n",
       "      <td>1</td>\n",
       "      <td>5</td>\n",
       "    </tr>\n",
       "    <tr>\n",
       "      <th>...</th>\n",
       "      <td>...</td>\n",
       "      <td>...</td>\n",
       "      <td>...</td>\n",
       "      <td>...</td>\n",
       "      <td>...</td>\n",
       "    </tr>\n",
       "    <tr>\n",
       "      <th>25928</th>\n",
       "      <td>25929</td>\n",
       "      <td>2090-12-27</td>\n",
       "      <td>2090</td>\n",
       "      <td>12</td>\n",
       "      <td>27</td>\n",
       "    </tr>\n",
       "    <tr>\n",
       "      <th>25929</th>\n",
       "      <td>25930</td>\n",
       "      <td>2090-12-28</td>\n",
       "      <td>2090</td>\n",
       "      <td>12</td>\n",
       "      <td>28</td>\n",
       "    </tr>\n",
       "    <tr>\n",
       "      <th>25930</th>\n",
       "      <td>25931</td>\n",
       "      <td>2090-12-29</td>\n",
       "      <td>2090</td>\n",
       "      <td>12</td>\n",
       "      <td>29</td>\n",
       "    </tr>\n",
       "    <tr>\n",
       "      <th>25931</th>\n",
       "      <td>25932</td>\n",
       "      <td>2090-12-30</td>\n",
       "      <td>2090</td>\n",
       "      <td>12</td>\n",
       "      <td>30</td>\n",
       "    </tr>\n",
       "    <tr>\n",
       "      <th>25932</th>\n",
       "      <td>25933</td>\n",
       "      <td>2090-12-31</td>\n",
       "      <td>2090</td>\n",
       "      <td>12</td>\n",
       "      <td>31</td>\n",
       "    </tr>\n",
       "  </tbody>\n",
       "</table>\n",
       "<p>25933 rows × 5 columns</p>\n",
       "</div>"
      ],
      "text/plain": [
       "       date_id        date  Year  Month  Day\n",
       "0            1  2020-01-01  2020      1    1\n",
       "1            2  2020-01-02  2020      1    2\n",
       "2            3  2020-01-03  2020      1    3\n",
       "3            4  2020-01-04  2020      1    4\n",
       "4            5  2020-01-05  2020      1    5\n",
       "...        ...         ...   ...    ...  ...\n",
       "25928    25929  2090-12-27  2090     12   27\n",
       "25929    25930  2090-12-28  2090     12   28\n",
       "25930    25931  2090-12-29  2090     12   29\n",
       "25931    25932  2090-12-30  2090     12   30\n",
       "25932    25933  2090-12-31  2090     12   31\n",
       "\n",
       "[25933 rows x 5 columns]"
      ]
     },
     "execution_count": 139,
     "metadata": {},
     "output_type": "execute_result"
    }
   ],
   "source": [
    "date_dim"
   ]
  },
  {
   "cell_type": "code",
   "execution_count": 140,
   "id": "cc88519e",
   "metadata": {},
   "outputs": [],
   "source": [
    "\n",
    "# Accounts table from 2NF to 3NF\n",
    "account['OpeningDate'] = pd.to_datetime(account['OpeningDate']).dt.date\n",
    "account = account.merge(date_dim, left_on='OpeningDate', right_on='date', how='inner') \\\n",
    "                 .rename(columns={'date_id': 'OpeningDate_ID'}) \\\n",
    "                 .reset_index(drop=True) \\\n",
    "                [['Account_id', 'AccountType', 'Balance', 'OpeningDate_ID']]"
   ]
  },
  {
   "cell_type": "code",
   "execution_count": 141,
   "id": "412e4e10",
   "metadata": {},
   "outputs": [
    {
     "data": {
      "application/vnd.microsoft.datawrangler.viewer.v0+json": {
       "columns": [
        {
         "name": "index",
         "rawType": "int64",
         "type": "integer"
        },
        {
         "name": "Account_id",
         "rawType": "int64",
         "type": "integer"
        },
        {
         "name": "AccountType",
         "rawType": "object",
         "type": "string"
        },
        {
         "name": "Balance",
         "rawType": "float64",
         "type": "float"
        },
        {
         "name": "OpeningDate_ID",
         "rawType": "int64",
         "type": "integer"
        }
       ],
       "ref": "d18027c1-f229-4a17-b273-5d0a8aeb5867",
       "rows": [
        [
         "0",
         "6",
         "Savings",
         "2391.9",
         "261"
        ],
        [
         "1",
         "7",
         "Savings",
         "2391.9",
         "261"
        ],
        [
         "2",
         "8",
         "Savings",
         "2391.9",
         "261"
        ],
        [
         "3",
         "9",
         "Credit",
         "7880.53",
         "1322"
        ],
        [
         "4",
         "10",
         "Credit",
         "7880.53",
         "1322"
        ],
        [
         "5",
         "12",
         "Savings",
         "947.43",
         "857"
        ],
        [
         "6",
         "13",
         "Savings",
         "4492.62",
         "244"
        ],
        [
         "7",
         "14",
         "Credit",
         "8439.15",
         "310"
        ],
        [
         "8",
         "15",
         "Checking",
         "9232.35",
         "895"
        ],
        [
         "9",
         "17",
         "Checking",
         "3721.97",
         "1029"
        ],
        [
         "10",
         "18",
         "Checking",
         "3721.97",
         "1029"
        ],
        [
         "11",
         "19",
         "Checking",
         "3721.97",
         "1029"
        ],
        [
         "12",
         "20",
         "Checking",
         "4532.51",
         "982"
        ],
        [
         "13",
         "21",
         "Checking",
         "2448.6",
         "1039"
        ],
        [
         "14",
         "22",
         "Checking",
         "2448.6",
         "1039"
        ],
        [
         "15",
         "23",
         "Checking",
         "2448.6",
         "1039"
        ],
        [
         "16",
         "25",
         "Savings",
         "9772.03",
         "212"
        ],
        [
         "17",
         "26",
         "Savings",
         "4846.99",
         "602"
        ],
        [
         "18",
         "27",
         "Credit",
         "1496.1",
         "533"
        ],
        [
         "19",
         "28",
         "Credit",
         "1496.1",
         "533"
        ],
        [
         "20",
         "29",
         "Credit",
         "1496.1",
         "533"
        ],
        [
         "21",
         "30",
         "Savings",
         "8268.0",
         "375"
        ],
        [
         "22",
         "31",
         "Savings",
         "4315.64",
         "1195"
        ],
        [
         "23",
         "32",
         "Checking",
         "7676.38",
         "512"
        ],
        [
         "24",
         "34",
         "Checking",
         "5164.29",
         "978"
        ],
        [
         "25",
         "35",
         "Credit",
         "8539.34",
         "1180"
        ],
        [
         "26",
         "39",
         "Credit",
         "444.6",
         "671"
        ],
        [
         "27",
         "40",
         "Credit",
         "444.6",
         "671"
        ],
        [
         "28",
         "41",
         "Credit",
         "444.6",
         "671"
        ],
        [
         "29",
         "42",
         "Credit",
         "444.6",
         "671"
        ],
        [
         "30",
         "43",
         "Savings",
         "8330.83",
         "1484"
        ],
        [
         "31",
         "44",
         "Savings",
         "8330.83",
         "1484"
        ],
        [
         "32",
         "45",
         "Savings",
         "8330.83",
         "1484"
        ],
        [
         "33",
         "46",
         "Savings",
         "8648.97",
         "887"
        ],
        [
         "34",
         "47",
         "Savings",
         "8648.97",
         "887"
        ],
        [
         "35",
         "48",
         "Savings",
         "7446.25",
         "1398"
        ],
        [
         "36",
         "49",
         "Checking",
         "9529.29",
         "1223"
        ],
        [
         "37",
         "50",
         "Savings",
         "5051.48",
         "867"
        ],
        [
         "38",
         "51",
         "Checking",
         "4880.23",
         "274"
        ],
        [
         "39",
         "52",
         "Savings",
         "8380.64",
         "694"
        ],
        [
         "40",
         "53",
         "Savings",
         "8380.64",
         "694"
        ],
        [
         "41",
         "56",
         "Checking",
         "4000.76",
         "1356"
        ],
        [
         "42",
         "57",
         "Checking",
         "4000.76",
         "1356"
        ],
        [
         "43",
         "58",
         "Checking",
         "4000.76",
         "1356"
        ],
        [
         "44",
         "60",
         "Credit",
         "3099.1",
         "756"
        ],
        [
         "45",
         "61",
         "Checking",
         "4765.84",
         "781"
        ],
        [
         "46",
         "62",
         "Checking",
         "4765.84",
         "781"
        ],
        [
         "47",
         "63",
         "Checking",
         "6400.46",
         "447"
        ],
        [
         "48",
         "64",
         "Checking",
         "3099.96",
         "1221"
        ],
        [
         "49",
         "65",
         "Credit",
         "1496.1",
         "533"
        ]
       ],
       "shape": {
        "columns": 4,
        "rows": 1258
       }
      },
      "text/html": [
       "<div>\n",
       "<style scoped>\n",
       "    .dataframe tbody tr th:only-of-type {\n",
       "        vertical-align: middle;\n",
       "    }\n",
       "\n",
       "    .dataframe tbody tr th {\n",
       "        vertical-align: top;\n",
       "    }\n",
       "\n",
       "    .dataframe thead th {\n",
       "        text-align: right;\n",
       "    }\n",
       "</style>\n",
       "<table border=\"1\" class=\"dataframe\">\n",
       "  <thead>\n",
       "    <tr style=\"text-align: right;\">\n",
       "      <th></th>\n",
       "      <th>Account_id</th>\n",
       "      <th>AccountType</th>\n",
       "      <th>Balance</th>\n",
       "      <th>OpeningDate_ID</th>\n",
       "    </tr>\n",
       "  </thead>\n",
       "  <tbody>\n",
       "    <tr>\n",
       "      <th>0</th>\n",
       "      <td>6</td>\n",
       "      <td>Savings</td>\n",
       "      <td>2391.90</td>\n",
       "      <td>261</td>\n",
       "    </tr>\n",
       "    <tr>\n",
       "      <th>1</th>\n",
       "      <td>7</td>\n",
       "      <td>Savings</td>\n",
       "      <td>2391.90</td>\n",
       "      <td>261</td>\n",
       "    </tr>\n",
       "    <tr>\n",
       "      <th>2</th>\n",
       "      <td>8</td>\n",
       "      <td>Savings</td>\n",
       "      <td>2391.90</td>\n",
       "      <td>261</td>\n",
       "    </tr>\n",
       "    <tr>\n",
       "      <th>3</th>\n",
       "      <td>9</td>\n",
       "      <td>Credit</td>\n",
       "      <td>7880.53</td>\n",
       "      <td>1322</td>\n",
       "    </tr>\n",
       "    <tr>\n",
       "      <th>4</th>\n",
       "      <td>10</td>\n",
       "      <td>Credit</td>\n",
       "      <td>7880.53</td>\n",
       "      <td>1322</td>\n",
       "    </tr>\n",
       "    <tr>\n",
       "      <th>...</th>\n",
       "      <td>...</td>\n",
       "      <td>...</td>\n",
       "      <td>...</td>\n",
       "      <td>...</td>\n",
       "    </tr>\n",
       "    <tr>\n",
       "      <th>1253</th>\n",
       "      <td>1546</td>\n",
       "      <td>Checking</td>\n",
       "      <td>660.41</td>\n",
       "      <td>1482</td>\n",
       "    </tr>\n",
       "    <tr>\n",
       "      <th>1254</th>\n",
       "      <td>1549</td>\n",
       "      <td>Checking</td>\n",
       "      <td>6463.29</td>\n",
       "      <td>1376</td>\n",
       "    </tr>\n",
       "    <tr>\n",
       "      <th>1255</th>\n",
       "      <td>1550</td>\n",
       "      <td>Checking</td>\n",
       "      <td>6463.29</td>\n",
       "      <td>1376</td>\n",
       "    </tr>\n",
       "    <tr>\n",
       "      <th>1256</th>\n",
       "      <td>1551</td>\n",
       "      <td>Checking</td>\n",
       "      <td>6463.29</td>\n",
       "      <td>1376</td>\n",
       "    </tr>\n",
       "    <tr>\n",
       "      <th>1257</th>\n",
       "      <td>1554</td>\n",
       "      <td>Savings</td>\n",
       "      <td>9418.14</td>\n",
       "      <td>392</td>\n",
       "    </tr>\n",
       "  </tbody>\n",
       "</table>\n",
       "<p>1258 rows × 4 columns</p>\n",
       "</div>"
      ],
      "text/plain": [
       "      Account_id AccountType  Balance  OpeningDate_ID\n",
       "0              6     Savings  2391.90             261\n",
       "1              7     Savings  2391.90             261\n",
       "2              8     Savings  2391.90             261\n",
       "3              9      Credit  7880.53            1322\n",
       "4             10      Credit  7880.53            1322\n",
       "...          ...         ...      ...             ...\n",
       "1253        1546    Checking   660.41            1482\n",
       "1254        1549    Checking  6463.29            1376\n",
       "1255        1550    Checking  6463.29            1376\n",
       "1256        1551    Checking  6463.29            1376\n",
       "1257        1554     Savings  9418.14             392\n",
       "\n",
       "[1258 rows x 4 columns]"
      ]
     },
     "execution_count": 141,
     "metadata": {},
     "output_type": "execute_result"
    }
   ],
   "source": [
    "account"
   ]
  },
  {
   "cell_type": "code",
   "execution_count": 142,
   "id": "7e45de1f",
   "metadata": {},
   "outputs": [],
   "source": [
    "#Transaction table from 2NF to 3NF\n",
    "transaction['TransactionDate'] = pd.to_datetime(transaction['TransactionDate']).dt.date\n",
    "transaction = transaction.merge(date_dim, left_on='TransactionDate', right_on='date', how='inner') \\\n",
    "                         .rename(columns={'date_id': 'TransactionDate_ID'}) \\\n",
    "                         .reset_index(drop=True)[['Transaction_id', 'TransactionType', 'Amount', 'TransactionDate_ID']]\n"
   ]
  },
  {
   "cell_type": "code",
   "execution_count": 143,
   "id": "33abee1e",
   "metadata": {},
   "outputs": [
    {
     "data": {
      "application/vnd.microsoft.datawrangler.viewer.v0+json": {
       "columns": [
        {
         "name": "index",
         "rawType": "int64",
         "type": "integer"
        },
        {
         "name": "Transaction_id",
         "rawType": "int64",
         "type": "integer"
        },
        {
         "name": "TransactionType",
         "rawType": "object",
         "type": "string"
        },
        {
         "name": "Amount",
         "rawType": "float64",
         "type": "float"
        },
        {
         "name": "TransactionDate_ID",
         "rawType": "int64",
         "type": "integer"
        }
       ],
       "ref": "70c50621-5086-4ea9-9234-9d72978b0d3e",
       "rows": [
        [
         "0",
         "1",
         "withdrawal",
         "102.15",
         "1212"
        ],
        [
         "1",
         "2",
         "withdrawal",
         "358.8",
         "165"
        ],
        [
         "2",
         "4",
         "deposit",
         "463.13",
         "246"
        ],
        [
         "3",
         "5",
         "withdrawal",
         "21.94",
         "915"
        ],
        [
         "4",
         "8",
         "withdrawal",
         "256.62",
         "873"
        ],
        [
         "5",
         "9",
         "deposit",
         "272.21",
         "1243"
        ],
        [
         "6",
         "10",
         "withdrawal",
         "498.95",
         "539"
        ],
        [
         "7",
         "11",
         "withdrawal",
         "369.25",
         "1033"
        ],
        [
         "8",
         "12",
         "withdrawal",
         "295.89",
         "641"
        ],
        [
         "9",
         "13",
         "deposit",
         "344.01",
         "1160"
        ],
        [
         "10",
         "14",
         "withdrawal",
         "268.86",
         "1296"
        ],
        [
         "11",
         "15",
         "deposit",
         "452.34",
         "61"
        ],
        [
         "12",
         "16",
         "withdrawal",
         "416.56",
         "1188"
        ],
        [
         "13",
         "18",
         "withdrawal",
         "355.49",
         "851"
        ],
        [
         "14",
         "19",
         "withdrawal",
         "56.89",
         "465"
        ],
        [
         "15",
         "20",
         "withdrawal",
         "40.97",
         "842"
        ],
        [
         "16",
         "21",
         "deposit",
         "150.47",
         "64"
        ],
        [
         "17",
         "22",
         "deposit",
         "68.11",
         "867"
        ],
        [
         "18",
         "23",
         "withdrawal",
         "125.53",
         "391"
        ],
        [
         "19",
         "24",
         "withdrawal",
         "168.54",
         "258"
        ],
        [
         "20",
         "25",
         "withdrawal",
         "236.09",
         "315"
        ],
        [
         "21",
         "26",
         "deposit",
         "297.99",
         "1217"
        ],
        [
         "22",
         "27",
         "deposit",
         "147.5",
         "18"
        ],
        [
         "23",
         "29",
         "withdrawal",
         "351.38",
         "870"
        ],
        [
         "24",
         "30",
         "deposit",
         "403.71",
         "1414"
        ],
        [
         "25",
         "31",
         "deposit",
         "358.37",
         "973"
        ],
        [
         "26",
         "32",
         "deposit",
         "140.67",
         "1043"
        ],
        [
         "27",
         "33",
         "deposit",
         "268.39",
         "1138"
        ],
        [
         "28",
         "34",
         "deposit",
         "93.16",
         "259"
        ],
        [
         "29",
         "35",
         "withdrawal",
         "384.83",
         "1483"
        ],
        [
         "30",
         "37",
         "deposit",
         "30.0",
         "1151"
        ],
        [
         "31",
         "38",
         "deposit",
         "494.22",
         "1006"
        ],
        [
         "32",
         "39",
         "withdrawal",
         "465.1",
         "537"
        ],
        [
         "33",
         "41",
         "withdrawal",
         "105.12",
         "1064"
        ],
        [
         "34",
         "42",
         "withdrawal",
         "412.17",
         "1052"
        ],
        [
         "35",
         "43",
         "withdrawal",
         "328.65",
         "321"
        ],
        [
         "36",
         "44",
         "deposit",
         "448.75",
         "670"
        ],
        [
         "37",
         "45",
         "withdrawal",
         "36.85",
         "644"
        ],
        [
         "38",
         "46",
         "deposit",
         "430.92",
         "1351"
        ],
        [
         "39",
         "47",
         "withdrawal",
         "167.84",
         "62"
        ],
        [
         "40",
         "48",
         "withdrawal",
         "387.49",
         "1158"
        ],
        [
         "41",
         "50",
         "deposit",
         "227.4",
         "1446"
        ],
        [
         "42",
         "51",
         "withdrawal",
         "370.16",
         "320"
        ],
        [
         "43",
         "53",
         "withdrawal",
         "50.99",
         "529"
        ],
        [
         "44",
         "54",
         "withdrawal",
         "426.91",
         "819"
        ],
        [
         "45",
         "55",
         "withdrawal",
         "86.29",
         "1091"
        ],
        [
         "46",
         "56",
         "withdrawal",
         "193.12",
         "1121"
        ],
        [
         "47",
         "57",
         "deposit",
         "271.18",
         "407"
        ],
        [
         "48",
         "58",
         "withdrawal",
         "337.93",
         "296"
        ],
        [
         "49",
         "59",
         "withdrawal",
         "46.76",
         "1484"
        ]
       ],
       "shape": {
        "columns": 4,
        "rows": 810
       }
      },
      "text/html": [
       "<div>\n",
       "<style scoped>\n",
       "    .dataframe tbody tr th:only-of-type {\n",
       "        vertical-align: middle;\n",
       "    }\n",
       "\n",
       "    .dataframe tbody tr th {\n",
       "        vertical-align: top;\n",
       "    }\n",
       "\n",
       "    .dataframe thead th {\n",
       "        text-align: right;\n",
       "    }\n",
       "</style>\n",
       "<table border=\"1\" class=\"dataframe\">\n",
       "  <thead>\n",
       "    <tr style=\"text-align: right;\">\n",
       "      <th></th>\n",
       "      <th>Transaction_id</th>\n",
       "      <th>TransactionType</th>\n",
       "      <th>Amount</th>\n",
       "      <th>TransactionDate_ID</th>\n",
       "    </tr>\n",
       "  </thead>\n",
       "  <tbody>\n",
       "    <tr>\n",
       "      <th>0</th>\n",
       "      <td>1</td>\n",
       "      <td>withdrawal</td>\n",
       "      <td>102.15</td>\n",
       "      <td>1212</td>\n",
       "    </tr>\n",
       "    <tr>\n",
       "      <th>1</th>\n",
       "      <td>2</td>\n",
       "      <td>withdrawal</td>\n",
       "      <td>358.80</td>\n",
       "      <td>165</td>\n",
       "    </tr>\n",
       "    <tr>\n",
       "      <th>2</th>\n",
       "      <td>4</td>\n",
       "      <td>deposit</td>\n",
       "      <td>463.13</td>\n",
       "      <td>246</td>\n",
       "    </tr>\n",
       "    <tr>\n",
       "      <th>3</th>\n",
       "      <td>5</td>\n",
       "      <td>withdrawal</td>\n",
       "      <td>21.94</td>\n",
       "      <td>915</td>\n",
       "    </tr>\n",
       "    <tr>\n",
       "      <th>4</th>\n",
       "      <td>8</td>\n",
       "      <td>withdrawal</td>\n",
       "      <td>256.62</td>\n",
       "      <td>873</td>\n",
       "    </tr>\n",
       "    <tr>\n",
       "      <th>...</th>\n",
       "      <td>...</td>\n",
       "      <td>...</td>\n",
       "      <td>...</td>\n",
       "      <td>...</td>\n",
       "    </tr>\n",
       "    <tr>\n",
       "      <th>805</th>\n",
       "      <td>996</td>\n",
       "      <td>withdrawal</td>\n",
       "      <td>303.30</td>\n",
       "      <td>1286</td>\n",
       "    </tr>\n",
       "    <tr>\n",
       "      <th>806</th>\n",
       "      <td>997</td>\n",
       "      <td>deposit</td>\n",
       "      <td>484.00</td>\n",
       "      <td>362</td>\n",
       "    </tr>\n",
       "    <tr>\n",
       "      <th>807</th>\n",
       "      <td>998</td>\n",
       "      <td>withdrawal</td>\n",
       "      <td>427.36</td>\n",
       "      <td>1266</td>\n",
       "    </tr>\n",
       "    <tr>\n",
       "      <th>808</th>\n",
       "      <td>999</td>\n",
       "      <td>withdrawal</td>\n",
       "      <td>415.01</td>\n",
       "      <td>771</td>\n",
       "    </tr>\n",
       "    <tr>\n",
       "      <th>809</th>\n",
       "      <td>1000</td>\n",
       "      <td>deposit</td>\n",
       "      <td>115.48</td>\n",
       "      <td>655</td>\n",
       "    </tr>\n",
       "  </tbody>\n",
       "</table>\n",
       "<p>810 rows × 4 columns</p>\n",
       "</div>"
      ],
      "text/plain": [
       "     Transaction_id TransactionType  Amount  TransactionDate_ID\n",
       "0                 1      withdrawal  102.15                1212\n",
       "1                 2      withdrawal  358.80                 165\n",
       "2                 4         deposit  463.13                 246\n",
       "3                 5      withdrawal   21.94                 915\n",
       "4                 8      withdrawal  256.62                 873\n",
       "..              ...             ...     ...                 ...\n",
       "805             996      withdrawal  303.30                1286\n",
       "806             997         deposit  484.00                 362\n",
       "807             998      withdrawal  427.36                1266\n",
       "808             999      withdrawal  415.01                 771\n",
       "809            1000         deposit  115.48                 655\n",
       "\n",
       "[810 rows x 4 columns]"
      ]
     },
     "execution_count": 143,
     "metadata": {},
     "output_type": "execute_result"
    }
   ],
   "source": [
    "transaction"
   ]
  },
  {
   "cell_type": "code",
   "execution_count": 144,
   "id": "58eb5148",
   "metadata": {},
   "outputs": [],
   "source": [
    "#Loan table from 2NF to 3NF\n",
    "loan['StartDate'] = pd.to_datetime(loan['StartDate']).dt.date\n",
    "loan['EndDate'] = pd.to_datetime(loan['EndDate']).dt.date   \n",
    "loan = loan.merge(date_dim, left_on='StartDate', right_on='date', how='inner') \\\n",
    "           .rename(columns={'date_id': 'StartDate_ID'}) \\\n",
    "           .reset_index(drop=True) \\\n",
    "           .merge(date_dim, left_on='EndDate', right_on='date', how='inner', suffixes=('', '_end')) \\\n",
    "           .rename(columns={'date_id': 'EndDate_ID'}) \\\n",
    "           .reset_index(drop=True) \\\n",
    "           [['Loan_id', 'LoanType', 'LoanAmount', 'StartDate_ID', 'EndDate_ID', 'InterestRate']]\n"
   ]
  },
  {
   "cell_type": "code",
   "execution_count": 145,
   "id": "a51c6dc5",
   "metadata": {},
   "outputs": [
    {
     "data": {
      "application/vnd.microsoft.datawrangler.viewer.v0+json": {
       "columns": [
        {
         "name": "index",
         "rawType": "int64",
         "type": "integer"
        },
        {
         "name": "Loan_id",
         "rawType": "int64",
         "type": "integer"
        },
        {
         "name": "LoanType",
         "rawType": "object",
         "type": "string"
        },
        {
         "name": "LoanAmount",
         "rawType": "float64",
         "type": "float"
        },
        {
         "name": "StartDate_ID",
         "rawType": "int64",
         "type": "integer"
        },
        {
         "name": "EndDate_ID",
         "rawType": "int64",
         "type": "integer"
        },
        {
         "name": "InterestRate",
         "rawType": "float64",
         "type": "float"
        }
       ],
       "ref": "074fd08d-43a6-4ed7-98a6-30b8af9e5813",
       "rows": [
        [
         "0",
         "2",
         "Mortgage",
         "32428.9",
         "541",
         "10966",
         "2.12"
        ],
        [
         "1",
         "3",
         "Personal",
         "31406.77",
         "424",
         "6860",
         "4.63"
        ],
        [
         "2",
         "5",
         "Auto",
         "27873.08",
         "750",
         "6364",
         "7.03"
        ],
        [
         "3",
         "6",
         "Auto",
         "25666.75",
         "1225",
         "7058",
         "6.84"
        ],
        [
         "4",
         "7",
         "Personal",
         "23853.85",
         "1491",
         "6618",
         "7.41"
        ],
        [
         "5",
         "8",
         "Personal",
         "8092.2",
         "596",
         "5943",
         "2.85"
        ],
        [
         "6",
         "9",
         "Personal",
         "11074.47",
         "773",
         "4510",
         "5.36"
        ],
        [
         "7",
         "10",
         "Personal",
         "38903.23",
         "561",
         "8316",
         "2.28"
        ],
        [
         "8",
         "11",
         "Personal",
         "18162.6",
         "1409",
         "3235",
         "2.12"
        ],
        [
         "9",
         "12",
         "Mortgage",
         "12965.19",
         "929",
         "4745",
         "7.43"
        ],
        [
         "10",
         "13",
         "Mortgage",
         "37664.6",
         "1086",
         "4775",
         "4.45"
        ],
        [
         "11",
         "14",
         "Auto",
         "33958.37",
         "1084",
         "6094",
         "5.2"
        ],
        [
         "12",
         "16",
         "Mortgage",
         "24333.16",
         "1386",
         "2149",
         "1.79"
        ],
        [
         "13",
         "17",
         "Auto",
         "26360.24",
         "239",
         "2332",
         "2.89"
        ],
        [
         "14",
         "19",
         "Mortgage",
         "19565.92",
         "1063",
         "11263",
         "3.28"
        ],
        [
         "15",
         "21",
         "Personal",
         "42684.76",
         "1476",
         "10273",
         "1.96"
        ],
        [
         "16",
         "22",
         "Mortgage",
         "34427.31",
         "938",
         "4036",
         "4.02"
        ],
        [
         "17",
         "23",
         "Auto",
         "17430.29",
         "1385",
         "9470",
         "2.8"
        ],
        [
         "18",
         "24",
         "Auto",
         "14964.93",
         "357",
         "8328",
         "5.33"
        ],
        [
         "19",
         "25",
         "Mortgage",
         "35994.71",
         "1342",
         "10359",
         "3.52"
        ],
        [
         "20",
         "28",
         "Mortgage",
         "35911.84",
         "1142",
         "9184",
         "4.0"
        ],
        [
         "21",
         "30",
         "Personal",
         "26011.89",
         "11",
         "10731",
         "6.82"
        ],
        [
         "22",
         "31",
         "Auto",
         "26282.21",
         "9",
         "10903",
         "3.51"
        ],
        [
         "23",
         "32",
         "Mortgage",
         "40432.8",
         "1387",
         "11702",
         "4.29"
        ],
        [
         "24",
         "33",
         "Auto",
         "49124.49",
         "1040",
         "4206",
         "5.58"
        ],
        [
         "25",
         "34",
         "Personal",
         "48233.91",
         "1433",
         "10312",
         "4.7"
        ],
        [
         "26",
         "35",
         "Mortgage",
         "5710.02",
         "1428",
         "9932",
         "5.45"
        ],
        [
         "27",
         "37",
         "Mortgage",
         "35193.83",
         "383",
         "3539",
         "1.85"
        ],
        [
         "28",
         "38",
         "Personal",
         "38009.14",
         "1197",
         "11773",
         "5.8"
        ],
        [
         "29",
         "41",
         "Personal",
         "32850.56",
         "694",
         "3918",
         "2.81"
        ],
        [
         "30",
         "42",
         "Mortgage",
         "13931.18",
         "396",
         "6127",
         "3.35"
        ],
        [
         "31",
         "43",
         "Auto",
         "48933.91",
         "219",
         "6150",
         "4.43"
        ],
        [
         "32",
         "45",
         "Mortgage",
         "19607.01",
         "1296",
         "4876",
         "2.93"
        ],
        [
         "33",
         "46",
         "Auto",
         "39348.0",
         "40",
         "3683",
         "4.95"
        ],
        [
         "34",
         "47",
         "Auto",
         "49675.33",
         "713",
         "6067",
         "3.89"
        ],
        [
         "35",
         "48",
         "Personal",
         "31033.48",
         "1411",
         "11419",
         "5.66"
        ],
        [
         "36",
         "50",
         "Personal",
         "8419.93",
         "668",
         "6659",
         "4.1"
        ],
        [
         "37",
         "51",
         "Auto",
         "20109.87",
         "547",
         "12259",
         "4.66"
        ],
        [
         "38",
         "52",
         "Auto",
         "47203.82",
         "532",
         "9086",
         "5.28"
        ],
        [
         "39",
         "53",
         "Mortgage",
         "27719.17",
         "774",
         "12262",
         "1.54"
        ],
        [
         "40",
         "54",
         "Auto",
         "38994.49",
         "359",
         "2435",
         "5.55"
        ],
        [
         "41",
         "55",
         "Personal",
         "28988.77",
         "83",
         "3071",
         "3.06"
        ],
        [
         "42",
         "56",
         "Auto",
         "39189.96",
         "1307",
         "2622",
         "6.36"
        ],
        [
         "43",
         "57",
         "Personal",
         "19635.04",
         "580",
         "2203",
         "4.89"
        ],
        [
         "44",
         "58",
         "Mortgage",
         "42324.23",
         "1190",
         "8118",
         "5.25"
        ],
        [
         "45",
         "59",
         "Auto",
         "19426.95",
         "535",
         "2817",
         "7.29"
        ],
        [
         "46",
         "60",
         "Mortgage",
         "13967.51",
         "1215",
         "3281",
         "6.27"
        ],
        [
         "47",
         "61",
         "Auto",
         "35115.06",
         "1340",
         "2705",
         "5.87"
        ],
        [
         "48",
         "62",
         "Auto",
         "32793.41",
         "243",
         "8194",
         "3.97"
        ],
        [
         "49",
         "63",
         "Auto",
         "36341.34",
         "515",
         "9235",
         "4.43"
        ]
       ],
       "shape": {
        "columns": 6,
        "rows": 103
       }
      },
      "text/html": [
       "<div>\n",
       "<style scoped>\n",
       "    .dataframe tbody tr th:only-of-type {\n",
       "        vertical-align: middle;\n",
       "    }\n",
       "\n",
       "    .dataframe tbody tr th {\n",
       "        vertical-align: top;\n",
       "    }\n",
       "\n",
       "    .dataframe thead th {\n",
       "        text-align: right;\n",
       "    }\n",
       "</style>\n",
       "<table border=\"1\" class=\"dataframe\">\n",
       "  <thead>\n",
       "    <tr style=\"text-align: right;\">\n",
       "      <th></th>\n",
       "      <th>Loan_id</th>\n",
       "      <th>LoanType</th>\n",
       "      <th>LoanAmount</th>\n",
       "      <th>StartDate_ID</th>\n",
       "      <th>EndDate_ID</th>\n",
       "      <th>InterestRate</th>\n",
       "    </tr>\n",
       "  </thead>\n",
       "  <tbody>\n",
       "    <tr>\n",
       "      <th>0</th>\n",
       "      <td>2</td>\n",
       "      <td>Mortgage</td>\n",
       "      <td>32428.90</td>\n",
       "      <td>541</td>\n",
       "      <td>10966</td>\n",
       "      <td>2.12</td>\n",
       "    </tr>\n",
       "    <tr>\n",
       "      <th>1</th>\n",
       "      <td>3</td>\n",
       "      <td>Personal</td>\n",
       "      <td>31406.77</td>\n",
       "      <td>424</td>\n",
       "      <td>6860</td>\n",
       "      <td>4.63</td>\n",
       "    </tr>\n",
       "    <tr>\n",
       "      <th>2</th>\n",
       "      <td>5</td>\n",
       "      <td>Auto</td>\n",
       "      <td>27873.08</td>\n",
       "      <td>750</td>\n",
       "      <td>6364</td>\n",
       "      <td>7.03</td>\n",
       "    </tr>\n",
       "    <tr>\n",
       "      <th>3</th>\n",
       "      <td>6</td>\n",
       "      <td>Auto</td>\n",
       "      <td>25666.75</td>\n",
       "      <td>1225</td>\n",
       "      <td>7058</td>\n",
       "      <td>6.84</td>\n",
       "    </tr>\n",
       "    <tr>\n",
       "      <th>4</th>\n",
       "      <td>7</td>\n",
       "      <td>Personal</td>\n",
       "      <td>23853.85</td>\n",
       "      <td>1491</td>\n",
       "      <td>6618</td>\n",
       "      <td>7.41</td>\n",
       "    </tr>\n",
       "    <tr>\n",
       "      <th>...</th>\n",
       "      <td>...</td>\n",
       "      <td>...</td>\n",
       "      <td>...</td>\n",
       "      <td>...</td>\n",
       "      <td>...</td>\n",
       "      <td>...</td>\n",
       "    </tr>\n",
       "    <tr>\n",
       "      <th>98</th>\n",
       "      <td>125</td>\n",
       "      <td>Mortgage</td>\n",
       "      <td>48681.51</td>\n",
       "      <td>652</td>\n",
       "      <td>5608</td>\n",
       "      <td>3.28</td>\n",
       "    </tr>\n",
       "    <tr>\n",
       "      <th>99</th>\n",
       "      <td>126</td>\n",
       "      <td>Personal</td>\n",
       "      <td>44785.92</td>\n",
       "      <td>177</td>\n",
       "      <td>11195</td>\n",
       "      <td>1.55</td>\n",
       "    </tr>\n",
       "    <tr>\n",
       "      <th>100</th>\n",
       "      <td>127</td>\n",
       "      <td>Personal</td>\n",
       "      <td>6815.56</td>\n",
       "      <td>1146</td>\n",
       "      <td>5099</td>\n",
       "      <td>2.90</td>\n",
       "    </tr>\n",
       "    <tr>\n",
       "      <th>101</th>\n",
       "      <td>128</td>\n",
       "      <td>Auto</td>\n",
       "      <td>15095.53</td>\n",
       "      <td>665</td>\n",
       "      <td>12396</td>\n",
       "      <td>4.58</td>\n",
       "    </tr>\n",
       "    <tr>\n",
       "      <th>102</th>\n",
       "      <td>130</td>\n",
       "      <td>Personal</td>\n",
       "      <td>33481.52</td>\n",
       "      <td>1291</td>\n",
       "      <td>10442</td>\n",
       "      <td>5.06</td>\n",
       "    </tr>\n",
       "  </tbody>\n",
       "</table>\n",
       "<p>103 rows × 6 columns</p>\n",
       "</div>"
      ],
      "text/plain": [
       "     Loan_id  LoanType  LoanAmount  StartDate_ID  EndDate_ID  InterestRate\n",
       "0          2  Mortgage    32428.90           541       10966          2.12\n",
       "1          3  Personal    31406.77           424        6860          4.63\n",
       "2          5      Auto    27873.08           750        6364          7.03\n",
       "3          6      Auto    25666.75          1225        7058          6.84\n",
       "4          7  Personal    23853.85          1491        6618          7.41\n",
       "..       ...       ...         ...           ...         ...           ...\n",
       "98       125  Mortgage    48681.51           652        5608          3.28\n",
       "99       126  Personal    44785.92           177       11195          1.55\n",
       "100      127  Personal     6815.56          1146        5099          2.90\n",
       "101      128      Auto    15095.53           665       12396          4.58\n",
       "102      130  Personal    33481.52          1291       10442          5.06\n",
       "\n",
       "[103 rows x 6 columns]"
      ]
     },
     "execution_count": 145,
     "metadata": {},
     "output_type": "execute_result"
    }
   ],
   "source": [
    "loan"
   ]
  },
  {
   "cell_type": "code",
   "execution_count": 146,
   "id": "4faf2f81",
   "metadata": {},
   "outputs": [],
   "source": [
    "#Save to our directory\n",
    "transaction.to_csv(r'Dataset\\database_model\\transaction.csv', index=False)\n",
    "loan.to_csv(r'Dataset\\database_model\\loan.csv', index=False)\n",
    "account.to_csv(r'Dataset\\database_model\\account.csv', index=False)\n",
    "customer.to_csv(r'Dataset\\database_model\\customer.csv', index=False)\n",
    "date_dim.to_csv(r'Dataset\\database_model\\date_dim.csv', index=False)\n",
    "zulo_bank.to_csv(r'Dataset\\database_model\\zulo_bank.csv', index=False)\n"
   ]
  },
  {
   "cell_type": "markdown",
   "id": "2583adc4",
   "metadata": {},
   "source": [
    "## Transaction DWH Schema"
   ]
  },
  {
   "cell_type": "code",
   "execution_count": 147,
   "id": "396a8472",
   "metadata": {},
   "outputs": [],
   "source": [
    "transaction_dim =transaction[['Transaction_id', 'TransactionType']].copy().drop_duplicates().reset_index(drop=True)\n",
    "account_dim = account[['Account_id', 'AccountType', 'Balance']].copy().drop_duplicates().reset_index(drop=True)\n",
    "transaction_fact_table =zulo_bank.merge(transaction, on='Transaction_id', how='inner') \\\n",
    "                            .merge(account, on='Account_id', how='inner') \\\n",
    "                            [['Transaction_id', 'Account_id', 'OpeningDate_ID', 'Amount', 'TransactionDate_ID']]"
   ]
  },
  {
   "cell_type": "code",
   "execution_count": 148,
   "id": "2f4c65ab",
   "metadata": {},
   "outputs": [
    {
     "data": {
      "application/vnd.microsoft.datawrangler.viewer.v0+json": {
       "columns": [
        {
         "name": "index",
         "rawType": "int64",
         "type": "integer"
        },
        {
         "name": "Transaction_id",
         "rawType": "int64",
         "type": "integer"
        },
        {
         "name": "TransactionType",
         "rawType": "object",
         "type": "string"
        }
       ],
       "ref": "624a25dc-67ff-4556-ab2c-8a64fbd38aba",
       "rows": [
        [
         "0",
         "1",
         "withdrawal"
        ],
        [
         "1",
         "2",
         "withdrawal"
        ],
        [
         "2",
         "4",
         "deposit"
        ],
        [
         "3",
         "5",
         "withdrawal"
        ],
        [
         "4",
         "8",
         "withdrawal"
        ],
        [
         "5",
         "9",
         "deposit"
        ],
        [
         "6",
         "10",
         "withdrawal"
        ],
        [
         "7",
         "11",
         "withdrawal"
        ],
        [
         "8",
         "12",
         "withdrawal"
        ],
        [
         "9",
         "13",
         "deposit"
        ],
        [
         "10",
         "14",
         "withdrawal"
        ],
        [
         "11",
         "15",
         "deposit"
        ],
        [
         "12",
         "16",
         "withdrawal"
        ],
        [
         "13",
         "18",
         "withdrawal"
        ],
        [
         "14",
         "19",
         "withdrawal"
        ],
        [
         "15",
         "20",
         "withdrawal"
        ],
        [
         "16",
         "21",
         "deposit"
        ],
        [
         "17",
         "22",
         "deposit"
        ],
        [
         "18",
         "23",
         "withdrawal"
        ],
        [
         "19",
         "24",
         "withdrawal"
        ],
        [
         "20",
         "25",
         "withdrawal"
        ],
        [
         "21",
         "26",
         "deposit"
        ],
        [
         "22",
         "27",
         "deposit"
        ],
        [
         "23",
         "29",
         "withdrawal"
        ],
        [
         "24",
         "30",
         "deposit"
        ],
        [
         "25",
         "31",
         "deposit"
        ],
        [
         "26",
         "32",
         "deposit"
        ],
        [
         "27",
         "33",
         "deposit"
        ],
        [
         "28",
         "34",
         "deposit"
        ],
        [
         "29",
         "35",
         "withdrawal"
        ],
        [
         "30",
         "37",
         "deposit"
        ],
        [
         "31",
         "38",
         "deposit"
        ],
        [
         "32",
         "39",
         "withdrawal"
        ],
        [
         "33",
         "41",
         "withdrawal"
        ],
        [
         "34",
         "42",
         "withdrawal"
        ],
        [
         "35",
         "43",
         "withdrawal"
        ],
        [
         "36",
         "44",
         "deposit"
        ],
        [
         "37",
         "45",
         "withdrawal"
        ],
        [
         "38",
         "46",
         "deposit"
        ],
        [
         "39",
         "47",
         "withdrawal"
        ],
        [
         "40",
         "48",
         "withdrawal"
        ],
        [
         "41",
         "50",
         "deposit"
        ],
        [
         "42",
         "51",
         "withdrawal"
        ],
        [
         "43",
         "53",
         "withdrawal"
        ],
        [
         "44",
         "54",
         "withdrawal"
        ],
        [
         "45",
         "55",
         "withdrawal"
        ],
        [
         "46",
         "56",
         "withdrawal"
        ],
        [
         "47",
         "57",
         "deposit"
        ],
        [
         "48",
         "58",
         "withdrawal"
        ],
        [
         "49",
         "59",
         "withdrawal"
        ]
       ],
       "shape": {
        "columns": 2,
        "rows": 810
       }
      },
      "text/html": [
       "<div>\n",
       "<style scoped>\n",
       "    .dataframe tbody tr th:only-of-type {\n",
       "        vertical-align: middle;\n",
       "    }\n",
       "\n",
       "    .dataframe tbody tr th {\n",
       "        vertical-align: top;\n",
       "    }\n",
       "\n",
       "    .dataframe thead th {\n",
       "        text-align: right;\n",
       "    }\n",
       "</style>\n",
       "<table border=\"1\" class=\"dataframe\">\n",
       "  <thead>\n",
       "    <tr style=\"text-align: right;\">\n",
       "      <th></th>\n",
       "      <th>Transaction_id</th>\n",
       "      <th>TransactionType</th>\n",
       "    </tr>\n",
       "  </thead>\n",
       "  <tbody>\n",
       "    <tr>\n",
       "      <th>0</th>\n",
       "      <td>1</td>\n",
       "      <td>withdrawal</td>\n",
       "    </tr>\n",
       "    <tr>\n",
       "      <th>1</th>\n",
       "      <td>2</td>\n",
       "      <td>withdrawal</td>\n",
       "    </tr>\n",
       "    <tr>\n",
       "      <th>2</th>\n",
       "      <td>4</td>\n",
       "      <td>deposit</td>\n",
       "    </tr>\n",
       "    <tr>\n",
       "      <th>3</th>\n",
       "      <td>5</td>\n",
       "      <td>withdrawal</td>\n",
       "    </tr>\n",
       "    <tr>\n",
       "      <th>4</th>\n",
       "      <td>8</td>\n",
       "      <td>withdrawal</td>\n",
       "    </tr>\n",
       "    <tr>\n",
       "      <th>...</th>\n",
       "      <td>...</td>\n",
       "      <td>...</td>\n",
       "    </tr>\n",
       "    <tr>\n",
       "      <th>805</th>\n",
       "      <td>996</td>\n",
       "      <td>withdrawal</td>\n",
       "    </tr>\n",
       "    <tr>\n",
       "      <th>806</th>\n",
       "      <td>997</td>\n",
       "      <td>deposit</td>\n",
       "    </tr>\n",
       "    <tr>\n",
       "      <th>807</th>\n",
       "      <td>998</td>\n",
       "      <td>withdrawal</td>\n",
       "    </tr>\n",
       "    <tr>\n",
       "      <th>808</th>\n",
       "      <td>999</td>\n",
       "      <td>withdrawal</td>\n",
       "    </tr>\n",
       "    <tr>\n",
       "      <th>809</th>\n",
       "      <td>1000</td>\n",
       "      <td>deposit</td>\n",
       "    </tr>\n",
       "  </tbody>\n",
       "</table>\n",
       "<p>810 rows × 2 columns</p>\n",
       "</div>"
      ],
      "text/plain": [
       "     Transaction_id TransactionType\n",
       "0                 1      withdrawal\n",
       "1                 2      withdrawal\n",
       "2                 4         deposit\n",
       "3                 5      withdrawal\n",
       "4                 8      withdrawal\n",
       "..              ...             ...\n",
       "805             996      withdrawal\n",
       "806             997         deposit\n",
       "807             998      withdrawal\n",
       "808             999      withdrawal\n",
       "809            1000         deposit\n",
       "\n",
       "[810 rows x 2 columns]"
      ]
     },
     "execution_count": 148,
     "metadata": {},
     "output_type": "execute_result"
    }
   ],
   "source": [
    "transaction_dim"
   ]
  },
  {
   "cell_type": "code",
   "execution_count": 149,
   "id": "94b6cb43",
   "metadata": {},
   "outputs": [
    {
     "data": {
      "application/vnd.microsoft.datawrangler.viewer.v0+json": {
       "columns": [
        {
         "name": "index",
         "rawType": "int64",
         "type": "integer"
        },
        {
         "name": "Account_id",
         "rawType": "int64",
         "type": "integer"
        },
        {
         "name": "AccountType",
         "rawType": "object",
         "type": "string"
        },
        {
         "name": "Balance",
         "rawType": "float64",
         "type": "float"
        }
       ],
       "ref": "ed586697-11f3-4ae6-ad07-194aab4de9cd",
       "rows": [
        [
         "0",
         "6",
         "Savings",
         "2391.9"
        ],
        [
         "1",
         "7",
         "Savings",
         "2391.9"
        ],
        [
         "2",
         "8",
         "Savings",
         "2391.9"
        ],
        [
         "3",
         "9",
         "Credit",
         "7880.53"
        ],
        [
         "4",
         "10",
         "Credit",
         "7880.53"
        ],
        [
         "5",
         "12",
         "Savings",
         "947.43"
        ],
        [
         "6",
         "13",
         "Savings",
         "4492.62"
        ],
        [
         "7",
         "14",
         "Credit",
         "8439.15"
        ],
        [
         "8",
         "15",
         "Checking",
         "9232.35"
        ],
        [
         "9",
         "17",
         "Checking",
         "3721.97"
        ],
        [
         "10",
         "18",
         "Checking",
         "3721.97"
        ],
        [
         "11",
         "19",
         "Checking",
         "3721.97"
        ],
        [
         "12",
         "20",
         "Checking",
         "4532.51"
        ],
        [
         "13",
         "21",
         "Checking",
         "2448.6"
        ],
        [
         "14",
         "22",
         "Checking",
         "2448.6"
        ],
        [
         "15",
         "23",
         "Checking",
         "2448.6"
        ],
        [
         "16",
         "25",
         "Savings",
         "9772.03"
        ],
        [
         "17",
         "26",
         "Savings",
         "4846.99"
        ],
        [
         "18",
         "27",
         "Credit",
         "1496.1"
        ],
        [
         "19",
         "28",
         "Credit",
         "1496.1"
        ],
        [
         "20",
         "29",
         "Credit",
         "1496.1"
        ],
        [
         "21",
         "30",
         "Savings",
         "8268.0"
        ],
        [
         "22",
         "31",
         "Savings",
         "4315.64"
        ],
        [
         "23",
         "32",
         "Checking",
         "7676.38"
        ],
        [
         "24",
         "34",
         "Checking",
         "5164.29"
        ],
        [
         "25",
         "35",
         "Credit",
         "8539.34"
        ],
        [
         "26",
         "39",
         "Credit",
         "444.6"
        ],
        [
         "27",
         "40",
         "Credit",
         "444.6"
        ],
        [
         "28",
         "41",
         "Credit",
         "444.6"
        ],
        [
         "29",
         "42",
         "Credit",
         "444.6"
        ],
        [
         "30",
         "43",
         "Savings",
         "8330.83"
        ],
        [
         "31",
         "44",
         "Savings",
         "8330.83"
        ],
        [
         "32",
         "45",
         "Savings",
         "8330.83"
        ],
        [
         "33",
         "46",
         "Savings",
         "8648.97"
        ],
        [
         "34",
         "47",
         "Savings",
         "8648.97"
        ],
        [
         "35",
         "48",
         "Savings",
         "7446.25"
        ],
        [
         "36",
         "49",
         "Checking",
         "9529.29"
        ],
        [
         "37",
         "50",
         "Savings",
         "5051.48"
        ],
        [
         "38",
         "51",
         "Checking",
         "4880.23"
        ],
        [
         "39",
         "52",
         "Savings",
         "8380.64"
        ],
        [
         "40",
         "53",
         "Savings",
         "8380.64"
        ],
        [
         "41",
         "56",
         "Checking",
         "4000.76"
        ],
        [
         "42",
         "57",
         "Checking",
         "4000.76"
        ],
        [
         "43",
         "58",
         "Checking",
         "4000.76"
        ],
        [
         "44",
         "60",
         "Credit",
         "3099.1"
        ],
        [
         "45",
         "61",
         "Checking",
         "4765.84"
        ],
        [
         "46",
         "62",
         "Checking",
         "4765.84"
        ],
        [
         "47",
         "63",
         "Checking",
         "6400.46"
        ],
        [
         "48",
         "64",
         "Checking",
         "3099.96"
        ],
        [
         "49",
         "65",
         "Credit",
         "1496.1"
        ]
       ],
       "shape": {
        "columns": 3,
        "rows": 1258
       }
      },
      "text/html": [
       "<div>\n",
       "<style scoped>\n",
       "    .dataframe tbody tr th:only-of-type {\n",
       "        vertical-align: middle;\n",
       "    }\n",
       "\n",
       "    .dataframe tbody tr th {\n",
       "        vertical-align: top;\n",
       "    }\n",
       "\n",
       "    .dataframe thead th {\n",
       "        text-align: right;\n",
       "    }\n",
       "</style>\n",
       "<table border=\"1\" class=\"dataframe\">\n",
       "  <thead>\n",
       "    <tr style=\"text-align: right;\">\n",
       "      <th></th>\n",
       "      <th>Account_id</th>\n",
       "      <th>AccountType</th>\n",
       "      <th>Balance</th>\n",
       "    </tr>\n",
       "  </thead>\n",
       "  <tbody>\n",
       "    <tr>\n",
       "      <th>0</th>\n",
       "      <td>6</td>\n",
       "      <td>Savings</td>\n",
       "      <td>2391.90</td>\n",
       "    </tr>\n",
       "    <tr>\n",
       "      <th>1</th>\n",
       "      <td>7</td>\n",
       "      <td>Savings</td>\n",
       "      <td>2391.90</td>\n",
       "    </tr>\n",
       "    <tr>\n",
       "      <th>2</th>\n",
       "      <td>8</td>\n",
       "      <td>Savings</td>\n",
       "      <td>2391.90</td>\n",
       "    </tr>\n",
       "    <tr>\n",
       "      <th>3</th>\n",
       "      <td>9</td>\n",
       "      <td>Credit</td>\n",
       "      <td>7880.53</td>\n",
       "    </tr>\n",
       "    <tr>\n",
       "      <th>4</th>\n",
       "      <td>10</td>\n",
       "      <td>Credit</td>\n",
       "      <td>7880.53</td>\n",
       "    </tr>\n",
       "    <tr>\n",
       "      <th>...</th>\n",
       "      <td>...</td>\n",
       "      <td>...</td>\n",
       "      <td>...</td>\n",
       "    </tr>\n",
       "    <tr>\n",
       "      <th>1253</th>\n",
       "      <td>1546</td>\n",
       "      <td>Checking</td>\n",
       "      <td>660.41</td>\n",
       "    </tr>\n",
       "    <tr>\n",
       "      <th>1254</th>\n",
       "      <td>1549</td>\n",
       "      <td>Checking</td>\n",
       "      <td>6463.29</td>\n",
       "    </tr>\n",
       "    <tr>\n",
       "      <th>1255</th>\n",
       "      <td>1550</td>\n",
       "      <td>Checking</td>\n",
       "      <td>6463.29</td>\n",
       "    </tr>\n",
       "    <tr>\n",
       "      <th>1256</th>\n",
       "      <td>1551</td>\n",
       "      <td>Checking</td>\n",
       "      <td>6463.29</td>\n",
       "    </tr>\n",
       "    <tr>\n",
       "      <th>1257</th>\n",
       "      <td>1554</td>\n",
       "      <td>Savings</td>\n",
       "      <td>9418.14</td>\n",
       "    </tr>\n",
       "  </tbody>\n",
       "</table>\n",
       "<p>1258 rows × 3 columns</p>\n",
       "</div>"
      ],
      "text/plain": [
       "      Account_id AccountType  Balance\n",
       "0              6     Savings  2391.90\n",
       "1              7     Savings  2391.90\n",
       "2              8     Savings  2391.90\n",
       "3              9      Credit  7880.53\n",
       "4             10      Credit  7880.53\n",
       "...          ...         ...      ...\n",
       "1253        1546    Checking   660.41\n",
       "1254        1549    Checking  6463.29\n",
       "1255        1550    Checking  6463.29\n",
       "1256        1551    Checking  6463.29\n",
       "1257        1554     Savings  9418.14\n",
       "\n",
       "[1258 rows x 3 columns]"
      ]
     },
     "execution_count": 149,
     "metadata": {},
     "output_type": "execute_result"
    }
   ],
   "source": [
    "account_dim"
   ]
  },
  {
   "cell_type": "code",
   "execution_count": 150,
   "id": "1ea05426",
   "metadata": {},
   "outputs": [
    {
     "data": {
      "application/vnd.microsoft.datawrangler.viewer.v0+json": {
       "columns": [
        {
         "name": "index",
         "rawType": "int64",
         "type": "integer"
        },
        {
         "name": "Transaction_id",
         "rawType": "int64",
         "type": "integer"
        },
        {
         "name": "Account_id",
         "rawType": "int64",
         "type": "integer"
        },
        {
         "name": "OpeningDate_ID",
         "rawType": "int64",
         "type": "integer"
        },
        {
         "name": "Amount",
         "rawType": "float64",
         "type": "float"
        },
        {
         "name": "TransactionDate_ID",
         "rawType": "int64",
         "type": "integer"
        }
       ],
       "ref": "1e595d33-9f81-4505-b1ea-647cfdb5ae12",
       "rows": [
        [
         "0",
         "4",
         "9",
         "1322",
         "463.13",
         "246"
        ],
        [
         "1",
         "4",
         "10",
         "1322",
         "463.13",
         "246"
        ],
        [
         "2",
         "4",
         "524",
         "1322",
         "463.13",
         "246"
        ],
        [
         "3",
         "4",
         "525",
         "1322",
         "463.13",
         "246"
        ],
        [
         "4",
         "4",
         "1262",
         "1322",
         "463.13",
         "246"
        ],
        [
         "5",
         "4",
         "1263",
         "1322",
         "463.13",
         "246"
        ],
        [
         "6",
         "4",
         "9",
         "1322",
         "463.13",
         "246"
        ],
        [
         "7",
         "4",
         "10",
         "1322",
         "463.13",
         "246"
        ],
        [
         "8",
         "4",
         "524",
         "1322",
         "463.13",
         "246"
        ],
        [
         "9",
         "4",
         "525",
         "1322",
         "463.13",
         "246"
        ],
        [
         "10",
         "4",
         "1262",
         "1322",
         "463.13",
         "246"
        ],
        [
         "11",
         "4",
         "1263",
         "1322",
         "463.13",
         "246"
        ],
        [
         "12",
         "8",
         "14",
         "310",
         "256.62",
         "873"
        ],
        [
         "13",
         "8",
         "307",
         "310",
         "256.62",
         "873"
        ],
        [
         "14",
         "8",
         "433",
         "310",
         "256.62",
         "873"
        ],
        [
         "15",
         "8",
         "620",
         "310",
         "256.62",
         "873"
        ],
        [
         "16",
         "8",
         "773",
         "310",
         "256.62",
         "873"
        ],
        [
         "17",
         "8",
         "950",
         "310",
         "256.62",
         "873"
        ],
        [
         "18",
         "8",
         "1095",
         "310",
         "256.62",
         "873"
        ],
        [
         "19",
         "9",
         "15",
         "895",
         "272.21",
         "1243"
        ],
        [
         "20",
         "9",
         "1288",
         "895",
         "272.21",
         "1243"
        ],
        [
         "21",
         "11",
         "17",
         "1029",
         "369.25",
         "1033"
        ],
        [
         "22",
         "11",
         "18",
         "1029",
         "369.25",
         "1033"
        ],
        [
         "23",
         "11",
         "19",
         "1029",
         "369.25",
         "1033"
        ],
        [
         "24",
         "11",
         "856",
         "1029",
         "369.25",
         "1033"
        ],
        [
         "25",
         "11",
         "857",
         "1029",
         "369.25",
         "1033"
        ],
        [
         "26",
         "11",
         "858",
         "1029",
         "369.25",
         "1033"
        ],
        [
         "27",
         "11",
         "970",
         "1029",
         "369.25",
         "1033"
        ],
        [
         "28",
         "11",
         "971",
         "1029",
         "369.25",
         "1033"
        ],
        [
         "29",
         "11",
         "972",
         "1029",
         "369.25",
         "1033"
        ],
        [
         "30",
         "11",
         "1495",
         "1029",
         "369.25",
         "1033"
        ],
        [
         "31",
         "11",
         "1496",
         "1029",
         "369.25",
         "1033"
        ],
        [
         "32",
         "11",
         "1497",
         "1029",
         "369.25",
         "1033"
        ],
        [
         "33",
         "11",
         "17",
         "1029",
         "369.25",
         "1033"
        ],
        [
         "34",
         "11",
         "18",
         "1029",
         "369.25",
         "1033"
        ],
        [
         "35",
         "11",
         "19",
         "1029",
         "369.25",
         "1033"
        ],
        [
         "36",
         "11",
         "856",
         "1029",
         "369.25",
         "1033"
        ],
        [
         "37",
         "11",
         "857",
         "1029",
         "369.25",
         "1033"
        ],
        [
         "38",
         "11",
         "858",
         "1029",
         "369.25",
         "1033"
        ],
        [
         "39",
         "11",
         "970",
         "1029",
         "369.25",
         "1033"
        ],
        [
         "40",
         "11",
         "971",
         "1029",
         "369.25",
         "1033"
        ],
        [
         "41",
         "11",
         "972",
         "1029",
         "369.25",
         "1033"
        ],
        [
         "42",
         "11",
         "1495",
         "1029",
         "369.25",
         "1033"
        ],
        [
         "43",
         "11",
         "1496",
         "1029",
         "369.25",
         "1033"
        ],
        [
         "44",
         "11",
         "1497",
         "1029",
         "369.25",
         "1033"
        ],
        [
         "45",
         "11",
         "17",
         "1029",
         "369.25",
         "1033"
        ],
        [
         "46",
         "11",
         "18",
         "1029",
         "369.25",
         "1033"
        ],
        [
         "47",
         "11",
         "19",
         "1029",
         "369.25",
         "1033"
        ],
        [
         "48",
         "11",
         "856",
         "1029",
         "369.25",
         "1033"
        ],
        [
         "49",
         "11",
         "857",
         "1029",
         "369.25",
         "1033"
        ]
       ],
       "shape": {
        "columns": 5,
        "rows": 11607
       }
      },
      "text/html": [
       "<div>\n",
       "<style scoped>\n",
       "    .dataframe tbody tr th:only-of-type {\n",
       "        vertical-align: middle;\n",
       "    }\n",
       "\n",
       "    .dataframe tbody tr th {\n",
       "        vertical-align: top;\n",
       "    }\n",
       "\n",
       "    .dataframe thead th {\n",
       "        text-align: right;\n",
       "    }\n",
       "</style>\n",
       "<table border=\"1\" class=\"dataframe\">\n",
       "  <thead>\n",
       "    <tr style=\"text-align: right;\">\n",
       "      <th></th>\n",
       "      <th>Transaction_id</th>\n",
       "      <th>Account_id</th>\n",
       "      <th>OpeningDate_ID</th>\n",
       "      <th>Amount</th>\n",
       "      <th>TransactionDate_ID</th>\n",
       "    </tr>\n",
       "  </thead>\n",
       "  <tbody>\n",
       "    <tr>\n",
       "      <th>0</th>\n",
       "      <td>4</td>\n",
       "      <td>9</td>\n",
       "      <td>1322</td>\n",
       "      <td>463.13</td>\n",
       "      <td>246</td>\n",
       "    </tr>\n",
       "    <tr>\n",
       "      <th>1</th>\n",
       "      <td>4</td>\n",
       "      <td>10</td>\n",
       "      <td>1322</td>\n",
       "      <td>463.13</td>\n",
       "      <td>246</td>\n",
       "    </tr>\n",
       "    <tr>\n",
       "      <th>2</th>\n",
       "      <td>4</td>\n",
       "      <td>524</td>\n",
       "      <td>1322</td>\n",
       "      <td>463.13</td>\n",
       "      <td>246</td>\n",
       "    </tr>\n",
       "    <tr>\n",
       "      <th>3</th>\n",
       "      <td>4</td>\n",
       "      <td>525</td>\n",
       "      <td>1322</td>\n",
       "      <td>463.13</td>\n",
       "      <td>246</td>\n",
       "    </tr>\n",
       "    <tr>\n",
       "      <th>4</th>\n",
       "      <td>4</td>\n",
       "      <td>1262</td>\n",
       "      <td>1322</td>\n",
       "      <td>463.13</td>\n",
       "      <td>246</td>\n",
       "    </tr>\n",
       "    <tr>\n",
       "      <th>...</th>\n",
       "      <td>...</td>\n",
       "      <td>...</td>\n",
       "      <td>...</td>\n",
       "      <td>...</td>\n",
       "      <td>...</td>\n",
       "    </tr>\n",
       "    <tr>\n",
       "      <th>11602</th>\n",
       "      <td>1000</td>\n",
       "      <td>744</td>\n",
       "      <td>392</td>\n",
       "      <td>115.48</td>\n",
       "      <td>655</td>\n",
       "    </tr>\n",
       "    <tr>\n",
       "      <th>11603</th>\n",
       "      <td>1000</td>\n",
       "      <td>782</td>\n",
       "      <td>392</td>\n",
       "      <td>115.48</td>\n",
       "      <td>655</td>\n",
       "    </tr>\n",
       "    <tr>\n",
       "      <th>11604</th>\n",
       "      <td>1000</td>\n",
       "      <td>1183</td>\n",
       "      <td>392</td>\n",
       "      <td>115.48</td>\n",
       "      <td>655</td>\n",
       "    </tr>\n",
       "    <tr>\n",
       "      <th>11605</th>\n",
       "      <td>1000</td>\n",
       "      <td>1481</td>\n",
       "      <td>392</td>\n",
       "      <td>115.48</td>\n",
       "      <td>655</td>\n",
       "    </tr>\n",
       "    <tr>\n",
       "      <th>11606</th>\n",
       "      <td>1000</td>\n",
       "      <td>1554</td>\n",
       "      <td>392</td>\n",
       "      <td>115.48</td>\n",
       "      <td>655</td>\n",
       "    </tr>\n",
       "  </tbody>\n",
       "</table>\n",
       "<p>11607 rows × 5 columns</p>\n",
       "</div>"
      ],
      "text/plain": [
       "       Transaction_id  Account_id  OpeningDate_ID  Amount  TransactionDate_ID\n",
       "0                   4           9            1322  463.13                 246\n",
       "1                   4          10            1322  463.13                 246\n",
       "2                   4         524            1322  463.13                 246\n",
       "3                   4         525            1322  463.13                 246\n",
       "4                   4        1262            1322  463.13                 246\n",
       "...               ...         ...             ...     ...                 ...\n",
       "11602            1000         744             392  115.48                 655\n",
       "11603            1000         782             392  115.48                 655\n",
       "11604            1000        1183             392  115.48                 655\n",
       "11605            1000        1481             392  115.48                 655\n",
       "11606            1000        1554             392  115.48                 655\n",
       "\n",
       "[11607 rows x 5 columns]"
      ]
     },
     "execution_count": 150,
     "metadata": {},
     "output_type": "execute_result"
    }
   ],
   "source": [
    "transaction_fact_table"
   ]
  },
  {
   "cell_type": "code",
   "execution_count": 151,
   "id": "0eba4e82",
   "metadata": {},
   "outputs": [],
   "source": [
    "#Save to memory\n",
    "transaction_dim.to_csv(r'Dataset\\transaction_dwh\\transaction_dim.csv', index=False)\n",
    "account_dim.to_csv(r'Dataset\\transaction_dwh\\account_dim.csv', index=False)\n",
    "transaction_fact_table.to_csv(r'Dataset\\transaction_dwh\\transaction_fact_table.csv', index=False)\n"
   ]
  },
  {
   "cell_type": "markdown",
   "id": "875265d2",
   "metadata": {},
   "source": [
    "## Loan DWH Schema"
   ]
  },
  {
   "cell_type": "code",
   "execution_count": 152,
   "id": "6ccd9c53",
   "metadata": {},
   "outputs": [],
   "source": [
    "customer_dim = customer.copy()\n",
    "loan_dim = loan[['Loan_id', 'LoanType']].copy().drop_duplicates().reset_index(drop=True)\n",
    "loan_fact_table = zulo_bank.merge(customer, on='Customer_id', how='inner') \\\n",
    "                            .merge(loan, on='Loan_id', how='inner') \\\n",
    "                            [['Customer_id', 'Loan_id', 'StartDate_ID', 'EndDate_ID', 'LoanAmount', 'InterestRate']]"
   ]
  },
  {
   "cell_type": "code",
   "execution_count": 153,
   "id": "da463897",
   "metadata": {},
   "outputs": [],
   "source": [
    "#Save to memory\n",
    "customer_dim.to_csv(r'Dataset\\loan_dwh\\customer_dim.csv', index=False)\n",
    "loan_dim.to_csv(r'Dataset\\loan_dwh\\loan_dim.csv', index=False)\n",
    "loan_fact_table.to_csv(r'Dataset\\loan_dwh\\loan_fact_table.csv', index=False)"
   ]
  },
  {
   "cell_type": "code",
   "execution_count": 154,
   "id": "d77f5c08",
   "metadata": {},
   "outputs": [
    {
     "data": {
      "application/vnd.microsoft.datawrangler.viewer.v0+json": {
       "columns": [
        {
         "name": "index",
         "rawType": "int64",
         "type": "integer"
        },
        {
         "name": "Customer_id",
         "rawType": "int64",
         "type": "integer"
        },
        {
         "name": "FirstName",
         "rawType": "object",
         "type": "string"
        },
        {
         "name": "LastName",
         "rawType": "object",
         "type": "string"
        },
        {
         "name": "Email",
         "rawType": "object",
         "type": "string"
        },
        {
         "name": "Phone",
         "rawType": "object",
         "type": "string"
        }
       ],
       "ref": "182a036c-e949-4f06-9fef-fb5b603df7e9",
       "rows": [
        [
         "0",
         "1",
         "Carol",
         "Miller",
         "yfisher@example.org",
         "6088279027"
        ],
        [
         "1",
         "2",
         "Geoffrey",
         "Banks",
         "gonzalesgeorge@example.net",
         "001-546-857-6518x5359"
        ],
        [
         "2",
         "3",
         "Eric",
         "Phillips",
         "mark13@example.com",
         "(699)516-7638x82918"
        ],
        [
         "3",
         "4",
         "Paul",
         "Noble",
         "harrisonrachel@example.net",
         "+1-586-758-3968x3144"
        ],
        [
         "4",
         "5",
         "Ryan",
         "Alexander",
         "loganjohn@example.org",
         "900.377.1792x148"
        ],
        [
         "5",
         "6",
         "Danny",
         "Brown",
         "michellearnold@example.org",
         "824-606-7014x9045"
        ],
        [
         "6",
         "7",
         "Desiree",
         "Nelson",
         "johnsonhaley@example.com",
         "231.515.3313"
        ],
        [
         "7",
         "8",
         "Martha",
         "Smith",
         "darlenegoodwin@example.net",
         "+1-665-427-6242x5731"
        ],
        [
         "8",
         "9",
         "Jesse",
         "Osborn",
         "dennis81@example.org",
         "(504)953-6008x457"
        ],
        [
         "9",
         "10",
         "Anita",
         "Park",
         "xpayne@example.net",
         "806-211-4478x986"
        ],
        [
         "10",
         "11",
         "Evelyn",
         "Ward",
         "paul13@example.org",
         "(347)767-4187"
        ],
        [
         "11",
         "12",
         "Sabrina",
         "Juarez",
         "patrick92@example.com",
         "715-732-5572x27771"
        ],
        [
         "12",
         "13",
         "Kyle",
         "Ortiz",
         "lambjacqueline@example.net",
         "(863)835-2860"
        ],
        [
         "13",
         "14",
         "Robert",
         "Brown",
         "andersonmason@example.net",
         "+1-653-515-2636x153"
        ],
        [
         "14",
         "15",
         "Jeremy",
         "Jacobs",
         "fmartinez@example.org",
         "001-331-228-0826x478"
        ],
        [
         "15",
         "16",
         "Daniel",
         "Edwards",
         "byoung@example.org",
         "+1-615-756-7330"
        ],
        [
         "16",
         "17",
         "Tommy",
         "Brooks",
         "burtonjames@example.com",
         "(534)691-4906"
        ],
        [
         "17",
         "18",
         "Carly",
         "Mitchell",
         "zachary24@example.org",
         "(728)923-5061"
        ],
        [
         "18",
         "19",
         "Sarah",
         "Green",
         "lnelson@example.net",
         "(390)584-3409x128"
        ],
        [
         "19",
         "20",
         "Norman",
         "Lee",
         "keithgarcia@example.org",
         "+1-225-907-5033"
        ],
        [
         "20",
         "21",
         "Valerie",
         "Cuevas",
         "brookscrystal@example.org",
         "760-896-1814x1067"
        ],
        [
         "21",
         "22",
         "Monica",
         "Graves",
         "xday@example.net",
         "402.918.5084x3030"
        ],
        [
         "22",
         "23",
         "Kim",
         "Stone",
         "garrett28@example.org",
         "001-668-236-9938"
        ],
        [
         "23",
         "24",
         "Shelby",
         "Smith",
         "carolyn11@example.com",
         "580.272.0301x65432"
        ],
        [
         "24",
         "25",
         "Eric",
         "Anderson",
         "spencer16@example.com",
         "851-945-5888"
        ],
        [
         "25",
         "26",
         "Jason",
         "Bennett",
         "joseph97@example.net",
         "(632)674-7662x30858"
        ],
        [
         "26",
         "27",
         "Sharon",
         "Dunn",
         "hillemily@example.org",
         "+1-257-930-5427x0665"
        ],
        [
         "27",
         "28",
         "Peter",
         "Callahan",
         "miranda13@example.org",
         "+1-790-969-3518"
        ],
        [
         "28",
         "29",
         "Heather",
         "Wright",
         "adamssheila@example.net",
         "850-282-6951x4975"
        ],
        [
         "29",
         "30",
         "Lauren",
         "Gray",
         "kenneth99@example.net",
         "218.715.2894x614"
        ],
        [
         "30",
         "31",
         "Stacy",
         "Oliver",
         "matthew64@example.net",
         "+1-520-295-6567x57281"
        ],
        [
         "31",
         "32",
         "Joseph",
         "Hernandez",
         "zmcbride@example.org",
         "+1-281-215-1718x809"
        ],
        [
         "32",
         "33",
         "Deborah",
         "Jenkins",
         "garciakerri@example.net",
         "776-598-8125x88442"
        ],
        [
         "33",
         "34",
         "Jason",
         "Martin",
         "isabella87@example.com",
         "+1-990-327-2307x7625"
        ],
        [
         "34",
         "35",
         "Charles",
         "Wise",
         "campossarah@example.net",
         "532.804.9131x538"
        ],
        [
         "35",
         "36",
         "Jasmin",
         "Palmer",
         "lucascharles@example.com",
         "827.703.9796x89557"
        ],
        [
         "36",
         "37",
         "Daniel",
         "Newman",
         "potterrichard@example.com",
         "001-541-774-7582x00497"
        ],
        [
         "37",
         "38",
         "Scott",
         "Collins",
         "veronica19@example.org",
         "001-449-712-6361x791"
        ],
        [
         "38",
         "39",
         "Jamie",
         "Stone",
         "derekhart@example.org",
         "473.393.2625x19595"
        ],
        [
         "39",
         "40",
         "Brian",
         "Dillon",
         "swilson@example.net",
         "001-699-957-2129x33878"
        ],
        [
         "40",
         "41",
         "Christopher",
         "Hale",
         "watsondarren@example.org",
         "+1-917-489-0869x753"
        ],
        [
         "41",
         "42",
         "Chad",
         "Jensen",
         "ambertaylor@example.org",
         "6576129629"
        ],
        [
         "42",
         "43",
         "Ethan",
         "Walker",
         "jessicashah@example.net",
         "001-586-722-3937x922"
        ],
        [
         "43",
         "44",
         "Brian",
         "Scott",
         "marquezgeorge@example.org",
         "001-925-602-1058x78333"
        ],
        [
         "44",
         "45",
         "Anthony",
         "Ray",
         "desiree14@example.org",
         "714-779-4050"
        ],
        [
         "45",
         "46",
         "Crystal",
         "George",
         "james32@example.com",
         "(934)652-9829"
        ],
        [
         "46",
         "47",
         "Francisco",
         "Potter",
         "joneschristine@example.org",
         "(564)921-3755x708"
        ],
        [
         "47",
         "48",
         "Anthony",
         "Moore",
         "rosariokevin@example.org",
         "(285)263-4804"
        ],
        [
         "48",
         "49",
         "David",
         "Rasmussen",
         "fburns@example.net",
         "9347152436"
        ],
        [
         "49",
         "50",
         "Christopher",
         "Harvey",
         "bryantsean@example.com",
         "430-515-7566"
        ]
       ],
       "shape": {
        "columns": 5,
        "rows": 87
       }
      },
      "text/html": [
       "<div>\n",
       "<style scoped>\n",
       "    .dataframe tbody tr th:only-of-type {\n",
       "        vertical-align: middle;\n",
       "    }\n",
       "\n",
       "    .dataframe tbody tr th {\n",
       "        vertical-align: top;\n",
       "    }\n",
       "\n",
       "    .dataframe thead th {\n",
       "        text-align: right;\n",
       "    }\n",
       "</style>\n",
       "<table border=\"1\" class=\"dataframe\">\n",
       "  <thead>\n",
       "    <tr style=\"text-align: right;\">\n",
       "      <th></th>\n",
       "      <th>Customer_id</th>\n",
       "      <th>FirstName</th>\n",
       "      <th>LastName</th>\n",
       "      <th>Email</th>\n",
       "      <th>Phone</th>\n",
       "    </tr>\n",
       "  </thead>\n",
       "  <tbody>\n",
       "    <tr>\n",
       "      <th>0</th>\n",
       "      <td>1</td>\n",
       "      <td>Carol</td>\n",
       "      <td>Miller</td>\n",
       "      <td>yfisher@example.org</td>\n",
       "      <td>6088279027</td>\n",
       "    </tr>\n",
       "    <tr>\n",
       "      <th>1</th>\n",
       "      <td>2</td>\n",
       "      <td>Geoffrey</td>\n",
       "      <td>Banks</td>\n",
       "      <td>gonzalesgeorge@example.net</td>\n",
       "      <td>001-546-857-6518x5359</td>\n",
       "    </tr>\n",
       "    <tr>\n",
       "      <th>2</th>\n",
       "      <td>3</td>\n",
       "      <td>Eric</td>\n",
       "      <td>Phillips</td>\n",
       "      <td>mark13@example.com</td>\n",
       "      <td>(699)516-7638x82918</td>\n",
       "    </tr>\n",
       "    <tr>\n",
       "      <th>3</th>\n",
       "      <td>4</td>\n",
       "      <td>Paul</td>\n",
       "      <td>Noble</td>\n",
       "      <td>harrisonrachel@example.net</td>\n",
       "      <td>+1-586-758-3968x3144</td>\n",
       "    </tr>\n",
       "    <tr>\n",
       "      <th>4</th>\n",
       "      <td>5</td>\n",
       "      <td>Ryan</td>\n",
       "      <td>Alexander</td>\n",
       "      <td>loganjohn@example.org</td>\n",
       "      <td>900.377.1792x148</td>\n",
       "    </tr>\n",
       "    <tr>\n",
       "      <th>...</th>\n",
       "      <td>...</td>\n",
       "      <td>...</td>\n",
       "      <td>...</td>\n",
       "      <td>...</td>\n",
       "      <td>...</td>\n",
       "    </tr>\n",
       "    <tr>\n",
       "      <th>82</th>\n",
       "      <td>83</td>\n",
       "      <td>Linda</td>\n",
       "      <td>Mendoza</td>\n",
       "      <td>lisaturner@example.net</td>\n",
       "      <td>(309)389-5448</td>\n",
       "    </tr>\n",
       "    <tr>\n",
       "      <th>83</th>\n",
       "      <td>84</td>\n",
       "      <td>Tony</td>\n",
       "      <td>Robinson</td>\n",
       "      <td>timothywiley@example.com</td>\n",
       "      <td>382-628-5059x479</td>\n",
       "    </tr>\n",
       "    <tr>\n",
       "      <th>84</th>\n",
       "      <td>85</td>\n",
       "      <td>Nicole</td>\n",
       "      <td>Stevens</td>\n",
       "      <td>colliermichael@example.net</td>\n",
       "      <td>(324)854-4855x79170</td>\n",
       "    </tr>\n",
       "    <tr>\n",
       "      <th>85</th>\n",
       "      <td>86</td>\n",
       "      <td>Philip</td>\n",
       "      <td>Huynh</td>\n",
       "      <td>bgraham@example.net</td>\n",
       "      <td>8058324167</td>\n",
       "    </tr>\n",
       "    <tr>\n",
       "      <th>86</th>\n",
       "      <td>87</td>\n",
       "      <td>Sheri</td>\n",
       "      <td>Johnson</td>\n",
       "      <td>michaelhahn@example.net</td>\n",
       "      <td>001-567-257-2127</td>\n",
       "    </tr>\n",
       "  </tbody>\n",
       "</table>\n",
       "<p>87 rows × 5 columns</p>\n",
       "</div>"
      ],
      "text/plain": [
       "    Customer_id FirstName   LastName                       Email  \\\n",
       "0             1     Carol     Miller         yfisher@example.org   \n",
       "1             2  Geoffrey      Banks  gonzalesgeorge@example.net   \n",
       "2             3      Eric   Phillips          mark13@example.com   \n",
       "3             4      Paul      Noble  harrisonrachel@example.net   \n",
       "4             5      Ryan  Alexander       loganjohn@example.org   \n",
       "..          ...       ...        ...                         ...   \n",
       "82           83     Linda    Mendoza      lisaturner@example.net   \n",
       "83           84      Tony   Robinson    timothywiley@example.com   \n",
       "84           85    Nicole    Stevens  colliermichael@example.net   \n",
       "85           86    Philip      Huynh         bgraham@example.net   \n",
       "86           87     Sheri    Johnson     michaelhahn@example.net   \n",
       "\n",
       "                    Phone  \n",
       "0              6088279027  \n",
       "1   001-546-857-6518x5359  \n",
       "2     (699)516-7638x82918  \n",
       "3    +1-586-758-3968x3144  \n",
       "4        900.377.1792x148  \n",
       "..                    ...  \n",
       "82          (309)389-5448  \n",
       "83       382-628-5059x479  \n",
       "84    (324)854-4855x79170  \n",
       "85             8058324167  \n",
       "86       001-567-257-2127  \n",
       "\n",
       "[87 rows x 5 columns]"
      ]
     },
     "execution_count": 154,
     "metadata": {},
     "output_type": "execute_result"
    }
   ],
   "source": [
    "customer_dim"
   ]
  },
  {
   "cell_type": "code",
   "execution_count": 155,
   "id": "49316741",
   "metadata": {},
   "outputs": [
    {
     "data": {
      "application/vnd.microsoft.datawrangler.viewer.v0+json": {
       "columns": [
        {
         "name": "index",
         "rawType": "int64",
         "type": "integer"
        },
        {
         "name": "Loan_id",
         "rawType": "int64",
         "type": "integer"
        },
        {
         "name": "LoanType",
         "rawType": "object",
         "type": "string"
        }
       ],
       "ref": "da177f00-fd4b-4faf-b380-54845f5c2e55",
       "rows": [
        [
         "0",
         "2",
         "Mortgage"
        ],
        [
         "1",
         "3",
         "Personal"
        ],
        [
         "2",
         "5",
         "Auto"
        ],
        [
         "3",
         "6",
         "Auto"
        ],
        [
         "4",
         "7",
         "Personal"
        ],
        [
         "5",
         "8",
         "Personal"
        ],
        [
         "6",
         "9",
         "Personal"
        ],
        [
         "7",
         "10",
         "Personal"
        ],
        [
         "8",
         "11",
         "Personal"
        ],
        [
         "9",
         "12",
         "Mortgage"
        ],
        [
         "10",
         "13",
         "Mortgage"
        ],
        [
         "11",
         "14",
         "Auto"
        ],
        [
         "12",
         "16",
         "Mortgage"
        ],
        [
         "13",
         "17",
         "Auto"
        ],
        [
         "14",
         "19",
         "Mortgage"
        ],
        [
         "15",
         "21",
         "Personal"
        ],
        [
         "16",
         "22",
         "Mortgage"
        ],
        [
         "17",
         "23",
         "Auto"
        ],
        [
         "18",
         "24",
         "Auto"
        ],
        [
         "19",
         "25",
         "Mortgage"
        ],
        [
         "20",
         "28",
         "Mortgage"
        ],
        [
         "21",
         "30",
         "Personal"
        ],
        [
         "22",
         "31",
         "Auto"
        ],
        [
         "23",
         "32",
         "Mortgage"
        ],
        [
         "24",
         "33",
         "Auto"
        ],
        [
         "25",
         "34",
         "Personal"
        ],
        [
         "26",
         "35",
         "Mortgage"
        ],
        [
         "27",
         "37",
         "Mortgage"
        ],
        [
         "28",
         "38",
         "Personal"
        ],
        [
         "29",
         "41",
         "Personal"
        ],
        [
         "30",
         "42",
         "Mortgage"
        ],
        [
         "31",
         "43",
         "Auto"
        ],
        [
         "32",
         "45",
         "Mortgage"
        ],
        [
         "33",
         "46",
         "Auto"
        ],
        [
         "34",
         "47",
         "Auto"
        ],
        [
         "35",
         "48",
         "Personal"
        ],
        [
         "36",
         "50",
         "Personal"
        ],
        [
         "37",
         "51",
         "Auto"
        ],
        [
         "38",
         "52",
         "Auto"
        ],
        [
         "39",
         "53",
         "Mortgage"
        ],
        [
         "40",
         "54",
         "Auto"
        ],
        [
         "41",
         "55",
         "Personal"
        ],
        [
         "42",
         "56",
         "Auto"
        ],
        [
         "43",
         "57",
         "Personal"
        ],
        [
         "44",
         "58",
         "Mortgage"
        ],
        [
         "45",
         "59",
         "Auto"
        ],
        [
         "46",
         "60",
         "Mortgage"
        ],
        [
         "47",
         "61",
         "Auto"
        ],
        [
         "48",
         "62",
         "Auto"
        ],
        [
         "49",
         "63",
         "Auto"
        ]
       ],
       "shape": {
        "columns": 2,
        "rows": 103
       }
      },
      "text/html": [
       "<div>\n",
       "<style scoped>\n",
       "    .dataframe tbody tr th:only-of-type {\n",
       "        vertical-align: middle;\n",
       "    }\n",
       "\n",
       "    .dataframe tbody tr th {\n",
       "        vertical-align: top;\n",
       "    }\n",
       "\n",
       "    .dataframe thead th {\n",
       "        text-align: right;\n",
       "    }\n",
       "</style>\n",
       "<table border=\"1\" class=\"dataframe\">\n",
       "  <thead>\n",
       "    <tr style=\"text-align: right;\">\n",
       "      <th></th>\n",
       "      <th>Loan_id</th>\n",
       "      <th>LoanType</th>\n",
       "    </tr>\n",
       "  </thead>\n",
       "  <tbody>\n",
       "    <tr>\n",
       "      <th>0</th>\n",
       "      <td>2</td>\n",
       "      <td>Mortgage</td>\n",
       "    </tr>\n",
       "    <tr>\n",
       "      <th>1</th>\n",
       "      <td>3</td>\n",
       "      <td>Personal</td>\n",
       "    </tr>\n",
       "    <tr>\n",
       "      <th>2</th>\n",
       "      <td>5</td>\n",
       "      <td>Auto</td>\n",
       "    </tr>\n",
       "    <tr>\n",
       "      <th>3</th>\n",
       "      <td>6</td>\n",
       "      <td>Auto</td>\n",
       "    </tr>\n",
       "    <tr>\n",
       "      <th>4</th>\n",
       "      <td>7</td>\n",
       "      <td>Personal</td>\n",
       "    </tr>\n",
       "    <tr>\n",
       "      <th>...</th>\n",
       "      <td>...</td>\n",
       "      <td>...</td>\n",
       "    </tr>\n",
       "    <tr>\n",
       "      <th>98</th>\n",
       "      <td>125</td>\n",
       "      <td>Mortgage</td>\n",
       "    </tr>\n",
       "    <tr>\n",
       "      <th>99</th>\n",
       "      <td>126</td>\n",
       "      <td>Personal</td>\n",
       "    </tr>\n",
       "    <tr>\n",
       "      <th>100</th>\n",
       "      <td>127</td>\n",
       "      <td>Personal</td>\n",
       "    </tr>\n",
       "    <tr>\n",
       "      <th>101</th>\n",
       "      <td>128</td>\n",
       "      <td>Auto</td>\n",
       "    </tr>\n",
       "    <tr>\n",
       "      <th>102</th>\n",
       "      <td>130</td>\n",
       "      <td>Personal</td>\n",
       "    </tr>\n",
       "  </tbody>\n",
       "</table>\n",
       "<p>103 rows × 2 columns</p>\n",
       "</div>"
      ],
      "text/plain": [
       "     Loan_id  LoanType\n",
       "0          2  Mortgage\n",
       "1          3  Personal\n",
       "2          5      Auto\n",
       "3          6      Auto\n",
       "4          7  Personal\n",
       "..       ...       ...\n",
       "98       125  Mortgage\n",
       "99       126  Personal\n",
       "100      127  Personal\n",
       "101      128      Auto\n",
       "102      130  Personal\n",
       "\n",
       "[103 rows x 2 columns]"
      ]
     },
     "execution_count": 155,
     "metadata": {},
     "output_type": "execute_result"
    }
   ],
   "source": [
    "loan_dim"
   ]
  },
  {
   "cell_type": "code",
   "execution_count": 156,
   "id": "689e7d07",
   "metadata": {},
   "outputs": [
    {
     "data": {
      "application/vnd.microsoft.datawrangler.viewer.v0+json": {
       "columns": [
        {
         "name": "index",
         "rawType": "int64",
         "type": "integer"
        },
        {
         "name": "Customer_id",
         "rawType": "int64",
         "type": "integer"
        },
        {
         "name": "Loan_id",
         "rawType": "int64",
         "type": "integer"
        },
        {
         "name": "StartDate_ID",
         "rawType": "int64",
         "type": "integer"
        },
        {
         "name": "EndDate_ID",
         "rawType": "int64",
         "type": "integer"
        },
        {
         "name": "LoanAmount",
         "rawType": "float64",
         "type": "float"
        },
        {
         "name": "InterestRate",
         "rawType": "float64",
         "type": "float"
        }
       ],
       "ref": "52ece7c6-ad42-42d5-87ea-827f31f35994",
       "rows": [
        [
         "0",
         "2",
         "2",
         "541",
         "10966",
         "32428.9",
         "2.12"
        ],
        [
         "1",
         "2",
         "2",
         "541",
         "10966",
         "32428.9",
         "2.12"
        ],
        [
         "2",
         "2",
         "2",
         "541",
         "10966",
         "32428.9",
         "2.12"
        ],
        [
         "3",
         "2",
         "2",
         "541",
         "10966",
         "32428.9",
         "2.12"
        ],
        [
         "4",
         "2",
         "2",
         "541",
         "10966",
         "32428.9",
         "2.12"
        ],
        [
         "5",
         "2",
         "2",
         "541",
         "10966",
         "32428.9",
         "2.12"
        ],
        [
         "6",
         "2",
         "2",
         "541",
         "10966",
         "32428.9",
         "2.12"
        ],
        [
         "7",
         "2",
         "2",
         "541",
         "10966",
         "32428.9",
         "2.12"
        ],
        [
         "8",
         "2",
         "2",
         "541",
         "10966",
         "32428.9",
         "2.12"
        ],
        [
         "9",
         "2",
         "2",
         "541",
         "10966",
         "32428.9",
         "2.12"
        ],
        [
         "10",
         "2",
         "2",
         "541",
         "10966",
         "32428.9",
         "2.12"
        ],
        [
         "11",
         "2",
         "2",
         "541",
         "10966",
         "32428.9",
         "2.12"
        ],
        [
         "12",
         "2",
         "2",
         "541",
         "10966",
         "32428.9",
         "2.12"
        ],
        [
         "13",
         "2",
         "2",
         "541",
         "10966",
         "32428.9",
         "2.12"
        ],
        [
         "14",
         "2",
         "2",
         "541",
         "10966",
         "32428.9",
         "2.12"
        ],
        [
         "15",
         "2",
         "2",
         "541",
         "10966",
         "32428.9",
         "2.12"
        ],
        [
         "16",
         "2",
         "2",
         "541",
         "10966",
         "32428.9",
         "2.12"
        ],
        [
         "17",
         "2",
         "2",
         "541",
         "10966",
         "32428.9",
         "2.12"
        ],
        [
         "18",
         "2",
         "2",
         "541",
         "10966",
         "32428.9",
         "2.12"
        ],
        [
         "19",
         "2",
         "2",
         "541",
         "10966",
         "32428.9",
         "2.12"
        ],
        [
         "20",
         "2",
         "2",
         "541",
         "10966",
         "32428.9",
         "2.12"
        ],
        [
         "21",
         "2",
         "2",
         "541",
         "10966",
         "32428.9",
         "2.12"
        ],
        [
         "22",
         "2",
         "2",
         "541",
         "10966",
         "32428.9",
         "2.12"
        ],
        [
         "23",
         "2",
         "2",
         "541",
         "10966",
         "32428.9",
         "2.12"
        ],
        [
         "24",
         "2",
         "3",
         "424",
         "6860",
         "31406.77",
         "4.63"
        ],
        [
         "25",
         "2",
         "3",
         "424",
         "6860",
         "31406.77",
         "4.63"
        ],
        [
         "26",
         "2",
         "3",
         "424",
         "6860",
         "31406.77",
         "4.63"
        ],
        [
         "27",
         "2",
         "3",
         "424",
         "6860",
         "31406.77",
         "4.63"
        ],
        [
         "28",
         "2",
         "3",
         "424",
         "6860",
         "31406.77",
         "4.63"
        ],
        [
         "29",
         "2",
         "3",
         "424",
         "6860",
         "31406.77",
         "4.63"
        ],
        [
         "30",
         "2",
         "3",
         "424",
         "6860",
         "31406.77",
         "4.63"
        ],
        [
         "31",
         "2",
         "3",
         "424",
         "6860",
         "31406.77",
         "4.63"
        ],
        [
         "32",
         "2",
         "3",
         "424",
         "6860",
         "31406.77",
         "4.63"
        ],
        [
         "33",
         "2",
         "3",
         "424",
         "6860",
         "31406.77",
         "4.63"
        ],
        [
         "34",
         "2",
         "3",
         "424",
         "6860",
         "31406.77",
         "4.63"
        ],
        [
         "35",
         "2",
         "3",
         "424",
         "6860",
         "31406.77",
         "4.63"
        ],
        [
         "36",
         "2",
         "3",
         "424",
         "6860",
         "31406.77",
         "4.63"
        ],
        [
         "37",
         "2",
         "3",
         "424",
         "6860",
         "31406.77",
         "4.63"
        ],
        [
         "38",
         "2",
         "3",
         "424",
         "6860",
         "31406.77",
         "4.63"
        ],
        [
         "39",
         "2",
         "3",
         "424",
         "6860",
         "31406.77",
         "4.63"
        ],
        [
         "40",
         "2",
         "3",
         "424",
         "6860",
         "31406.77",
         "4.63"
        ],
        [
         "41",
         "2",
         "3",
         "424",
         "6860",
         "31406.77",
         "4.63"
        ],
        [
         "42",
         "2",
         "3",
         "424",
         "6860",
         "31406.77",
         "4.63"
        ],
        [
         "43",
         "2",
         "3",
         "424",
         "6860",
         "31406.77",
         "4.63"
        ],
        [
         "44",
         "2",
         "3",
         "424",
         "6860",
         "31406.77",
         "4.63"
        ],
        [
         "45",
         "2",
         "3",
         "424",
         "6860",
         "31406.77",
         "4.63"
        ],
        [
         "46",
         "2",
         "3",
         "424",
         "6860",
         "31406.77",
         "4.63"
        ],
        [
         "47",
         "2",
         "3",
         "424",
         "6860",
         "31406.77",
         "4.63"
        ],
        [
         "48",
         "2",
         "5",
         "750",
         "6364",
         "27873.08",
         "7.03"
        ],
        [
         "49",
         "2",
         "5",
         "750",
         "6364",
         "27873.08",
         "7.03"
        ]
       ],
       "shape": {
        "columns": 6,
        "rows": 12922
       }
      },
      "text/html": [
       "<div>\n",
       "<style scoped>\n",
       "    .dataframe tbody tr th:only-of-type {\n",
       "        vertical-align: middle;\n",
       "    }\n",
       "\n",
       "    .dataframe tbody tr th {\n",
       "        vertical-align: top;\n",
       "    }\n",
       "\n",
       "    .dataframe thead th {\n",
       "        text-align: right;\n",
       "    }\n",
       "</style>\n",
       "<table border=\"1\" class=\"dataframe\">\n",
       "  <thead>\n",
       "    <tr style=\"text-align: right;\">\n",
       "      <th></th>\n",
       "      <th>Customer_id</th>\n",
       "      <th>Loan_id</th>\n",
       "      <th>StartDate_ID</th>\n",
       "      <th>EndDate_ID</th>\n",
       "      <th>LoanAmount</th>\n",
       "      <th>InterestRate</th>\n",
       "    </tr>\n",
       "  </thead>\n",
       "  <tbody>\n",
       "    <tr>\n",
       "      <th>0</th>\n",
       "      <td>2</td>\n",
       "      <td>2</td>\n",
       "      <td>541</td>\n",
       "      <td>10966</td>\n",
       "      <td>32428.90</td>\n",
       "      <td>2.12</td>\n",
       "    </tr>\n",
       "    <tr>\n",
       "      <th>1</th>\n",
       "      <td>2</td>\n",
       "      <td>2</td>\n",
       "      <td>541</td>\n",
       "      <td>10966</td>\n",
       "      <td>32428.90</td>\n",
       "      <td>2.12</td>\n",
       "    </tr>\n",
       "    <tr>\n",
       "      <th>2</th>\n",
       "      <td>2</td>\n",
       "      <td>2</td>\n",
       "      <td>541</td>\n",
       "      <td>10966</td>\n",
       "      <td>32428.90</td>\n",
       "      <td>2.12</td>\n",
       "    </tr>\n",
       "    <tr>\n",
       "      <th>3</th>\n",
       "      <td>2</td>\n",
       "      <td>2</td>\n",
       "      <td>541</td>\n",
       "      <td>10966</td>\n",
       "      <td>32428.90</td>\n",
       "      <td>2.12</td>\n",
       "    </tr>\n",
       "    <tr>\n",
       "      <th>4</th>\n",
       "      <td>2</td>\n",
       "      <td>2</td>\n",
       "      <td>541</td>\n",
       "      <td>10966</td>\n",
       "      <td>32428.90</td>\n",
       "      <td>2.12</td>\n",
       "    </tr>\n",
       "    <tr>\n",
       "      <th>...</th>\n",
       "      <td>...</td>\n",
       "      <td>...</td>\n",
       "      <td>...</td>\n",
       "      <td>...</td>\n",
       "      <td>...</td>\n",
       "      <td>...</td>\n",
       "    </tr>\n",
       "    <tr>\n",
       "      <th>12917</th>\n",
       "      <td>6</td>\n",
       "      <td>12</td>\n",
       "      <td>929</td>\n",
       "      <td>4745</td>\n",
       "      <td>12965.19</td>\n",
       "      <td>7.43</td>\n",
       "    </tr>\n",
       "    <tr>\n",
       "      <th>12918</th>\n",
       "      <td>6</td>\n",
       "      <td>12</td>\n",
       "      <td>929</td>\n",
       "      <td>4745</td>\n",
       "      <td>12965.19</td>\n",
       "      <td>7.43</td>\n",
       "    </tr>\n",
       "    <tr>\n",
       "      <th>12919</th>\n",
       "      <td>6</td>\n",
       "      <td>12</td>\n",
       "      <td>929</td>\n",
       "      <td>4745</td>\n",
       "      <td>12965.19</td>\n",
       "      <td>7.43</td>\n",
       "    </tr>\n",
       "    <tr>\n",
       "      <th>12920</th>\n",
       "      <td>6</td>\n",
       "      <td>12</td>\n",
       "      <td>929</td>\n",
       "      <td>4745</td>\n",
       "      <td>12965.19</td>\n",
       "      <td>7.43</td>\n",
       "    </tr>\n",
       "    <tr>\n",
       "      <th>12921</th>\n",
       "      <td>6</td>\n",
       "      <td>12</td>\n",
       "      <td>929</td>\n",
       "      <td>4745</td>\n",
       "      <td>12965.19</td>\n",
       "      <td>7.43</td>\n",
       "    </tr>\n",
       "  </tbody>\n",
       "</table>\n",
       "<p>12922 rows × 6 columns</p>\n",
       "</div>"
      ],
      "text/plain": [
       "       Customer_id  Loan_id  StartDate_ID  EndDate_ID  LoanAmount  \\\n",
       "0                2        2           541       10966    32428.90   \n",
       "1                2        2           541       10966    32428.90   \n",
       "2                2        2           541       10966    32428.90   \n",
       "3                2        2           541       10966    32428.90   \n",
       "4                2        2           541       10966    32428.90   \n",
       "...            ...      ...           ...         ...         ...   \n",
       "12917            6       12           929        4745    12965.19   \n",
       "12918            6       12           929        4745    12965.19   \n",
       "12919            6       12           929        4745    12965.19   \n",
       "12920            6       12           929        4745    12965.19   \n",
       "12921            6       12           929        4745    12965.19   \n",
       "\n",
       "       InterestRate  \n",
       "0              2.12  \n",
       "1              2.12  \n",
       "2              2.12  \n",
       "3              2.12  \n",
       "4              2.12  \n",
       "...             ...  \n",
       "12917          7.43  \n",
       "12918          7.43  \n",
       "12919          7.43  \n",
       "12920          7.43  \n",
       "12921          7.43  \n",
       "\n",
       "[12922 rows x 6 columns]"
      ]
     },
     "execution_count": 156,
     "metadata": {},
     "output_type": "execute_result"
    }
   ],
   "source": [
    "loan_fact_table"
   ]
  },
  {
   "cell_type": "markdown",
   "id": "ac129b8e",
   "metadata": {},
   "source": [
    "## Data Loading into RDMBS using psycopg2"
   ]
  },
  {
   "cell_type": "code",
   "execution_count": 157,
   "id": "b93667e4",
   "metadata": {},
   "outputs": [
    {
     "name": "stdout",
     "output_type": "stream",
     "text": [
      "Defaulting to user installation because normal site-packages is not writeable\n",
      "Requirement already satisfied: psycopg2-binary in c:\\users\\david ibanga\\appdata\\roaming\\python\\python312\\site-packages (2.9.10)\n",
      "Defaulting to user installation because normal site-packages is not writeable\n",
      "Requirement already satisfied: dotenv in c:\\users\\david ibanga\\appdata\\roaming\\python\\python312\\site-packages (0.9.9)\n",
      "Requirement already satisfied: python-dotenv in c:\\programdata\\anaconda3\\lib\\site-packages (from dotenv) (0.21.0)\n"
     ]
    }
   ],
   "source": [
    "!pip install psycopg2-binary\n",
    "!pip install dotenv"
   ]
  },
  {
   "cell_type": "code",
   "execution_count": 158,
   "id": "fb38188f",
   "metadata": {},
   "outputs": [],
   "source": [
    "import os\n",
    "import psycopg2\n",
    "from dotenv import load_dotenv\n",
    "\n",
    "# Load environment variables from .env file\n",
    "load_dotenv()\n",
    "\n",
    "# Load db params from environment\n",
    "db_params = {\n",
    "    'username': os.getenv('DB_USERNAME'),\n",
    "    'password': os.getenv('DB_PASSWORD'),\n",
    "    'host': os.getenv('DB_HOST'),\n",
    "    'port': os.getenv('DB_PORT'),\n",
    "    'database': os.getenv('DB_NAME')\n",
    "}\n",
    "\n",
    "#Define databse connection parameters including the database name\n",
    "default_db_url = (\n",
    "    f\"postgresql://{db_params['username']}:{db_params['password']}\"\n",
    "    f\"@{db_params['host']}:{db_params['port']}/postgres\"\n",
    ")"
   ]
  },
  {
   "cell_type": "code",
   "execution_count": null,
   "id": "c3d79a12",
   "metadata": {},
   "outputs": [
    {
     "name": "stdout",
     "output_type": "stream",
     "text": [
      "DB Params: {'username': 'postgres', 'password': 'D030avbang@@', 'host': 'localhost', 'port': '5432', 'database': 'zulo_bank'}\n",
      "✅ Database created successfully\n"
     ]
    }
   ],
   "source": [
    "\n",
    "try:\n",
    "    # Connect to 'postgres' to check/create new database\n",
    "    conn = psycopg2.connect(\n",
    "        dbname='postgres',\n",
    "        user=db_params['username'],\n",
    "        password=db_params['password'],\n",
    "        host=db_params['host'],\n",
    "        port=db_params['port']\n",
    "    )\n",
    "    conn.autocommit = True\n",
    "    cur = conn.cursor()\n",
    "\n",
    "    # Check if the database already exists\n",
    "    cur.execute(\"SELECT 1 FROM pg_catalog.pg_database WHERE datname = %s\", (db_params['database'],))\n",
    "    exists = cur.fetchone()\n",
    "\n",
    "    if not exists:\n",
    "        cur.execute(f\"CREATE DATABASE {db_params['database']}\")\n",
    "        print(\"✅ Database created successfully\")\n",
    "    else:\n",
    "        print(\"ℹ️ Database already exists\")\n",
    "\n",
    "    cur.close()\n",
    "    conn.close()\n",
    "\n",
    "except Exception as e:\n",
    "    print(f\"❌ An error occurred: {e}\")\n",
    "\n"
   ]
  }
 ],
 "metadata": {
  "kernelspec": {
   "display_name": "base",
   "language": "python",
   "name": "python3"
  },
  "language_info": {
   "codemirror_mode": {
    "name": "ipython",
    "version": 3
   },
   "file_extension": ".py",
   "mimetype": "text/x-python",
   "name": "python",
   "nbconvert_exporter": "python",
   "pygments_lexer": "ipython3",
   "version": "3.12.7"
  }
 },
 "nbformat": 4,
 "nbformat_minor": 5
}
